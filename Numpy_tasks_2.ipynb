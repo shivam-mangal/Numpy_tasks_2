{
  "cells": [
    {
      "cell_type": "markdown",
      "metadata": {
        "id": "view-in-github",
        "colab_type": "text"
      },
      "source": [
        "<a href=\"https://colab.research.google.com/github/shivam-mangal/Numpy_tasks_2/blob/main/Numpy_tasks_2.ipynb\" target=\"_parent\"><img src=\"https://colab.research.google.com/assets/colab-badge.svg\" alt=\"Open In Colab\"/></a>"
      ]
    },
    {
      "cell_type": "markdown",
      "metadata": {
        "id": "bEqsg_u5XPFJ"
      },
      "source": [
        "# Numpy\n",
        "\n"
      ]
    },
    {
      "cell_type": "markdown",
      "metadata": {
        "id": "q5iBftT6XPFM"
      },
      "source": [
        "#### 1. Import the numpy package under the name `np` (★☆☆) \n",
        "(**hint**: import … as …)"
      ]
    },
    {
      "cell_type": "code",
      "execution_count": 1,
      "metadata": {
        "collapsed": true,
        "id": "P3SPefaaXPFM"
      },
      "outputs": [],
      "source": [
        "import numpy as np"
      ]
    },
    {
      "cell_type": "markdown",
      "metadata": {
        "id": "zxj_1trfXPFN"
      },
      "source": [
        "#### 2. Print the numpy version and the configuration (★☆☆) \n",
        "(**hint**: np.\\_\\_version\\_\\_, np.show\\_config)"
      ]
    },
    {
      "cell_type": "code",
      "execution_count": 2,
      "metadata": {
        "id": "LOM1xr1AXPFN",
        "colab": {
          "base_uri": "https://localhost:8080/"
        },
        "outputId": "d14b8604-e3fe-41c5-94c6-f4bc0c975d42"
      },
      "outputs": [
        {
          "output_type": "stream",
          "name": "stdout",
          "text": [
            "1.21.6\n",
            "<function show at 0x7f4fdbecc3b0>\n"
          ]
        }
      ],
      "source": [
        "print(np.__version__)\n",
        "print(np.show_config)"
      ]
    },
    {
      "cell_type": "markdown",
      "metadata": {
        "id": "_nNpN7-OXPFO"
      },
      "source": [
        "#### 3. Create a null vector of size 10 (★☆☆) \n",
        "(**hint**: np.zeros)"
      ]
    },
    {
      "cell_type": "code",
      "execution_count": 3,
      "metadata": {
        "id": "TOiAAeotXPFO",
        "colab": {
          "base_uri": "https://localhost:8080/"
        },
        "outputId": "c400861e-1cff-4b93-ce87-fca16f453213"
      },
      "outputs": [
        {
          "output_type": "execute_result",
          "data": {
            "text/plain": [
              "array([0., 0., 0., 0., 0., 0., 0., 0., 0., 0.])"
            ]
          },
          "metadata": {},
          "execution_count": 3
        }
      ],
      "source": [
        "arr=np.zeros(10)\n",
        "arr"
      ]
    },
    {
      "cell_type": "markdown",
      "metadata": {
        "id": "jvG_yZRdXPFO"
      },
      "source": [
        "#### 4.  How to find the memory size of any array (★☆☆) \n",
        "(**hint**: size, itemsize)"
      ]
    },
    {
      "cell_type": "code",
      "execution_count": 4,
      "metadata": {
        "id": "L3MD6l3nXPFP",
        "colab": {
          "base_uri": "https://localhost:8080/"
        },
        "outputId": "33099902-c948-42aa-eb2a-8690ce8d3e1d"
      },
      "outputs": [
        {
          "output_type": "stream",
          "name": "stdout",
          "text": [
            "6\n",
            "8\n",
            "48\n"
          ]
        }
      ],
      "source": [
        "x=np.array([[100,20,34],\n",
        "            [300,400,600]])\n",
        "print(x.size)\n",
        "print(x.itemsize)\n",
        "#memory size of numpy array\n",
        "print(x.size*x.itemsize)"
      ]
    },
    {
      "cell_type": "markdown",
      "metadata": {
        "id": "F5YxYqaqXPFP"
      },
      "source": [
        "#### 5.  How to get the documentation of the numpy add function from the command line? (★☆☆) \n",
        "(**hint**: np.info)"
      ]
    },
    {
      "cell_type": "code",
      "execution_count": 5,
      "metadata": {
        "collapsed": true,
        "id": "-yyKCZBEXPFP",
        "colab": {
          "base_uri": "https://localhost:8080/"
        },
        "outputId": "dcabf50b-cd2b-40d6-c5f7-6e6741d98048"
      },
      "outputs": [
        {
          "output_type": "stream",
          "name": "stdout",
          "text": [
            "add(x1, x2, /, out=None, *, where=True, casting='same_kind', order='K', dtype=None, subok=True[, signature, extobj])\n",
            "\n",
            "Add arguments element-wise.\n",
            "\n",
            "Parameters\n",
            "----------\n",
            "x1, x2 : array_like\n",
            "    The arrays to be added.\n",
            "    If ``x1.shape != x2.shape``, they must be broadcastable to a common\n",
            "    shape (which becomes the shape of the output).\n",
            "out : ndarray, None, or tuple of ndarray and None, optional\n",
            "    A location into which the result is stored. If provided, it must have\n",
            "    a shape that the inputs broadcast to. If not provided or None,\n",
            "    a freshly-allocated array is returned. A tuple (possible only as a\n",
            "    keyword argument) must have length equal to the number of outputs.\n",
            "where : array_like, optional\n",
            "    This condition is broadcast over the input. At locations where the\n",
            "    condition is True, the `out` array will be set to the ufunc result.\n",
            "    Elsewhere, the `out` array will retain its original value.\n",
            "    Note that if an uninitialized `out` array is created via the default\n",
            "    ``out=None``, locations within it where the condition is False will\n",
            "    remain uninitialized.\n",
            "**kwargs\n",
            "    For other keyword-only arguments, see the\n",
            "    :ref:`ufunc docs <ufuncs.kwargs>`.\n",
            "\n",
            "Returns\n",
            "-------\n",
            "add : ndarray or scalar\n",
            "    The sum of `x1` and `x2`, element-wise.\n",
            "    This is a scalar if both `x1` and `x2` are scalars.\n",
            "\n",
            "Notes\n",
            "-----\n",
            "Equivalent to `x1` + `x2` in terms of array broadcasting.\n",
            "\n",
            "Examples\n",
            "--------\n",
            ">>> np.add(1.0, 4.0)\n",
            "5.0\n",
            ">>> x1 = np.arange(9.0).reshape((3, 3))\n",
            ">>> x2 = np.arange(3.0)\n",
            ">>> np.add(x1, x2)\n",
            "array([[  0.,   2.,   4.],\n",
            "       [  3.,   5.,   7.],\n",
            "       [  6.,   8.,  10.]])\n",
            "\n",
            "The ``+`` operator can be used as a shorthand for ``np.add`` on ndarrays.\n",
            "\n",
            ">>> x1 = np.arange(9.0).reshape((3, 3))\n",
            ">>> x2 = np.arange(3.0)\n",
            ">>> x1 + x2\n",
            "array([[ 0.,  2.,  4.],\n",
            "       [ 3.,  5.,  7.],\n",
            "       [ 6.,  8., 10.]])\n",
            "None\n"
          ]
        }
      ],
      "source": [
        "print(np.info(np.add))"
      ]
    },
    {
      "cell_type": "markdown",
      "metadata": {
        "id": "MiphYa5gXPFQ"
      },
      "source": [
        "#### 6.  Create a null vector of size 10 but the fifth value which is 1 (★☆☆) \n",
        "(**hint**: array\\[4\\])"
      ]
    },
    {
      "cell_type": "code",
      "execution_count": 6,
      "metadata": {
        "id": "XUCp7WgVXPFQ",
        "colab": {
          "base_uri": "https://localhost:8080/"
        },
        "outputId": "548ed86e-423a-488e-f873-4c1b597f98d9"
      },
      "outputs": [
        {
          "output_type": "stream",
          "name": "stdout",
          "text": [
            "[0. 0. 0. 0. 1. 0. 0. 0. 0. 0.]\n"
          ]
        }
      ],
      "source": [
        "x=np.zeros(10)\n",
        "x[4]=1\n",
        "print(x)"
      ]
    },
    {
      "cell_type": "markdown",
      "metadata": {
        "id": "_czlzcm7XPFQ"
      },
      "source": [
        "#### 7.  Create a vector with values ranging from 10 to 49 (★☆☆) \n",
        "(**hint**: np.arange)"
      ]
    },
    {
      "cell_type": "code",
      "execution_count": 7,
      "metadata": {
        "id": "fEAtlD-uXPFQ",
        "colab": {
          "base_uri": "https://localhost:8080/"
        },
        "outputId": "f1fb92f0-c633-458a-bbd4-9b9524d2f670"
      },
      "outputs": [
        {
          "output_type": "execute_result",
          "data": {
            "text/plain": [
              "array([10, 11, 12, 13, 14, 15, 16, 17, 18, 19, 20, 21, 22, 23, 24, 25, 26,\n",
              "       27, 28, 29, 30, 31, 32, 33, 34, 35, 36, 37, 38, 39, 40, 41, 42, 43,\n",
              "       44, 45, 46, 47, 48, 49])"
            ]
          },
          "metadata": {},
          "execution_count": 7
        }
      ],
      "source": [
        "arr=np.arange(10,50)\n",
        "arr"
      ]
    },
    {
      "cell_type": "markdown",
      "metadata": {
        "id": "s2lkAQ4HXPFR"
      },
      "source": [
        "#### 8.  Reverse a vector (first element becomes last) (★☆☆) \n",
        "(**hint**: array\\[::-1\\])"
      ]
    },
    {
      "cell_type": "code",
      "execution_count": 8,
      "metadata": {
        "id": "99VVLDU2XPFR",
        "colab": {
          "base_uri": "https://localhost:8080/"
        },
        "outputId": "cf58109f-2b0f-4463-ea9f-29de4e7fa786"
      },
      "outputs": [
        {
          "output_type": "execute_result",
          "data": {
            "text/plain": [
              "array([49, 48, 47, 46, 45, 44, 43, 42, 41, 40, 39, 38, 37, 36, 35, 34, 33,\n",
              "       32, 31, 30, 29, 28, 27, 26, 25, 24, 23, 22, 21, 20, 19, 18, 17, 16,\n",
              "       15, 14, 13, 12, 11, 10,  9,  8,  7,  6,  5,  4,  3,  2,  1,  0])"
            ]
          },
          "metadata": {},
          "execution_count": 8
        }
      ],
      "source": [
        "arr=np.arange(50)\n",
        "arr[::-1]"
      ]
    },
    {
      "cell_type": "markdown",
      "metadata": {
        "id": "wMuYRSqOXPFR"
      },
      "source": [
        "#### 9.  Create a 3x3 matrix with values ranging from 0 to 8 (★☆☆) \n",
        "(**hint**: reshape)"
      ]
    },
    {
      "cell_type": "code",
      "execution_count": 9,
      "metadata": {
        "id": "Lpom4rTnXPFR",
        "colab": {
          "base_uri": "https://localhost:8080/"
        },
        "outputId": "20eb9725-74ea-4c2a-fb1a-1cd303cd9dee"
      },
      "outputs": [
        {
          "output_type": "stream",
          "name": "stdout",
          "text": [
            "[[0 1 2]\n",
            " [3 4 5]\n",
            " [6 7 8]]\n"
          ]
        }
      ],
      "source": [
        "arr=np.arange(9).reshape(3,3)\n",
        "print(arr)"
      ]
    },
    {
      "cell_type": "markdown",
      "metadata": {
        "id": "HRY78KPWXPFR"
      },
      "source": [
        "#### 10. Find indices of non-zero elements from \\[1,2,0,0,4,0\\] (★☆☆) \n",
        "(**hint**: np.nonzero)"
      ]
    },
    {
      "cell_type": "code",
      "execution_count": 10,
      "metadata": {
        "id": "MRakogtwXPFS",
        "colab": {
          "base_uri": "https://localhost:8080/"
        },
        "outputId": "bb1d44d9-dc66-4aa6-e743-a73d6440a709"
      },
      "outputs": [
        {
          "output_type": "execute_result",
          "data": {
            "text/plain": [
              "(array([0, 1, 4]),)"
            ]
          },
          "metadata": {},
          "execution_count": 10
        }
      ],
      "source": [
        "a=[1,2,0,0,4,0]\n",
        "x=np.nonzero(a)\n",
        "x"
      ]
    },
    {
      "cell_type": "markdown",
      "metadata": {
        "id": "6x9ODwyFXPFS"
      },
      "source": [
        "#### 11. Create a 3x3 identity matrix (★☆☆) \n",
        "(**hint**: np.eye)"
      ]
    },
    {
      "cell_type": "code",
      "execution_count": 11,
      "metadata": {
        "id": "QSF8rsCSXPFS",
        "colab": {
          "base_uri": "https://localhost:8080/"
        },
        "outputId": "a5c23066-3683-4c43-e810-09ef0bd4ad1e"
      },
      "outputs": [
        {
          "output_type": "stream",
          "name": "stdout",
          "text": [
            "[[1. 0. 0.]\n",
            " [0. 1. 0.]\n",
            " [0. 0. 1.]]\n"
          ]
        }
      ],
      "source": [
        "import numpy as np\n",
        "arr=np.eye(3,3)\n",
        "print(arr)"
      ]
    },
    {
      "cell_type": "markdown",
      "metadata": {
        "id": "wp9sFKelXPFS"
      },
      "source": [
        "#### 12. Create a 3x3x3 array with random values (★☆☆) \n",
        "(**hint**: np.random.random)"
      ]
    },
    {
      "cell_type": "code",
      "execution_count": 12,
      "metadata": {
        "collapsed": true,
        "id": "1rH0xGS8XPFS",
        "colab": {
          "base_uri": "https://localhost:8080/"
        },
        "outputId": "53011a03-c91e-44c8-a746-a6e58f4b5805"
      },
      "outputs": [
        {
          "output_type": "stream",
          "name": "stdout",
          "text": [
            "[[[0.49110245 0.89714321 0.88629556]\n",
            "  [0.89098374 0.71141769 0.69896966]\n",
            "  [0.101066   0.76575424 0.93247689]]\n",
            "\n",
            " [[0.3710764  0.60955836 0.70071119]\n",
            "  [0.01744811 0.09681649 0.25078947]\n",
            "  [0.58433833 0.33798996 0.99729842]]\n",
            "\n",
            " [[0.12797121 0.42513675 0.66975023]\n",
            "  [0.18997061 0.22198767 0.82322039]\n",
            "  [0.53079583 0.48373165 0.56468102]]]\n"
          ]
        }
      ],
      "source": [
        "arr=np.random.random((3,3,3))\n",
        "print(arr)"
      ]
    },
    {
      "cell_type": "markdown",
      "metadata": {
        "id": "6hVjXxVGXPFS"
      },
      "source": [
        "#### 13. Create a 10x10 array with random values and find the minimum and maximum values (★☆☆) \n",
        "(**hint**: min, max)"
      ]
    },
    {
      "cell_type": "code",
      "execution_count": 13,
      "metadata": {
        "id": "gKjkVwxpXPFS",
        "colab": {
          "base_uri": "https://localhost:8080/"
        },
        "outputId": "7056c213-516a-44d0-ac85-0e5945f21911"
      },
      "outputs": [
        {
          "output_type": "stream",
          "name": "stdout",
          "text": [
            "0.002629655546471432\n",
            "0.9763268401295168\n"
          ]
        }
      ],
      "source": [
        "arr=np.random.random((10,10))\n",
        "print(arr.min())\n",
        "print(arr.max())"
      ]
    },
    {
      "cell_type": "markdown",
      "metadata": {
        "id": "8c-gu7CJXPFS"
      },
      "source": [
        "#### 14. Create a random vector of size 30 and find the mean value (★☆☆) \n",
        "(**hint**: mean)"
      ]
    },
    {
      "cell_type": "code",
      "execution_count": 14,
      "metadata": {
        "id": "T-3YXMH3XPFT",
        "colab": {
          "base_uri": "https://localhost:8080/"
        },
        "outputId": "4c0e122d-1afd-4ce3-c733-f548b1f41feb"
      },
      "outputs": [
        {
          "output_type": "execute_result",
          "data": {
            "text/plain": [
              "0.43764494816809274"
            ]
          },
          "metadata": {},
          "execution_count": 14
        }
      ],
      "source": [
        "x=np.random.random(30)\n",
        "x.mean()"
      ]
    },
    {
      "cell_type": "markdown",
      "metadata": {
        "id": "pmu0_T3KXPFT"
      },
      "source": [
        "#### 15. Create a 2d array with 1 on the border and 0 inside (★☆☆) \n",
        "(**hint**: array\\[1:-1, 1:-1\\])"
      ]
    },
    {
      "cell_type": "code",
      "execution_count": null,
      "metadata": {
        "id": "7GdKbpCLXPFT"
      },
      "outputs": [],
      "source": [
        "arr=np.ones((5,5))\n",
        "arr[1:-1,1:-1]=0\n",
        "arr"
      ]
    },
    {
      "cell_type": "markdown",
      "metadata": {
        "id": "Z2b8YLz0XPFT"
      },
      "source": [
        "#### 16. How to add a border (filled with 0's) around an existing array? (★☆☆) \n",
        "(**hint**: np.pad)"
      ]
    },
    {
      "cell_type": "code",
      "execution_count": 15,
      "metadata": {
        "id": "fjaKZ9z0XPFT",
        "colab": {
          "base_uri": "https://localhost:8080/"
        },
        "outputId": "e015f8c2-c8c7-450e-f030-3da289dd0208"
      },
      "outputs": [
        {
          "output_type": "execute_result",
          "data": {
            "text/plain": [
              "array([[0., 0., 0., 0., 0.],\n",
              "       [0., 1., 1., 1., 0.],\n",
              "       [0., 1., 1., 1., 0.],\n",
              "       [0., 1., 1., 1., 0.],\n",
              "       [0., 0., 0., 0., 0.]])"
            ]
          },
          "metadata": {},
          "execution_count": 15
        }
      ],
      "source": [
        "arr=np.ones((3,3))\n",
        "x=np.pad(arr,pad_width=1,mode=\"constant\",constant_values=0)\n",
        "x\n"
      ]
    },
    {
      "cell_type": "markdown",
      "metadata": {
        "id": "kL67Tjo3XPFT"
      },
      "source": [
        "#### 17. What is the result of the following expression? (★☆☆) \n",
        "(**hint**: NaN = not a number, inf = infinity)"
      ]
    },
    {
      "cell_type": "markdown",
      "metadata": {
        "id": "YbDft6TkXPFT"
      },
      "source": [
        "```python\n",
        "0 * np.nan\n",
        "np.nan == np.nan\n",
        "np.inf > np.nan\n",
        "np.nan - np.nan\n",
        "0.3 == 3 * 0.1\n",
        "```"
      ]
    },
    {
      "cell_type": "code",
      "execution_count": 16,
      "metadata": {
        "id": "jRGkZIqIXPFT",
        "colab": {
          "base_uri": "https://localhost:8080/"
        },
        "outputId": "3d4a59ed-ab39-4863-e481-815ceab45f7d"
      },
      "outputs": [
        {
          "output_type": "stream",
          "name": "stdout",
          "text": [
            "nan\n",
            "False\n",
            "False\n",
            "nan\n",
            "False\n"
          ]
        }
      ],
      "source": [
        "print(0 * np.nan)\n",
        "print(np.nan == np.nan)\n",
        "print(np.inf > np.nan)\n",
        "print(np.nan - np.nan)\n",
        "print(0.3 == 3 * 0.1)"
      ]
    },
    {
      "cell_type": "markdown",
      "metadata": {
        "id": "7j_XYCM_XPFT"
      },
      "source": [
        "#### 18. Create a 5x5 matrix with values 1,2,3,4 just below the diagonal (★☆☆) \n",
        "(**hint**: np.diag)"
      ]
    },
    {
      "cell_type": "code",
      "execution_count": 17,
      "metadata": {
        "id": "zXd2YCrnXPFU",
        "colab": {
          "base_uri": "https://localhost:8080/"
        },
        "outputId": "45981e27-38d5-4509-bc81-f5304602e428"
      },
      "outputs": [
        {
          "output_type": "execute_result",
          "data": {
            "text/plain": [
              "array([[0, 0, 0, 0, 0],\n",
              "       [1, 0, 0, 0, 0],\n",
              "       [0, 2, 0, 0, 0],\n",
              "       [0, 0, 3, 0, 0],\n",
              "       [0, 0, 0, 4, 0]])"
            ]
          },
          "metadata": {},
          "execution_count": 17
        }
      ],
      "source": [
        "x=np.diag(1+np.arange(4),k=-1)\n",
        "x"
      ]
    },
    {
      "cell_type": "markdown",
      "metadata": {
        "id": "hoK4e9MFXPFU"
      },
      "source": [
        "#### 19. Create a 8x8 matrix and fill it with a checkerboard pattern (★☆☆) \n",
        "(**hint**: array\\[::2\\])"
      ]
    },
    {
      "cell_type": "code",
      "execution_count": 18,
      "metadata": {
        "id": "KQmw5GulXPFU",
        "colab": {
          "base_uri": "https://localhost:8080/"
        },
        "outputId": "c3ea293c-7a5b-49d2-e77c-e9a130ea401b"
      },
      "outputs": [
        {
          "output_type": "execute_result",
          "data": {
            "text/plain": [
              "array([[0, 1, 0, 1, 0, 1, 0, 1],\n",
              "       [1, 0, 1, 0, 1, 0, 1, 0],\n",
              "       [0, 1, 0, 1, 0, 1, 0, 1],\n",
              "       [1, 0, 1, 0, 1, 0, 1, 0],\n",
              "       [0, 1, 0, 1, 0, 1, 0, 1],\n",
              "       [1, 0, 1, 0, 1, 0, 1, 0],\n",
              "       [0, 1, 0, 1, 0, 1, 0, 1],\n",
              "       [1, 0, 1, 0, 1, 0, 1, 0]])"
            ]
          },
          "metadata": {},
          "execution_count": 18
        }
      ],
      "source": [
        "arr=np.zeros((8,8),dtype=int)\n",
        "arr[1::2,::2]=1\n",
        "arr[::2,1::2]=1\n",
        "arr"
      ]
    },
    {
      "cell_type": "markdown",
      "metadata": {
        "id": "iP8l_Tn-XPFU"
      },
      "source": [
        "#### 20. Consider a (6,7,8) shape array, what is the index (x,y,z) of the 100th element? \n",
        "(**hint**: np.unravel_index)"
      ]
    },
    {
      "cell_type": "code",
      "execution_count": 19,
      "metadata": {
        "id": "igXTpG2VXPFU",
        "colab": {
          "base_uri": "https://localhost:8080/"
        },
        "outputId": "03c87a35-0ecb-4485-87b5-80f64a764264"
      },
      "outputs": [
        {
          "output_type": "stream",
          "name": "stdout",
          "text": [
            "(1, 5, 4)\n"
          ]
        }
      ],
      "source": [
        "print(np.unravel_index(100,(6,7,8)))"
      ]
    },
    {
      "cell_type": "markdown",
      "metadata": {
        "id": "w4cqXrePXPFU"
      },
      "source": [
        "#### 21. Create a checkerboard 8x8 matrix using the tile function (★☆☆) \n",
        "(**hint**: np.tile)"
      ]
    },
    {
      "cell_type": "code",
      "execution_count": 20,
      "metadata": {
        "id": "ESGNGb8dXPFU",
        "colab": {
          "base_uri": "https://localhost:8080/"
        },
        "outputId": "d40797b1-b3c9-4d20-9bba-f6b33b4b5459"
      },
      "outputs": [
        {
          "output_type": "stream",
          "name": "stdout",
          "text": [
            "[[0 1 0 1 0 1 0 1]\n",
            " [1 0 1 0 1 0 1 0]\n",
            " [0 1 0 1 0 1 0 1]\n",
            " [1 0 1 0 1 0 1 0]\n",
            " [0 1 0 1 0 1 0 1]\n",
            " [1 0 1 0 1 0 1 0]\n",
            " [0 1 0 1 0 1 0 1]\n",
            " [1 0 1 0 1 0 1 0]]\n"
          ]
        }
      ],
      "source": [
        "x=np.tile(np.array([[0,1],[1,0]]),(4,4))\n",
        "print(x)"
      ]
    },
    {
      "cell_type": "markdown",
      "metadata": {
        "id": "j43IwGY1XPFU"
      },
      "source": [
        "#### 22. Normalize a 5x5 random matrix (★☆☆) \n",
        "(**hint**: (x - min) / (max - min))"
      ]
    },
    {
      "cell_type": "code",
      "execution_count": 21,
      "metadata": {
        "id": "5owmFmARXPFU",
        "colab": {
          "base_uri": "https://localhost:8080/"
        },
        "outputId": "0ec52c68-3086-46e7-e125-21ebc54d0e8e"
      },
      "outputs": [
        {
          "output_type": "stream",
          "name": "stdout",
          "text": [
            "[[0.06674237 0.86900599 0.46980055 0.52855449 0.39283081]\n",
            " [1.         0.38549401 0.9769322  0.98592703 0.36609071]\n",
            " [0.8072686  0.08361008 0.38397525 0.3232754  0.26879716]\n",
            " [0.927426   0.32286312 0.30069418 0.18692942 0.9705395 ]\n",
            " [0.44475216 0.42754295 0.         0.70643279 0.82918565]]\n"
          ]
        }
      ],
      "source": [
        "X=np.random.random((5,5))\n",
        "Xmin,Xmax= X.min(), X.max()\n",
        "X= (X- Xmin)/(Xmax - Xmin)\n",
        "print(X)\n"
      ]
    },
    {
      "cell_type": "markdown",
      "metadata": {
        "id": "czafVx1cXPFV"
      },
      "source": [
        "#### 23. Create a custom dtype that describes a color as four unsigned bytes (RGBA) (★☆☆) \n",
        "(**hint**: np.dtype)"
      ]
    },
    {
      "cell_type": "code",
      "execution_count": 22,
      "metadata": {
        "collapsed": true,
        "id": "NaaoUckwXPFV",
        "colab": {
          "base_uri": "https://localhost:8080/"
        },
        "outputId": "ab26f09c-594b-4e00-85da-8f9896907585"
      },
      "outputs": [
        {
          "output_type": "stream",
          "name": "stdout",
          "text": [
            "[('R', 'u1'), ('G', 'u1'), ('B', 'u1'), ('A', 'u1')]\n"
          ]
        }
      ],
      "source": [
        "color=np.dtype([(\"R\",np.ubyte),\n",
        "                (\"G\",np.ubyte),\n",
        "                (\"B\",np.ubyte),\n",
        "                (\"A\",np.ubyte)])\n",
        "print(color)"
      ]
    },
    {
      "cell_type": "markdown",
      "metadata": {
        "id": "kKC6I7pjXPFV"
      },
      "source": [
        "#### 24. Multiply a 5x3 matrix by a 3x2 matrix (real matrix product) (★☆☆) \n",
        "(**hint**: np.dot | @)"
      ]
    },
    {
      "cell_type": "code",
      "execution_count": 23,
      "metadata": {
        "id": "EBIvNbJkXPFV",
        "colab": {
          "base_uri": "https://localhost:8080/"
        },
        "outputId": "1016bf73-bcff-49c3-ab6d-00e0ba0e42a2"
      },
      "outputs": [
        {
          "output_type": "stream",
          "name": "stdout",
          "text": [
            "[[ 10  13]\n",
            " [ 28  40]\n",
            " [ 46  67]\n",
            " [ 64  94]\n",
            " [ 82 121]]\n"
          ]
        }
      ],
      "source": [
        "arr=np.arange(15).reshape((5,3))\n",
        "arr1=np.arange(6).reshape((3,2))\n",
        "print(np.dot(arr,arr1))"
      ]
    },
    {
      "cell_type": "markdown",
      "metadata": {
        "id": "Lqm2gX45XPFV"
      },
      "source": [
        "#### 25. Given a 1D array, negate all elements which are between 3 and 8, in place. (★☆☆) \n",
        "(**hint**: >, <=)"
      ]
    },
    {
      "cell_type": "code",
      "execution_count": 24,
      "metadata": {
        "id": "jktqmQdyXPFV",
        "colab": {
          "base_uri": "https://localhost:8080/"
        },
        "outputId": "4802e552-41a7-4203-db0b-f9af9f0f121f"
      },
      "outputs": [
        {
          "output_type": "stream",
          "name": "stdout",
          "text": [
            "[ 0  1  2 -3 -4 -5 -6 -7  8  9 10]\n"
          ]
        }
      ],
      "source": [
        "arr= np.arange(11)\n",
        "arr[(3<=arr)&(8>arr)]*=-1\n",
        "print(arr)"
      ]
    },
    {
      "cell_type": "markdown",
      "metadata": {
        "id": "DXMA2aCcXPFV"
      },
      "source": [
        "#### 26. What is the output of the following script? (★☆☆) \n",
        "(**hint**: np.sum)"
      ]
    },
    {
      "cell_type": "markdown",
      "metadata": {
        "id": "HYi1hab7XPFV"
      },
      "source": [
        "```python\n",
        "# Author: Jake VanderPlas\n",
        "\n",
        "print(sum(range(5),-1))\n",
        "from numpy import *\n",
        "print(sum(range(5),-1))\n",
        "```"
      ]
    },
    {
      "cell_type": "code",
      "execution_count": 25,
      "metadata": {
        "id": "fgAad6nwXPFV",
        "colab": {
          "base_uri": "https://localhost:8080/"
        },
        "outputId": "4a4ab3b7-5699-4f66-985f-ebd7cd98d5b9"
      },
      "outputs": [
        {
          "output_type": "stream",
          "name": "stdout",
          "text": [
            "9\n",
            "10\n"
          ]
        }
      ],
      "source": [
        "print(sum(range(5),-1))\n",
        "from numpy import *\n",
        "print(sum(range(5),-1))"
      ]
    },
    {
      "cell_type": "markdown",
      "metadata": {
        "id": "9EyBxvXFXPFV"
      },
      "source": [
        "#### 27. Consider an integer vector Z, which of these expressions are legal? (★☆☆)"
      ]
    },
    {
      "cell_type": "markdown",
      "metadata": {
        "id": "T8wZEenxXPFW"
      },
      "source": [
        "```python\n",
        "Z**Z\n",
        "2 << Z >> 2\n",
        "Z <- Z\n",
        "1j*Z\n",
        "Z/1/1\n",
        "Z<Z>Z\n",
        "```"
      ]
    },
    {
      "cell_type": "code",
      "execution_count": 26,
      "metadata": {
        "id": "_KuO62m6XPFW",
        "colab": {
          "base_uri": "https://localhost:8080/",
          "height": 339
        },
        "outputId": "7ecf37c5-c53a-46ca-f4de-1bf845178311"
      },
      "outputs": [
        {
          "output_type": "stream",
          "name": "stdout",
          "text": [
            "[           1            1            4           27          256\n",
            "         3125        46656       823543     16777216    387420489\n",
            "  10000000000 285311670611]\n",
            "[   0    1    2    4    8   16   32   64  128  256  512 1024]\n",
            "[False False False False False False False False False False False False]\n",
            "[0. +0.j 0. +1.j 0. +2.j 0. +3.j 0. +4.j 0. +5.j 0. +6.j 0. +7.j 0. +8.j\n",
            " 0. +9.j 0.+10.j 0.+11.j]\n",
            "[ 0.  1.  2.  3.  4.  5.  6.  7.  8.  9. 10. 11.]\n"
          ]
        },
        {
          "output_type": "error",
          "ename": "ValueError",
          "evalue": "ignored",
          "traceback": [
            "\u001b[0;31m---------------------------------------------------------------------------\u001b[0m",
            "\u001b[0;31mValueError\u001b[0m                                Traceback (most recent call last)",
            "\u001b[0;32m<ipython-input-26-996ef64b32fe>\u001b[0m in \u001b[0;36m<module>\u001b[0;34m()\u001b[0m\n\u001b[1;32m      5\u001b[0m \u001b[0mprint\u001b[0m\u001b[0;34m(\u001b[0m\u001b[0;36m1j\u001b[0m\u001b[0;34m*\u001b[0m\u001b[0mZ\u001b[0m\u001b[0;34m)\u001b[0m\u001b[0;34m\u001b[0m\u001b[0;34m\u001b[0m\u001b[0m\n\u001b[1;32m      6\u001b[0m \u001b[0mprint\u001b[0m\u001b[0;34m(\u001b[0m\u001b[0mZ\u001b[0m\u001b[0;34m/\u001b[0m\u001b[0;36m1\u001b[0m\u001b[0;34m/\u001b[0m\u001b[0;36m1\u001b[0m\u001b[0;34m)\u001b[0m\u001b[0;34m\u001b[0m\u001b[0;34m\u001b[0m\u001b[0m\n\u001b[0;32m----> 7\u001b[0;31m \u001b[0mprint\u001b[0m\u001b[0;34m(\u001b[0m\u001b[0mZ\u001b[0m\u001b[0;34m<\u001b[0m\u001b[0mZ\u001b[0m\u001b[0;34m>\u001b[0m\u001b[0mZ\u001b[0m\u001b[0;34m)\u001b[0m\u001b[0;34m\u001b[0m\u001b[0;34m\u001b[0m\u001b[0m\n\u001b[0m",
            "\u001b[0;31mValueError\u001b[0m: The truth value of an array with more than one element is ambiguous. Use a.any() or a.all()"
          ]
        }
      ],
      "source": [
        "Z=np.arange(12)\n",
        "print(Z**Z)\n",
        "print(2 << Z >> 2)\n",
        "print(Z <- Z)\n",
        "print(1j*Z)\n",
        "print(Z/1/1)\n",
        "print(Z<Z>Z)\n"
      ]
    },
    {
      "cell_type": "markdown",
      "metadata": {
        "id": "IT6pLIF7XPFW"
      },
      "source": [
        "#### 28. What are the result of the following expressions?"
      ]
    },
    {
      "cell_type": "markdown",
      "metadata": {
        "id": "OvTBWRwjXPFW"
      },
      "source": [
        "```python\n",
        "np.array(0) / np.array(0)\n",
        "np.array(0) // np.array(0)\n",
        "np.array([np.nan]).astype(int).astype(float)\n",
        "```"
      ]
    },
    {
      "cell_type": "code",
      "execution_count": 28,
      "metadata": {
        "id": "KzAaeWvHXPFW",
        "colab": {
          "base_uri": "https://localhost:8080/"
        },
        "outputId": "2318ae10-cce0-40d5-ac9e-24a80c92c49f"
      },
      "outputs": [
        {
          "output_type": "stream",
          "name": "stdout",
          "text": [
            "nan\n",
            "0\n",
            "[-9.22337204e+18]\n"
          ]
        },
        {
          "output_type": "stream",
          "name": "stderr",
          "text": [
            "/usr/local/lib/python3.7/dist-packages/ipykernel_launcher.py:1: RuntimeWarning: invalid value encountered in true_divide\n",
            "  \"\"\"Entry point for launching an IPython kernel.\n",
            "/usr/local/lib/python3.7/dist-packages/ipykernel_launcher.py:2: RuntimeWarning: divide by zero encountered in floor_divide\n",
            "  \n"
          ]
        }
      ],
      "source": [
        "print(np.array(0) / np.array(0))\n",
        "print(np.array(0) // np.array(0))\n",
        "print(np.array([np.nan]).astype(int).astype(float))"
      ]
    },
    {
      "cell_type": "markdown",
      "metadata": {
        "id": "ukSQaN1DXPFW"
      },
      "source": [
        "#### 29. How to round away from zero a float array ? (★☆☆) \n",
        "(**hint**: np.uniform, np.copysign, np.ceil, np.abs)"
      ]
    },
    {
      "cell_type": "code",
      "execution_count": null,
      "metadata": {
        "id": "wdjWkDeEXPFW"
      },
      "outputs": [],
      "source": [
        "arr= np.random.uniform(-10,+10,10)\n",
        "print(np.copysign(np.ceil(np.abs(arr)),arr))"
      ]
    },
    {
      "cell_type": "markdown",
      "metadata": {
        "id": "LB6pW5LrXPFW"
      },
      "source": [
        "#### 30. How to find common values between two arrays? (★☆☆) \n",
        "(**hint**: np.intersect1d)"
      ]
    },
    {
      "cell_type": "code",
      "execution_count": 29,
      "metadata": {
        "id": "nyoRMkWHXPFW",
        "colab": {
          "base_uri": "https://localhost:8080/"
        },
        "outputId": "91f2fa1a-0d44-459c-bf7c-b4413e39db86"
      },
      "outputs": [
        {
          "output_type": "stream",
          "name": "stdout",
          "text": [
            "[1 2 3 4 9]\n"
          ]
        }
      ],
      "source": [
        "x= np.random.randint(0,10,10)\n",
        "y= np.random.randint(0,10,10)\n",
        "print(np.intersect1d(x,y))"
      ]
    },
    {
      "cell_type": "markdown",
      "metadata": {
        "id": "uv5IkFDaXPFW"
      },
      "source": [
        "#### 31. How to ignore all numpy warnings (not recommended)? (★☆☆) \n",
        "(**hint**: np.seterr, np.errstate)"
      ]
    },
    {
      "cell_type": "code",
      "execution_count": 32,
      "metadata": {
        "id": "Sa0nR2unXPFW"
      },
      "outputs": [],
      "source": [
        "default= np.seterr(all=\"ignore\")\n",
        "z= np.zeros(3)/1"
      ]
    },
    {
      "cell_type": "code",
      "source": [
        "with np.errstate(all=\"ignore\"):\n",
        "  np.zeros(3)/1"
      ],
      "metadata": {
        "id": "EFKW6sSiQF74"
      },
      "execution_count": 33,
      "outputs": []
    },
    {
      "cell_type": "markdown",
      "metadata": {
        "id": "LRlwpxJSXPFX"
      },
      "source": [
        "#### 32. Is the following expressions true? (★☆☆) \n",
        "(**hint**: imaginary number)"
      ]
    },
    {
      "cell_type": "markdown",
      "metadata": {
        "id": "QCmcp4lhXPFX"
      },
      "source": [
        "```python\n",
        "np.sqrt(-1) == np.emath.sqrt(-1)\n",
        "```"
      ]
    },
    {
      "cell_type": "code",
      "execution_count": 34,
      "metadata": {
        "id": "FslWcE-8XPFX",
        "colab": {
          "base_uri": "https://localhost:8080/"
        },
        "outputId": "890b33d0-13f4-439b-ec8b-84158c520d0c"
      },
      "outputs": [
        {
          "output_type": "execute_result",
          "data": {
            "text/plain": [
              "False"
            ]
          },
          "metadata": {},
          "execution_count": 34
        }
      ],
      "source": [
        "np.sqrt(-1) == np.emath.sqrt(-1)"
      ]
    },
    {
      "cell_type": "markdown",
      "metadata": {
        "id": "wrUmvem5XPFX"
      },
      "source": [
        "#### 33. How to get the dates of yesterday, today and tomorrow? (★☆☆) \n",
        "(**hint**: np.datetime64, np.timedelta64)"
      ]
    },
    {
      "cell_type": "code",
      "execution_count": 35,
      "metadata": {
        "collapsed": true,
        "id": "Nsd2UkNPXPFX",
        "colab": {
          "base_uri": "https://localhost:8080/"
        },
        "outputId": "776166cc-c510-4e68-e75b-12a63d2617c0"
      },
      "outputs": [
        {
          "output_type": "stream",
          "name": "stdout",
          "text": [
            "2022-06-30\n",
            "2022-07-01\n",
            "2022-07-02\n"
          ]
        }
      ],
      "source": [
        "yesterday=np.datetime64(\"today\")-np.timedelta64(1)\n",
        "print(yesterday)\n",
        "today=np.datetime64(\"today\")\n",
        "print(today)\n",
        "tomorrow=np.datetime64(\"today\")+np.timedelta64(1)\n",
        "print(tomorrow)"
      ]
    },
    {
      "cell_type": "markdown",
      "metadata": {
        "id": "mSER6hHvXPFX"
      },
      "source": [
        "#### 34. How to get all the dates corresponding to the month of July 2016? (★★☆) \n",
        "(**hint**: np.arange(dtype=datetime64\\['D'\\]))"
      ]
    },
    {
      "cell_type": "code",
      "execution_count": 36,
      "metadata": {
        "id": "zPDHRtu2XPFX",
        "colab": {
          "base_uri": "https://localhost:8080/"
        },
        "outputId": "1ca897fc-afa0-4f5e-c414-17480946efe7"
      },
      "outputs": [
        {
          "output_type": "stream",
          "name": "stdout",
          "text": [
            "['2016-07-01' '2016-07-02' '2016-07-03' '2016-07-04' '2016-07-05'\n",
            " '2016-07-06' '2016-07-07' '2016-07-08' '2016-07-09' '2016-07-10'\n",
            " '2016-07-11' '2016-07-12' '2016-07-13' '2016-07-14' '2016-07-15'\n",
            " '2016-07-16' '2016-07-17' '2016-07-18' '2016-07-19' '2016-07-20'\n",
            " '2016-07-21' '2016-07-22' '2016-07-23' '2016-07-24' '2016-07-25'\n",
            " '2016-07-26' '2016-07-27' '2016-07-28' '2016-07-29' '2016-07-30'\n",
            " '2016-07-31']\n"
          ]
        }
      ],
      "source": [
        "arr=np.arange(\"2016-07\",\"2016-08\",dtype=\"datetime64[D]\")\n",
        "print(arr)"
      ]
    },
    {
      "cell_type": "markdown",
      "metadata": {
        "id": "NR5sjmNkXPFX"
      },
      "source": [
        "#### 35. How to compute ((A+B)\\*(-A/2)) in place (without copy)? (★★☆) \n",
        "(**hint**: np.add(out=), np.negative(out=), np.multiply(out=), np.divide(out=))"
      ]
    },
    {
      "cell_type": "code",
      "execution_count": 37,
      "metadata": {
        "id": "_DwXrBYlXPFX",
        "colab": {
          "base_uri": "https://localhost:8080/"
        },
        "outputId": "29083add-1510-4764-8657-183009498952"
      },
      "outputs": [
        {
          "output_type": "execute_result",
          "data": {
            "text/plain": [
              "array([-1.5, -1.5, -1.5])"
            ]
          },
          "metadata": {},
          "execution_count": 37
        }
      ],
      "source": [
        "A= np.ones(3)*1\n",
        "B=np.ones(3)*2\n",
        "np.add(A,B,out=B)\n",
        "np.negative(A,out=A)\n",
        "np.multiply(A,B,out=A)\n",
        "np.divide(A,2,out=A)"
      ]
    },
    {
      "cell_type": "markdown",
      "metadata": {
        "id": "FTdb8PsZXPFX"
      },
      "source": [
        "#### 36. Extract the integer part of a random array using 5 different methods (★★☆) \n",
        "(**hint**: %, np.floor, np.ceil, astype, np.trunc)"
      ]
    },
    {
      "cell_type": "code",
      "execution_count": 38,
      "metadata": {
        "id": "6iSpQdfDXPFY",
        "colab": {
          "base_uri": "https://localhost:8080/"
        },
        "outputId": "57b60731-c3dc-4bd4-ab84-854a77da97b0"
      },
      "outputs": [
        {
          "output_type": "stream",
          "name": "stdout",
          "text": [
            "[1. 6. 9. 1. 1. 0. 7. 8. 9. 0.]\n",
            "[1. 6. 9. 1. 1. 0. 7. 8. 9. 0.]\n",
            "[1. 6. 9. 1. 1. 0. 7. 8. 9. 0.]\n",
            "[1 6 9 1 1 0 7 8 9 0]\n",
            "[1. 6. 9. 1. 1. 0. 7. 8. 9. 0.]\n"
          ]
        }
      ],
      "source": [
        "X= np.random.uniform(0,10,10)\n",
        "print(X - X%1)\n",
        "print(X//1)\n",
        "print(np.floor(X))\n",
        "print(X.astype(int))\n",
        "print(np.trunc(X))"
      ]
    },
    {
      "cell_type": "markdown",
      "metadata": {
        "id": "MH3UKXxLXPFY"
      },
      "source": [
        "#### 37. Create a 5x5 matrix with row values ranging from 0 to 4 (★★☆) \n",
        "(**hint**: np.arange)"
      ]
    },
    {
      "cell_type": "code",
      "execution_count": 39,
      "metadata": {
        "id": "YV8rMH2aXPFY",
        "colab": {
          "base_uri": "https://localhost:8080/"
        },
        "outputId": "3f7420de-b643-4716-a183-ed122398c209"
      },
      "outputs": [
        {
          "output_type": "stream",
          "name": "stdout",
          "text": [
            "[[0 1 2 3 4]\n",
            " [0 1 2 3 4]\n",
            " [0 1 2 3 4]\n",
            " [0 1 2 3 4]\n",
            " [0 1 2 3 4]]\n"
          ]
        }
      ],
      "source": [
        "X= np.tile(np.arange(0,5),(5,1))\n",
        "print(X)"
      ]
    },
    {
      "cell_type": "markdown",
      "metadata": {
        "id": "xjGnVS7bXPFY"
      },
      "source": [
        "#### 38. Consider a generator function that generates 10 integers and use it to build an array (★☆☆) \n",
        "(**hint**: np.fromiter)"
      ]
    },
    {
      "cell_type": "code",
      "execution_count": 40,
      "metadata": {
        "id": "-fU7_z16XPFY",
        "colab": {
          "base_uri": "https://localhost:8080/"
        },
        "outputId": "fc0dca9f-63a4-4999-d28c-aecb65a43709"
      },
      "outputs": [
        {
          "output_type": "stream",
          "name": "stdout",
          "text": [
            "[0. 1. 2. 3. 4. 5. 6. 7. 8. 9.]\n"
          ]
        }
      ],
      "source": [
        "def generate():\n",
        "  for x in range(10):\n",
        "    yield x\n",
        "z=np.fromiter(generate(),dtype=float64,count=-1)\n",
        "print(z)"
      ]
    },
    {
      "cell_type": "markdown",
      "metadata": {
        "id": "hGLoD2zCXPFY"
      },
      "source": [
        "#### 39. Create a vector of size 10 with values ranging from 0 to 1, both excluded (★★☆) \n",
        "(**hint**: np.linspace)"
      ]
    },
    {
      "cell_type": "code",
      "execution_count": 41,
      "metadata": {
        "id": "koMK0JlOXPFY",
        "colab": {
          "base_uri": "https://localhost:8080/"
        },
        "outputId": "2f4dc124-2936-47b8-a0ac-f159f3a0976c"
      },
      "outputs": [
        {
          "output_type": "stream",
          "name": "stdout",
          "text": [
            "[0.09090909 0.18181818 0.27272727 0.36363636 0.45454545 0.54545455\n",
            " 0.63636364 0.72727273 0.81818182 0.90909091]\n"
          ]
        }
      ],
      "source": [
        "arr=np.linspace(0,1,11,endpoint=False)[1:]\n",
        "print(arr)"
      ]
    },
    {
      "cell_type": "markdown",
      "metadata": {
        "id": "PyNs2HhYXPFY"
      },
      "source": [
        "#### 40. Create a random vector of size 10 and sort it (★★☆) \n",
        "(**hint**: sort)"
      ]
    },
    {
      "cell_type": "code",
      "execution_count": 42,
      "metadata": {
        "id": "ndQCo7F-XPFY",
        "colab": {
          "base_uri": "https://localhost:8080/"
        },
        "outputId": "c8d1dde1-00a8-47a9-f482-a97d3e9cec3a"
      },
      "outputs": [
        {
          "output_type": "stream",
          "name": "stdout",
          "text": [
            "[0.12420983 0.23240133 0.35148539 0.35817764 0.60484582 0.70963326\n",
            " 0.74377522 0.75457516 0.79620241 0.95636725]\n"
          ]
        }
      ],
      "source": [
        "arr=np.random.random(10)\n",
        "arr.sort()\n",
        "print(arr)"
      ]
    },
    {
      "cell_type": "markdown",
      "metadata": {
        "id": "cb9xz83mXPFY"
      },
      "source": [
        "#### 41. How to sum a small array faster than np.sum? (★★☆) \n",
        "(**hint**: np.add.reduce)"
      ]
    },
    {
      "cell_type": "code",
      "execution_count": 43,
      "metadata": {
        "id": "Kx2kXj9vXPFY",
        "colab": {
          "base_uri": "https://localhost:8080/"
        },
        "outputId": "bd37477a-fc73-4859-bb72-b3507be9f5c7"
      },
      "outputs": [
        {
          "output_type": "execute_result",
          "data": {
            "text/plain": [
              "45"
            ]
          },
          "metadata": {},
          "execution_count": 43
        }
      ],
      "source": [
        "arr=np.arange(10)\n",
        "np.add.reduce(arr)"
      ]
    },
    {
      "cell_type": "markdown",
      "metadata": {
        "id": "HO2NXarGXPFY"
      },
      "source": [
        "#### 42. Consider two random array A and B, check if they are equal (★★☆) \n",
        "(**hint**: np.allclose, np.array\\_equal)"
      ]
    },
    {
      "cell_type": "code",
      "execution_count": 44,
      "metadata": {
        "id": "Qtc7GdbhXPFZ",
        "colab": {
          "base_uri": "https://localhost:8080/"
        },
        "outputId": "9b58ac21-89d9-427a-f502-a6e582ca5e66"
      },
      "outputs": [
        {
          "output_type": "stream",
          "name": "stdout",
          "text": [
            "False\n",
            "False\n"
          ]
        }
      ],
      "source": [
        "A= np.random.randint(0,5,5)\n",
        "B=np.arange(0,5,5)\n",
        "equal=np.allclose(A,B)\n",
        "print(equal)\n",
        "equal=np.array_equal(A,B)\n",
        "print(equal)"
      ]
    },
    {
      "cell_type": "markdown",
      "metadata": {
        "id": "PiGMRpsCXPFZ"
      },
      "source": [
        "#### 43. Make an array immutable (read-only) (★★☆) \n",
        "(**hint**: flags.writeable)"
      ]
    },
    {
      "cell_type": "code",
      "execution_count": 45,
      "metadata": {
        "id": "O6AFa8QmXPFZ",
        "colab": {
          "base_uri": "https://localhost:8080/",
          "height": 200
        },
        "outputId": "30dd968d-c17c-4a76-90a1-cafaadc6ad7f"
      },
      "outputs": [
        {
          "output_type": "error",
          "ename": "ValueError",
          "evalue": "ignored",
          "traceback": [
            "\u001b[0;31m---------------------------------------------------------------------------\u001b[0m",
            "\u001b[0;31mValueError\u001b[0m                                Traceback (most recent call last)",
            "\u001b[0;32m<ipython-input-45-d1dd4149ba5d>\u001b[0m in \u001b[0;36m<module>\u001b[0;34m()\u001b[0m\n\u001b[1;32m      1\u001b[0m \u001b[0marr\u001b[0m\u001b[0;34m=\u001b[0m\u001b[0mnp\u001b[0m\u001b[0;34m.\u001b[0m\u001b[0mzeros\u001b[0m\u001b[0;34m(\u001b[0m\u001b[0;36m5\u001b[0m\u001b[0;34m)\u001b[0m\u001b[0;34m\u001b[0m\u001b[0;34m\u001b[0m\u001b[0m\n\u001b[1;32m      2\u001b[0m \u001b[0marr\u001b[0m\u001b[0;34m.\u001b[0m\u001b[0mflags\u001b[0m\u001b[0;34m.\u001b[0m\u001b[0mwriteable\u001b[0m\u001b[0;34m=\u001b[0m\u001b[0;32mFalse\u001b[0m\u001b[0;34m\u001b[0m\u001b[0;34m\u001b[0m\u001b[0m\n\u001b[0;32m----> 3\u001b[0;31m \u001b[0marr\u001b[0m\u001b[0;34m[\u001b[0m\u001b[0;36m0\u001b[0m\u001b[0;34m]\u001b[0m\u001b[0;34m=\u001b[0m\u001b[0;36m1\u001b[0m\u001b[0;34m\u001b[0m\u001b[0;34m\u001b[0m\u001b[0m\n\u001b[0m",
            "\u001b[0;31mValueError\u001b[0m: assignment destination is read-only"
          ]
        }
      ],
      "source": [
        "arr=np.zeros(5)\n",
        "arr.flags.writeable=False\n",
        "arr[0]=1"
      ]
    },
    {
      "cell_type": "markdown",
      "metadata": {
        "id": "-4GywNxuXPFZ"
      },
      "source": [
        "#### 44. Consider a random 10x2 matrix representing cartesian coordinates, convert them to polar coordinates (★★☆) \n",
        "(**hint**: np.sqrt, np.arctan2)"
      ]
    },
    {
      "cell_type": "code",
      "execution_count": 46,
      "metadata": {
        "id": "_C1ga-5zXPFZ",
        "colab": {
          "base_uri": "https://localhost:8080/"
        },
        "outputId": "83148957-94c8-4554-b2a7-4c57ec67ae03"
      },
      "outputs": [
        {
          "output_type": "stream",
          "name": "stdout",
          "text": [
            "[1.1688819  0.88233265 0.69684253 0.81418935 1.14945923]\n",
            "[0.92387657 0.92476023 1.34417855 0.741004   0.6305511 ]\n"
          ]
        }
      ],
      "source": [
        "arr=np.random.random((5,5))\n",
        "x,y=arr[:,0],arr[1,:]\n",
        "A=np.sqrt(x**2+y**2)\n",
        "B=np.arctan2(x,y)\n",
        "print(A)\n",
        "print(B)"
      ]
    },
    {
      "cell_type": "markdown",
      "metadata": {
        "id": "adhYhI_RXPFZ"
      },
      "source": [
        "#### 45. Create random vector of size 10 and replace the maximum value by 0 (★★☆) \n",
        "(**hint**: argmax)"
      ]
    },
    {
      "cell_type": "code",
      "execution_count": 47,
      "metadata": {
        "id": "QO03erM0XPFZ",
        "colab": {
          "base_uri": "https://localhost:8080/"
        },
        "outputId": "fcb26818-1985-40a9-c9aa-4f249706978d"
      },
      "outputs": [
        {
          "output_type": "execute_result",
          "data": {
            "text/plain": [
              "array([0.86411077, 0.08803958, 0.36194355, 0.2659536 , 0.49013099,\n",
              "       0.19769936, 0.65722584, 0.7795075 , 0.1722738 , 0.        ])"
            ]
          },
          "metadata": {},
          "execution_count": 47
        }
      ],
      "source": [
        "arr=np.random.random(10)\n",
        "arr[arr.argmax()]=0\n",
        "arr"
      ]
    },
    {
      "cell_type": "markdown",
      "metadata": {
        "id": "AeKXAFOAXPFZ"
      },
      "source": [
        "#### 46. Create a structured array with `x` and `y` coordinates covering the \\[0,1\\]x\\[0,1\\] area (★★☆) \n",
        "(**hint**: np.meshgrid)"
      ]
    },
    {
      "cell_type": "code",
      "execution_count": 48,
      "metadata": {
        "id": "YQbjkaucXPFZ",
        "colab": {
          "base_uri": "https://localhost:8080/"
        },
        "outputId": "f388d23c-a623-4a3f-b257-4b94e9515967"
      },
      "outputs": [
        {
          "output_type": "stream",
          "name": "stdout",
          "text": [
            "[[(0.  , 0.  ) (0.25, 0.  ) (0.5 , 0.  ) (0.75, 0.  ) (1.  , 0.  )]\n",
            " [(0.  , 0.25) (0.25, 0.25) (0.5 , 0.25) (0.75, 0.25) (1.  , 0.25)]\n",
            " [(0.  , 0.5 ) (0.25, 0.5 ) (0.5 , 0.5 ) (0.75, 0.5 ) (1.  , 0.5 )]\n",
            " [(0.  , 0.75) (0.25, 0.75) (0.5 , 0.75) (0.75, 0.75) (1.  , 0.75)]\n",
            " [(0.  , 1.  ) (0.25, 1.  ) (0.5 , 1.  ) (0.75, 1.  ) (1.  , 1.  )]]\n"
          ]
        }
      ],
      "source": [
        "arr= np.zeros((5,5),[(\"X\",float),(\"Y\",float)])\n",
        "arr[\"X\"],arr[\"Y\"]=np.meshgrid((np.linspace(0,1,5)),\n",
        "                              (np.linspace(0,1,5)))\n",
        "print(arr)"
      ]
    },
    {
      "cell_type": "markdown",
      "metadata": {
        "id": "b9Tu9_m6XPFZ"
      },
      "source": [
        "####  47. Given two arrays, X and Y, construct the Cauchy matrix C (Cij =1/(xi - yj)) \n",
        "(**hint**: np.subtract.outer)"
      ]
    },
    {
      "cell_type": "code",
      "execution_count": 49,
      "metadata": {
        "id": "J3gc0c0RXPFZ",
        "colab": {
          "base_uri": "https://localhost:8080/"
        },
        "outputId": "067ad776-86de-40ab-b61f-9be0bd8f5112"
      },
      "outputs": [
        {
          "output_type": "stream",
          "name": "stdout",
          "text": [
            "33961.93294480236\n"
          ]
        }
      ],
      "source": [
        "X=np.arange(10)\n",
        "Y=X+0.5\n",
        "c= 1.0/np.subtract.outer(X,Y)\n",
        "print(np.linalg.det(c))"
      ]
    },
    {
      "cell_type": "markdown",
      "metadata": {
        "id": "0s9N9SqKXPFa"
      },
      "source": [
        "#### 48. Print the minimum and maximum representable value for each numpy scalar type (★★☆) \n",
        "(**hint**: np.iinfo, np.finfo, eps)"
      ]
    },
    {
      "cell_type": "code",
      "execution_count": 50,
      "metadata": {
        "id": "9RpJXjjVXPFa",
        "colab": {
          "base_uri": "https://localhost:8080/"
        },
        "outputId": "bc748d9d-60d9-448c-a63b-4aa7f22cf356"
      },
      "outputs": [
        {
          "output_type": "stream",
          "name": "stdout",
          "text": [
            "-128\n",
            "127\n",
            "-2147483648\n",
            "2147483647\n",
            "-9223372036854775808\n",
            "9223372036854775807\n",
            "-3.4028235e+38\n",
            "3.4028235e+38\n",
            "1.1920929e-07\n",
            "-1.7976931348623157e+308\n",
            "1.7976931348623157e+308\n",
            "2.220446049250313e-16\n"
          ]
        }
      ],
      "source": [
        "for dtype in [np.int8, np.int32, np.int64]:\n",
        "  print(np.iinfo(dtype).min)\n",
        "  print(np.iinfo(dtype).max)\n",
        "for dtype in [np.float32, np.float64]:\n",
        "  print(np.finfo(dtype).min)\n",
        "  print(np.finfo(dtype).max)\n",
        "  print(np.finfo(dtype).eps)"
      ]
    },
    {
      "cell_type": "markdown",
      "metadata": {
        "id": "-WLWq4k5XPFa"
      },
      "source": [
        "#### 49. How to print all the values of an array? (★★☆) \n",
        "(**hint**: np.set\\_printoptions)"
      ]
    },
    {
      "cell_type": "code",
      "execution_count": 51,
      "metadata": {
        "id": "kRBMNCmKXPFa",
        "colab": {
          "base_uri": "https://localhost:8080/"
        },
        "outputId": "fc65c0a9-2338-4f6b-dd02-b84913ea4ab1"
      },
      "outputs": [
        {
          "output_type": "stream",
          "name": "stdout",
          "text": [
            "[[0. 0. 0. 0. 0. 0. 0. 0. 0. 0.]\n",
            " [0. 0. 0. 0. 0. 0. 0. 0. 0. 0.]\n",
            " [0. 0. 0. 0. 0. 0. 0. 0. 0. 0.]\n",
            " [0. 0. 0. 0. 0. 0. 0. 0. 0. 0.]\n",
            " [0. 0. 0. 0. 0. 0. 0. 0. 0. 0.]\n",
            " [0. 0. 0. 0. 0. 0. 0. 0. 0. 0.]\n",
            " [0. 0. 0. 0. 0. 0. 0. 0. 0. 0.]\n",
            " [0. 0. 0. 0. 0. 0. 0. 0. 0. 0.]\n",
            " [0. 0. 0. 0. 0. 0. 0. 0. 0. 0.]\n",
            " [0. 0. 0. 0. 0. 0. 0. 0. 0. 0.]]\n"
          ]
        }
      ],
      "source": [
        "arr=np.set_printoptions(threshold=float(\"inf\"))\n",
        "arr=np.zeros((10,10))\n",
        "print(arr)"
      ]
    },
    {
      "cell_type": "markdown",
      "metadata": {
        "id": "J-K-8-OOXPFa"
      },
      "source": [
        "#### 50. How to find the closest value (to a given scalar) in a vector? (★★☆) \n",
        "(**hint**: argmin)"
      ]
    },
    {
      "cell_type": "code",
      "execution_count": 52,
      "metadata": {
        "id": "fSFYfiISXPFa",
        "colab": {
          "base_uri": "https://localhost:8080/"
        },
        "outputId": "ff350603-16b9-4b20-a4f9-a50657958e6d"
      },
      "outputs": [
        {
          "output_type": "stream",
          "name": "stdout",
          "text": [
            "99\n"
          ]
        }
      ],
      "source": [
        "x= np.arange(100)\n",
        "v= np.random.uniform(0,100)\n",
        "index=(np.abs(x-v).argmax())\n",
        "print(x[index])"
      ]
    },
    {
      "cell_type": "markdown",
      "metadata": {
        "id": "ii5E-zlCXPFa"
      },
      "source": [
        "#### 51. Create a structured array representing a position (x,y) and a color (r,g,b) (★★☆) \n",
        "(**hint**: dtype)"
      ]
    },
    {
      "cell_type": "code",
      "execution_count": 53,
      "metadata": {
        "id": "mTrkUqrbXPFa",
        "colab": {
          "base_uri": "https://localhost:8080/"
        },
        "outputId": "32d14015-d2ae-47e7-aa9f-9c4ccd65aa83"
      },
      "outputs": [
        {
          "output_type": "stream",
          "name": "stdout",
          "text": [
            "[((0., 0.), (0., 0., 0.)) ((0., 0.), (0., 0., 0.))\n",
            " ((0., 0.), (0., 0., 0.)) ((0., 0.), (0., 0., 0.))\n",
            " ((0., 0.), (0., 0., 0.)) ((0., 0.), (0., 0., 0.))\n",
            " ((0., 0.), (0., 0., 0.)) ((0., 0.), (0., 0., 0.))\n",
            " ((0., 0.), (0., 0., 0.)) ((0., 0.), (0., 0., 0.))]\n"
          ]
        },
        {
          "output_type": "stream",
          "name": "stderr",
          "text": [
            "/usr/local/lib/python3.7/dist-packages/ipykernel_launcher.py:5: FutureWarning: Passing (type, 1) or '1type' as a synonym of type is deprecated; in a future version of numpy, it will be understood as (type, (1,)) / '(1,)type'.\n",
            "  \"\"\"\n"
          ]
        }
      ],
      "source": [
        "arr= np.zeros(10, [('position',[(\"x\",float,1),\n",
        "                              (\"y\",float,1)]),\n",
        "                     ('color',[(\"r\",float,1),\n",
        "                              (\"g\",float,1),\n",
        "                              (\"b\",float,1)])])\n",
        "print(arr)"
      ]
    },
    {
      "cell_type": "markdown",
      "metadata": {
        "id": "ez17kRheXPFa"
      },
      "source": [
        "#### 52. Consider a random vector with shape (100,2) representing coordinates, find point by point distances (★★☆) \n",
        "(**hint**: np.atleast\\_2d, T, np.sqrt)"
      ]
    },
    {
      "cell_type": "code",
      "execution_count": 54,
      "metadata": {
        "id": "hAHIbooTXPFa",
        "colab": {
          "base_uri": "https://localhost:8080/"
        },
        "outputId": "5c7e1bda-eb31-4708-aca3-9762a6426d51"
      },
      "outputs": [
        {
          "output_type": "stream",
          "name": "stdout",
          "text": [
            "[[0.         0.53317103 0.41720248 0.84206083 0.38301393 0.45668381\n",
            "  0.25827536 0.90642062 0.33554561 0.51968657 0.89676809 0.03046928\n",
            "  0.5857629  0.14407275 0.47541484 0.82095316 0.64627482 0.34335854\n",
            "  0.35517181 0.99299471 0.89165146 0.83784587 0.5111144  0.8872814\n",
            "  0.65524225 0.83462605 0.69198614 0.09456889 0.27803014 0.74150855\n",
            "  0.6964192  0.93901113 0.63992495 0.37627976 0.75515711 0.9051716\n",
            "  0.82446018 0.59568456 0.47264337 0.8558003  0.22122773 0.08730876\n",
            "  0.38960879 0.81289059 0.13913264 0.57400346 0.3688522  0.7780861\n",
            "  0.403017   0.6099717  0.96213064 0.81265071 0.22947805 0.85601096\n",
            "  0.26155263 0.58463708 0.76825026 0.4005652  1.04104559 0.64011653\n",
            "  0.87806242 0.54256659 0.50951862 1.03945576 0.18504292 0.24399121\n",
            "  0.19694899 0.51313043 0.73127293 0.15219498 0.55784587 0.38584433\n",
            "  0.50435506 0.54042829 0.23673392 0.78056287 0.8625845  0.4739133\n",
            "  0.34332408 0.23011415 0.73381336 0.23423916 0.71477401 0.65169119\n",
            "  0.57155805 0.86229672 0.93887604 0.48347391 0.26208615 0.66189844\n",
            "  0.27110205 0.38973996 0.52563942 0.75095617 0.87385731 0.13142574\n",
            "  0.67311586 0.87319832 0.63475    0.85695477]\n",
            " [0.53317103 0.         0.39503727 0.85002359 0.72175668 0.11962811\n",
            "  0.53162465 0.65263636 0.84143483 0.70330858 0.61278065 0.56100856\n",
            "  0.92413435 0.64296374 0.7685554  0.60216568 0.84822925 0.22134629\n",
            "  0.82750129 0.69599561 0.87309914 0.56998921 0.77207801 0.55274302\n",
            "  0.7923548  0.77482801 0.45515026 0.55804755 0.72263482 0.51461897\n",
            "  0.85722462 0.79884984 0.6660892  0.23926334 0.53284093 0.688964\n",
            "  0.54028374 0.89184911 0.86229711 0.54305873 0.31214786 0.47652965\n",
            "  0.40914357 0.46081714 0.39421468 0.47118128 0.801675   0.98933018\n",
            "  0.40824126 0.15141597 0.70563334 0.52602315 0.5843522  1.05248744\n",
            "  0.30336556 0.71681661 0.92964644 0.57745455 0.80369474 0.66364314\n",
            "  1.02543869 0.1280903  0.02659433 0.75775578 0.7169586  0.43071391\n",
            "  0.47417131 0.85596065 0.50467234 0.67463858 0.80743523 0.61640999\n",
            "  0.1117617  0.50838512 0.61060653 0.87773489 0.75644876 0.06569587\n",
            "  0.19294282 0.63027004 0.44987296 0.29929057 1.01707803 0.28302092\n",
            "  0.301402   0.87985317 0.78942688 0.1997867  0.30750475 0.84986143\n",
            "  0.6146869  0.69096894 0.72966863 1.01962413 0.82161341 0.62572305\n",
            "  0.94729303 0.81686574 0.73457323 1.09711847]\n",
            " [0.41720248 0.39503727 0.         0.49762113 0.37397521 0.42437646\n",
            "  0.22638275 0.48964505 0.5921549  0.30996709 0.48302531 0.42767749\n",
            "  0.55090173 0.56120584 0.39425897 0.40375139 0.45334978 0.22076774\n",
            "  0.54419842 0.57865455 0.53470042 0.42373461 0.38811389 0.48499397\n",
            "  0.39959075 0.45435047 0.28064639 0.36841938 0.44010417 0.32583701\n",
            "  0.46351443 0.53539266 0.2933932  0.45898329 0.33871876 0.48850793\n",
            "  0.41361208 0.50843782 0.5168708  0.44955162 0.31953143 0.32992299\n",
            "  0.03275732 0.42353375 0.34394163 0.15889168 0.49199791 0.59433429\n",
            "  0.02086177 0.35280454 0.54507632 0.40296289 0.29776302 0.65845546\n",
            "  0.40108221 0.32265147 0.53714262 0.19643044 0.62436629 0.29178121\n",
            "  0.63678873 0.49784239 0.39007227 0.62302466 0.54495393 0.175732\n",
            "  0.23248501 0.49004118 0.31593999 0.48696929 0.41869065 0.24579867\n",
            "  0.29110966 0.1454031  0.32197628 0.49523064 0.46585451 0.38309877\n",
            "  0.33884276 0.34973924 0.3300035  0.31966228 0.62983901 0.30762921\n",
            "  0.20444217 0.52470169 0.53292614 0.20704681 0.40802824 0.45483863\n",
            "  0.30438873 0.33236957 0.33761899 0.62717425 0.4991528  0.54850432\n",
            "  0.55721502 0.4965876  0.34531841 0.70215657]\n",
            " [0.84206083 0.85002359 0.49762113 0.         0.54654415 0.9087371\n",
            "  0.58435971 0.41518355 0.83894759 0.34798754 0.4626656  0.8388435\n",
            "  0.53259928 0.97232354 0.46867271 0.36508608 0.31257603 0.71646774\n",
            "  0.75677106 0.50220991 0.0574921  0.43765368 0.42100542 0.54335078\n",
            "  0.23104067 0.11368732 0.43876662 0.75981815 0.69831315 0.40178066\n",
            "  0.24621084 0.2411121  0.2083662  0.95590403 0.38982342 0.35539733\n",
            "  0.46397195 0.45961981 0.61167416 0.50672169 0.81079733 0.76496848\n",
            "  0.50568068 0.56872125 0.81700172 0.37916958 0.68006527 0.3387592\n",
            "  0.49722089 0.74618483 0.42821409 0.46909168 0.62886828 0.3425221\n",
            "  0.89597357 0.27200743 0.24679629 0.44219507 0.42342031 0.20917927\n",
            "  0.26148904 0.97010559 0.85384117 0.49303671 0.89239707 0.61828225\n",
            "  0.64926679 0.53400824 0.4058318  0.83744507 0.3943011  0.46717664\n",
            "  0.73831576 0.35483751 0.63533001 0.14188074 0.18191636 0.85805784\n",
            "  0.83513385 0.65751869 0.48366195 0.81280605 0.49420323 0.62366525\n",
            "  0.55639982 0.03053204 0.25523275 0.6516391  0.90276824 0.29035133\n",
            "  0.59821624 0.50784286 0.35915941 0.43968335 0.09572344 0.96487442\n",
            "  0.42980538 0.10206421 0.2167463  0.42900762]\n",
            " [0.38301393 0.72175668 0.37397521 0.54654415 0.         0.70307139\n",
            "  0.19306085 0.77104727 0.29370396 0.20040857 0.78559002 0.36532354\n",
            "  0.21469414 0.4760378  0.09621274 0.68217715 0.28079296 0.50279958\n",
            "  0.21557335 0.87168681 0.60313468 0.72967634 0.14024637 0.81610551\n",
            "  0.32204736 0.58287121 0.61117427 0.28854845 0.15482052 0.6340991\n",
            "  0.34254036 0.71814634 0.38844597 0.67651801 0.63961529 0.74329788\n",
            "  0.73188076 0.21304703 0.14377348 0.77587156 0.48824831 0.34313944\n",
            "  0.34489261 0.77387626 0.44046541 0.45673848 0.14221839 0.3999819\n",
            "  0.35355659 0.71790178 0.81699611 0.72523646 0.16493126 0.47816771\n",
            "  0.57087182 0.27667848 0.40561722 0.18916829 0.86829008 0.39052287\n",
            "  0.51204461 0.79098169 0.7079101  0.89879994 0.36243838 0.29425495\n",
            "  0.26637199 0.14106648 0.62743063 0.31522617 0.18440922 0.13454308\n",
            "  0.63740023 0.39017386 0.14892781 0.44568029 0.63498914 0.68636895\n",
            "  0.58560823 0.15307988 0.67019376 0.49830736 0.33563588 0.68095515\n",
            "  0.57709284 0.55774853 0.72418852 0.56651006 0.57521912 0.30041262\n",
            "  0.12221906 0.04782174 0.18756722 0.36808783 0.60902575 0.47436217\n",
            "  0.29010523 0.61106312 0.33177767 0.4740555 ]\n",
            " [0.45668381 0.11962811 0.42437646 0.9087371  0.70307139 0.\n",
            "  0.51004738 0.75305289 0.78174086 0.71830862 0.71692788 0.48630991\n",
            "  0.91376009 0.5506549  0.76276376 0.69511826 0.86632615 0.21108207\n",
            "  0.779177   0.80370759 0.9377027  0.67036207 0.77372469 0.6628625\n",
            "  0.82215078 0.84427264 0.54461789 0.49858928 0.67872658 0.60538854\n",
            "  0.88459176 0.88390734 0.71308687 0.12126189 0.62360461 0.78418099\n",
            "  0.64242462 0.89039984 0.83743483 0.64981489 0.24046613 0.41503801\n",
            "  0.42965572 0.57121337 0.31959816 0.53206402 0.76376631 1.00999645\n",
            "  0.43256472 0.2664837  0.8076956  0.62810182 0.55129983 1.07798233\n",
            "  0.20448433 0.74389063 0.95936053 0.58388232 0.90475808 0.71106137\n",
            "  1.06077793 0.0896117  0.09479747 0.86438687 0.64155252 0.40950176\n",
            "  0.4406689  0.84232158 0.59488362 0.60558215 0.81328501 0.61443417\n",
            "  0.19441308 0.55631829 0.57599879 0.91927451 0.83408707 0.06295285\n",
            "  0.12090042 0.59148068 0.54837644 0.2274504  1.01778697 0.38855159\n",
            "  0.38469945 0.93760235 0.87587042 0.26564927 0.20697474 0.87107629\n",
            "  0.58719306 0.67892034 0.74172389 1.02821207 0.89114051 0.5333764\n",
            "  0.95265416 0.88702573 0.769588   1.11396562]\n",
            " [0.25827536 0.53162465 0.22638275 0.58435971 0.19306085 0.51004738\n",
            "  0.         0.69584337 0.36579098 0.26659071 0.69723579 0.25461143\n",
            "  0.40489047 0.38934663 0.25982159 0.60663976 0.40398423 0.31116585\n",
            "  0.32141648 0.79073518 0.63481726 0.63820734 0.28173598 0.70801054\n",
            "  0.40042403 0.5831103  0.50103496 0.17690068 0.21536925 0.53906489\n",
            "  0.4466094  0.69692742 0.38498433 0.48821453 0.54930919 0.68326059\n",
            "  0.63220966 0.38913223 0.3308423  0.67102198 0.3015678  0.18754659\n",
            "  0.19363897 0.6496683  0.26693889 0.35832268 0.27793334 0.54381909\n",
            "  0.20612717 0.54151345 0.74845555 0.62269799 0.0714358  0.61979602\n",
            "  0.38774957 0.32748549 0.52085484 0.14234878 0.81732204 0.3854688\n",
            "  0.63077783 0.59792651 0.51668135 0.82918671 0.3346178  0.10154588\n",
            "  0.0811034  0.33261675 0.53018323 0.27580637 0.32681933 0.13317416\n",
            "  0.45338294 0.30820328 0.09585336 0.52430278 0.61733225 0.49397995\n",
            "  0.39308709 0.12338868 0.55390502 0.31052832 0.5165179  0.52634552\n",
            "  0.42633252 0.60417331 0.69866466 0.39045807 0.39279424 0.41664723\n",
            "  0.08536121 0.17177682 0.27735557 0.53738251 0.62029648 0.38106963\n",
            "  0.45900306 0.62012335 0.37668384 0.63513267]\n",
            " [0.90642062 0.65263636 0.48964505 0.41518355 0.77104727 0.75305289\n",
            "  0.69584337 0.         1.0453897  0.59546866 0.05595118 0.91731818\n",
            "  0.85584118 1.0504929  0.73413823 0.08980183 0.65409463 0.63280246\n",
            "  0.97997102 0.10161999 0.39295213 0.08277126 0.6983165  0.14747791\n",
            "  0.55721615 0.30167136 0.22209042 0.85584176 0.88876701 0.16603226\n",
            "  0.60752141 0.2096891  0.40603948 0.84490526 0.15138308 0.06392227\n",
            "  0.11297695 0.7870379  0.88822677 0.12673441 0.77326869 0.8191169\n",
            "  0.5188343  0.21563867 0.81941925 0.33811886 0.91190179 0.73268719\n",
            "  0.50520558 0.5074421  0.05705456 0.1270253  0.76424109 0.75190747\n",
            "  0.83558509 0.53684182 0.64015138 0.59219376 0.15171187 0.40291762\n",
            "  0.67586512 0.78002382 0.66852428 0.13371024 1.02835744 0.6650806\n",
            "  0.7201573  0.8271014  0.17672095 0.969611   0.69630545 0.64335068\n",
            "  0.55870144 0.39077289 0.78362248 0.53756385 0.23462863 0.69081706\n",
            "  0.73390775 0.81169086 0.20474955 0.76844832 0.86270848 0.37002504\n",
            "  0.37731024 0.44030089 0.19383274 0.50050017 0.84255258 0.63776936\n",
            "  0.75540913 0.72330827 0.62275641 0.82155585 0.32782174 1.03745076\n",
            "  0.78777723 0.32070668 0.49984699 0.83425405]\n",
            " [0.33554561 0.84143483 0.5921549  0.83894759 0.29370396 0.78174086\n",
            "  0.36579098 1.0453897  0.         0.49410841 1.05306677 0.30520087\n",
            "  0.38834444 0.3284414  0.37293541 0.955605   0.55369996 0.62750359\n",
            "  0.08638568 1.14377813 0.89587018 0.99492651 0.4213229  1.07075448\n",
            "  0.61107391 0.87603399 0.86309539 0.28416843 0.15668732 0.89635792\n",
            "  0.62123036 1.00936502 0.67947429 0.71074659 0.90475504 1.02401816\n",
            "  0.9919894  0.43656405 0.26169895 1.03269235 0.5412754  0.36730994\n",
            "  0.55942097 1.01511535 0.46374903 0.71436733 0.1616691  0.64259367\n",
            "  0.57181519 0.88620681 1.09473936 0.98337201 0.29452371 0.71656857\n",
            "  0.59538792 0.57032224 0.67369314 0.45364564 1.15307179 0.68132817\n",
            "  0.77116033 0.87009735 0.82061217 1.17655733 0.17765948 0.44112042\n",
            "  0.38399529 0.33851681 0.88824654 0.184453   0.45701363 0.404719\n",
            "  0.78759547 0.65517725 0.2702688  0.73038526 0.92631448 0.78877743\n",
            "  0.66281085 0.24241567 0.91781976 0.55430703 0.51737447 0.88857941\n",
            "  0.79068524 0.8487346  1.01467267 0.74030727 0.5964718  0.57571205\n",
            "  0.29238555 0.33674973 0.47994159 0.57458492 0.90272155 0.33764163\n",
            "  0.51057131 0.90472641 0.62530179 0.68383606]\n",
            " [0.51968657 0.70330858 0.30996709 0.34798754 0.20040857 0.71830862\n",
            "  0.26659071 0.59546866 0.49410841 0.         0.6179463  0.51085637\n",
            "  0.27010413 0.63853879 0.1396164  0.50971852 0.14830289 0.50724849\n",
            "  0.41473647 0.69708749 0.40395853 0.56615878 0.10372583 0.66238223\n",
            "  0.13584351 0.3835068  0.46944543 0.42989962 0.35038263 0.47787267\n",
            "  0.18056941 0.52140028 0.19514047 0.72563354 0.47939843 0.56022501\n",
            "  0.57448811 0.21145158 0.29434783 0.62090097 0.54934199 0.45400978\n",
            "  0.2942368  0.63648283 0.52923334 0.32042942 0.33924263 0.29236951\n",
            "  0.29528623 0.65753007 0.63657957 0.57042731 0.29347277 0.36358645\n",
            "  0.63818705 0.0764263  0.25577016 0.13863464 0.67896027 0.19771323\n",
            "  0.36518421 0.79851709 0.69636596 0.71739337 0.54686963 0.33599043\n",
            "  0.34447925 0.23203926 0.47339134 0.4935378  0.11561817 0.13419404\n",
            "  0.60105112 0.25091869 0.29487102 0.26215037 0.43841123 0.68505915\n",
            "  0.614937   0.31427464 0.53034688 0.55566738 0.32380191 0.58496872\n",
            "  0.4839914  0.36130507 0.52843429 0.51642675 0.64404521 0.15561531\n",
            "  0.25732889 0.1599002  0.03073372 0.31721966 0.40866235 0.63317358\n",
            "  0.24883245 0.4107762  0.13176798 0.39586024]\n",
            " [0.89676809 0.61278065 0.48302531 0.4626656  0.78559002 0.71692788\n",
            "  0.69723579 0.05595118 1.05306677 0.6179463  0.         0.90937723\n",
            "  0.88266238 1.04062933 0.75496196 0.11010533 0.68677628 0.60906181\n",
            "  0.99080495 0.09634418 0.44376705 0.059323   0.72153003 0.09152924\n",
            "  0.59050964 0.34900912 0.20499542 0.85134334 0.89644331 0.15826594\n",
            "  0.64382197 0.26506628 0.43407261 0.81313826 0.1483853  0.11887658\n",
            "  0.07644202 0.81541926 0.90783771 0.07437692 0.75243858 0.80970543\n",
            "  0.51368296 0.16433346 0.80303839 0.33950406 0.92489504 0.77245849\n",
            "  0.50004862 0.4649912  0.0950589  0.09038566 0.76700998 0.7953658\n",
            "  0.81054415 0.56379583 0.68072194 0.60238224 0.19324933 0.43079951\n",
            "  0.72180201 0.7392191  0.62996578 0.14981991 1.02654616 0.65861749\n",
            "  0.71535868 0.84996732 0.16754142 0.96808987 0.72282018 0.6550272\n",
            "  0.52336397 0.39854691 0.7876713  0.57996355 0.28452498 0.65423295\n",
            "  0.70529688 0.81591459 0.1736561  0.7467963  0.89666283 0.32988244\n",
            "  0.35001427 0.48883706 0.24935686 0.47135734 0.81741907 0.67158083\n",
            "  0.7613193  0.73777223 0.6463033  0.8582674  0.37819876 1.02700382\n",
            "  0.82075155 0.37109586 0.53065818 0.87608782]\n",
            " [0.03046928 0.56100856 0.42767749 0.8388435  0.36532354 0.48630991\n",
            "  0.25461143 0.91731818 0.30520087 0.51085637 0.90937723 0.\n",
            "  0.56427291 0.1365695  0.45917747 0.8309885  0.63345895 0.3672415\n",
            "  0.32650173 1.00542358 0.88942383 0.85026581 0.49659448 0.90263507\n",
            "  0.64668524 0.83553593 0.70504463 0.08100925 0.2528783  0.75316317\n",
            "  0.68559357 0.94329773 0.63897795 0.40674087 0.76634766 0.9140477\n",
            "  0.83789423 0.57704315 0.4488358  0.87034648 0.24960284 0.10161181\n",
            "  0.39890666 0.82990367 0.16774447 0.58270754 0.34307301 0.76292915\n",
            "  0.41246546 0.63432677 0.9726285  0.82635913 0.21799656 0.84102719\n",
            "  0.29196185 0.57787992 0.75640431 0.39665191 1.04981882 0.63933371\n",
            "  0.86591183 0.57250508 0.53763628 1.05068728 0.15614043 0.25250946\n",
            "  0.20098587 0.49228681 0.74308591 0.12172587 0.54320761 0.37794714\n",
            "  0.52912875 0.54593695 0.22207248 0.77264811 0.86581535 0.50240265\n",
            "  0.37209601 0.21235242 0.74851051 0.26268947 0.69437495 0.67174946\n",
            "  0.58910978 0.85825329 0.94368794 0.50488809 0.29253431 0.64978761\n",
            "  0.25789445 0.37526921 0.51511827 0.73238699 0.87382498 0.12683657\n",
            "  0.65500203 0.87341346 0.62909414 0.83926376]\n",
            " [0.5857629  0.92413435 0.55090173 0.53259928 0.21469414 0.91376009\n",
            "  0.40489047 0.85584118 0.38834444 0.27010413 0.88266238 0.56427291\n",
            "  0.         0.65738519 0.15701533 0.77312486 0.2202043  0.7091746\n",
            "  0.30428858 0.95704691 0.58891349 0.83294024 0.16916931 0.93122915\n",
            "  0.31104321 0.60640188 0.73950229 0.49321529 0.31823613 0.74704417\n",
            "  0.28703451 0.75111466 0.44981273 0.89101544 0.74776154 0.81459967\n",
            "  0.84294214 0.07312086 0.12846133 0.88965941 0.70284462 0.55511529\n",
            "  0.52686257 0.90654336 0.65431949 0.58929603 0.24162697 0.26173612\n",
            "  0.53238032 0.9034951  0.89244575 0.83942153 0.37880628 0.33142448\n",
            "  0.78551336 0.31913937 0.31429494 0.35458483 0.92280346 0.45295455\n",
            "  0.39628008 1.00065294 0.91226295 0.97124505 0.52171362 0.50433204\n",
            "  0.48064248 0.07404176 0.7429047  0.48842054 0.15984224 0.30904156\n",
            "  0.8325858  0.51941147 0.36042958 0.39839934 0.67174364 0.89331867\n",
            "  0.79786374 0.35855702 0.8004036  0.71278747 0.13332234 0.84603068\n",
            "  0.74286206 0.53195266 0.76123993 0.7549647  0.78981339 0.24225148\n",
            "  0.33670147 0.23492955 0.23984483 0.18628758 0.61732078 0.65917676\n",
            "  0.12679586 0.62157639 0.35857575 0.29594277]\n",
            " [0.14407275 0.64296374 0.56120584 0.97232354 0.4760378  0.5506549\n",
            "  0.38934663 1.0504929  0.3284414  0.63853879 1.04062933 0.1365695\n",
            "  0.65738519 0.         0.5721197  0.96495209 0.7530151  0.47378165\n",
            "  0.38028894 1.1368885  1.02367646 0.98176224 0.61342254 1.0297602\n",
            "  0.77412066 0.97158875 0.83576467 0.2126677  0.33936136 0.88555537\n",
            "  0.80895057 1.07985341 0.77429627 0.44972207 0.89922862 1.04891031\n",
            "  0.96806659 0.6809747  0.53337395 0.99884381 0.33638601 0.23137693\n",
            "  0.53334682 0.95389859 0.25911264 0.71762533 0.42019298 0.87589241\n",
            "  0.54680465 0.73612521 1.10618746 0.9561465  0.34556023 0.95403566\n",
            "  0.3461841  0.70809989 0.87738708 0.5304755  1.18476462 0.77474046\n",
            "  0.98579568 0.62942511 0.61763836 1.18352075 0.15107678 0.3873107\n",
            "  0.33737548 0.58940526 0.87530454 0.16925125 0.65924052 0.50785103\n",
            "  0.62988747 0.6822586  0.34430537 0.90065001 1.00236531 0.5797132\n",
            "  0.45005597 0.32838884 0.8768317  0.34815754 0.7903486  0.78864967\n",
            "  0.71234167 0.99093152 1.08019402 0.61853299 0.34396415 0.77076031\n",
            "  0.38165693 0.49395606 0.64003    0.83494166 1.00946408 0.01729849\n",
            "  0.75983948 1.00916912 0.76047029 0.94406255]\n",
            " [0.47541484 0.7685554  0.39425897 0.46867271 0.09621274 0.76276376\n",
            "  0.25982159 0.73413823 0.37293541 0.1396164  0.75496196 0.45917747\n",
            "  0.15701533 0.5721197  0.         0.6476037  0.18623378 0.55572338\n",
            "  0.28896252 0.83571883 0.52602208 0.70191756 0.04838776 0.79540541\n",
            "  0.23875537 0.51778312 0.59692526 0.38087519 0.24743292 0.61091779\n",
            "  0.25058561 0.65824819 0.33455768 0.74784043 0.61378623 0.69976458\n",
            "  0.70839635 0.12932184 0.15473218 0.7541925  0.56136392 0.42891101\n",
            "  0.36987943 0.76331593 0.52152326 0.44366016 0.21213251 0.30429758\n",
            "  0.37554795 0.74663924 0.7759528  0.70345972 0.25028215 0.38249676\n",
            "  0.64703565 0.20929071 0.31064173 0.19783178 0.81829217 0.33719105\n",
            "  0.41620123 0.84853814 0.75735433 0.85688912 0.45737745 0.35516315\n",
            "  0.33951125 0.09911429 0.6056399  0.41120795 0.08879972 0.15239327\n",
            "  0.67581492 0.37395162 0.23889348 0.35773953 0.57562093 0.73962546\n",
            "  0.64915262 0.24701463 0.65753085 0.57033908 0.25687167 0.69231516\n",
            "  0.5886525  0.47680066 0.66592821 0.59795092 0.65189915 0.20677315\n",
            "  0.20683622 0.08945398 0.11597016 0.27987671 0.53899938 0.57022605\n",
            "  0.20114952 0.54181005 0.26120388 0.38260258]\n",
            " [0.82095316 0.60216568 0.40375139 0.36508608 0.68217715 0.69511826\n",
            "  0.60663976 0.08980183 0.955605   0.50971852 0.11010533 0.8309885\n",
            "  0.77312486 0.96495209 0.6476037  0.         0.57674772 0.55936369\n",
            "  0.8904428  0.18951025 0.35410797 0.07259055 0.61307461 0.1790647\n",
            "  0.48059378 0.25311149 0.15127981 0.76815057 0.79897498 0.09045401\n",
            "  0.53461638 0.20634245 0.32409433 0.77988885 0.07268286 0.09055864\n",
            "  0.10031311 0.70555226 0.80119535 0.14163569 0.69616902 0.73366748\n",
            "  0.43209704 0.21097647 0.73843042 0.24969486 0.82272516 0.66474395\n",
            "  0.41852534 0.46432414 0.14215934 0.1079239  0.67476087 0.69053534\n",
            "  0.76242343 0.45408907 0.57368587 0.50249596 0.22318749 0.3208379\n",
            "  0.62008935 0.73025516 0.61548342 0.22255643 0.93969073 0.57850174\n",
            "  0.63276039 0.74172137 0.10131624 0.88089851 0.61329932 0.55384516\n",
            "  0.50142709 0.30100384 0.69397764 0.47471977 0.19712145 0.63413845\n",
            "  0.66539073 0.72202172 0.15612247 0.6921395  0.78674116 0.32581566\n",
            "  0.31182012 0.39300199 0.19391587 0.43493508 0.76946192 0.56170837\n",
            "  0.6656353  0.6343949  0.53766672 0.74903281 0.2886858  0.95223108\n",
            "  0.71072424 0.28180283 0.42055447 0.7696734 ]\n",
            " [0.64627482 0.84822925 0.45334978 0.31257603 0.28079296 0.86632615\n",
            "  0.40398423 0.65409463 0.55369996 0.14830289 0.68677628 0.63345895\n",
            "  0.2202043  0.7530151  0.18623378 0.57674772 0.         0.65532293\n",
            "  0.46792526 0.75371403 0.36917949 0.64203765 0.14061506 0.74541686\n",
            "  0.09700068 0.38872775 0.57075573 0.55305001 0.43365782 0.56579569\n",
            "  0.06955207 0.53354237 0.25606257 0.87332466 0.56307398 0.6076208\n",
            "  0.65681502 0.14712248 0.30673596 0.70402196 0.69519354 0.58847886\n",
            "  0.44018961 0.73474975 0.67036074 0.43515009 0.39207939 0.14409152\n",
            "  0.4401385  0.79380344 0.68579315 0.65556476 0.41680531 0.21684667\n",
            "  0.78382605 0.14090594 0.12487432 0.28608765 0.70856941 0.25949521\n",
            "  0.23284782 0.94590632 0.84226131 0.76230141 0.64314842 0.48153804\n",
            "  0.48430949 0.22653076 0.56371022 0.59563823 0.09781192 0.27168108\n",
            "  0.74385444 0.37025207 0.41154428 0.1823691  0.45597589 0.83209282\n",
            "  0.76319879 0.42481092 0.63040534 0.70198725 0.21046574 0.7095537\n",
            "  0.61270073 0.31321272 0.54438145 0.65760316 0.78951973 0.02291679\n",
            "  0.37562489 0.25920775 0.12845028 0.18302143 0.39748891 0.74990319\n",
            "  0.13397665 0.40190381 0.15712361 0.24893663]\n",
            " [0.34335854 0.22134629 0.22076774 0.71646774 0.50279958 0.21108207\n",
            "  0.31116585 0.63280246 0.62750359 0.50724849 0.60906181 0.3672415\n",
            "  0.7091746  0.47378165 0.55572338 0.55936369 0.65532293 0.\n",
            "  0.60836461 0.70370808 0.75083416 0.55409033 0.5642562  0.57878564\n",
            "  0.6133211  0.66442824 0.41106552 0.34827839 0.50264257 0.46999168\n",
            "  0.67490588 0.72609416 0.51400111 0.23963952 0.4870183  0.64975004\n",
            "  0.53278774 0.68208388 0.64200318 0.55415419 0.14728556 0.27185253\n",
            "  0.22129063 0.49483762 0.21510074 0.35234285 0.58048764 0.79908291\n",
            "  0.22581417 0.26716757 0.68979021 0.51922165 0.36306378 0.86759104\n",
            "  0.20309845 0.5346087  0.75006924 0.37306768 0.78094961 0.51231642\n",
            "  0.85295088 0.29358267 0.20553312 0.75849639 0.51871986 0.20982353\n",
            "  0.25325622 0.63930714 0.45900768 0.47051723 0.60298621 0.4055019\n",
            "  0.16281397 0.36172849 0.38938571 0.71474467 0.66553848 0.18414721\n",
            "  0.11867772 0.40953029 0.43589483 0.13962347 0.8090187  0.31893608\n",
            "  0.25984724 0.7441374  0.72071453 0.14793653 0.21012327 0.66033651\n",
            "  0.39354107 0.47453636 0.5306757  0.81772076 0.71053146 0.45750972\n",
            "  0.74264612 0.70725813 0.56295865 0.9028841 ]\n",
            " [0.35517181 0.82750129 0.54419842 0.75677106 0.21557335 0.779177\n",
            "  0.32141648 0.97997102 0.08638568 0.41473647 0.99080495 0.32650173\n",
            "  0.30428858 0.38028894 0.28896252 0.8904428  0.46792526 0.60836461\n",
            "  0.         1.07958545 0.81392728 0.93348817 0.33726187 1.0138999\n",
            "  0.52765787 0.79803517 0.80649444 0.28417393 0.10722064 0.83585413\n",
            "  0.53579415 0.93371453 0.60394679 0.71999446 0.84309196 0.95535434\n",
            "  0.93268912 0.35045692 0.1765354  0.97485197 0.54076091 0.36653746\n",
            "  0.51190507 0.96321673 0.46901601 0.65472289 0.0768322  0.55653553\n",
            "  0.52343155 0.85787415 1.02771777 0.92484482 0.25348804 0.6308705\n",
            "  0.60490247 0.49038371 0.58744523 0.38845368 1.08219701 0.60598815\n",
            "  0.68479062 0.86861275 0.80850167 1.10962449 0.23200552 0.40893342\n",
            "  0.3564808  0.25230239 0.82829573 0.21714921 0.3716505  0.3366212\n",
            "  0.76371053 0.59231732 0.22699456 0.64558763 0.85055811 0.77928963\n",
            "  0.65849782 0.20216167 0.86310535 0.55334599 0.43502094 0.84764013\n",
            "  0.74691024 0.76564611 0.93969179 0.7085246  0.60697341 0.49006459\n",
            "  0.23981715 0.26116596 0.39866416 0.49052198 0.82309469 0.38644721\n",
            "  0.42505917 0.8253654  0.54487803 0.60021373]\n",
            " [0.99299471 0.69599561 0.57865455 0.50220991 0.87168681 0.80370759\n",
            "  0.79073518 0.10161999 1.14377813 0.69708749 0.09634418 1.00542358\n",
            "  0.95704691 1.1368885  0.83571883 0.18951025 0.75371403 0.70370808\n",
            "  1.07958545 0.         0.47331753 0.15517139 0.79992552 0.14587689\n",
            "  0.6567309  0.39044859 0.30133495 0.94675418 0.98709175 0.25303798\n",
            "  0.70535744 0.27587383 0.50732903 0.90328441 0.24156563 0.14871114\n",
            "  0.17130003 0.8879476  0.98974533 0.15400583 0.84779132 0.90589632\n",
            "  0.60903301 0.23645994 0.89917637 0.43243765 1.01218258 0.82763926\n",
            "  0.59538551 0.54588317 0.07440788 0.18458297 0.85999762 0.84291095\n",
            "  0.90444426 0.63817754 0.73462093 0.69134213 0.13875828 0.50423405\n",
            "  0.76368055 0.82068674 0.71458656 0.06326656 1.12131125 0.75434634\n",
            "  0.81077709 0.928712   0.26274574 1.06274794 0.79762221 0.74307588\n",
            "  0.61162291 0.48860404 0.88010577 0.63059263 0.32036964 0.7407883\n",
            "  0.79763493 0.90828538 0.26781609 0.84193352 0.96148369 0.4151637\n",
            "  0.44407093 0.52515465 0.25950661 0.56404063 0.91127319 0.736905\n",
            "  0.85283448 0.82390515 0.72436216 0.91873414 0.41032816 1.12329828\n",
            "  0.88710721 0.40331983 0.60037098 0.9269455 ]\n",
            " [0.89165146 0.87309914 0.53470042 0.0574921  0.60313468 0.9377027\n",
            "  0.63481726 0.39295213 0.89587018 0.40395853 0.44376705 0.88942383\n",
            "  0.58891349 1.02367646 0.52602208 0.35410797 0.36917949 0.75083416\n",
            "  0.81392728 0.47331753 0.         0.42567318 0.47841837 0.52876484\n",
            "  0.28853233 0.10471642 0.44600963 0.81101875 0.75433272 0.40280127\n",
            "  0.30205278 0.20228012 0.25313754 0.99045249 0.38897041 0.33057904\n",
            "  0.45437726 0.51604932 0.66913266 0.4944766  0.85132424 0.81311056\n",
            "  0.54534142 0.56306796 0.86132119 0.40568496 0.73725959 0.38668763\n",
            "  0.53604528 0.76210554 0.39891066 0.46109997 0.68153131 0.38251174\n",
            "  0.93519478 0.32770458 0.29666881 0.49320224 0.38317593 0.25340997\n",
            "  0.29615511 0.99551313 0.87850261 0.4579886  0.94676082 0.66389155\n",
            "  0.69741433 0.59135656 0.40825788 0.89136479 0.45175648 0.52057587\n",
            "  0.76185681 0.38985773 0.68885913 0.19434927 0.15937384 0.88501216\n",
            "  0.86939505 0.71156671 0.48547665 0.85268822 0.54624923 0.63471629\n",
            "  0.57512422 0.06054781 0.21771886 0.67681594 0.9420751  0.34678713\n",
            "  0.65194843 0.56385638 0.41595561 0.4896578  0.06575803 1.01581761\n",
            "  0.48387806 0.07280958 0.27231372 0.47080576]\n",
            " [0.83784587 0.56998921 0.42373461 0.43765368 0.72967634 0.67036207\n",
            "  0.63820734 0.08277126 0.99492651 0.56615878 0.059323   0.85026581\n",
            "  0.83294024 0.98176224 0.70191756 0.07259055 0.64203765 0.55409033\n",
            "  0.93348817 0.15517139 0.42567318 0.         0.66988204 0.1069443\n",
            "  0.54673562 0.32546224 0.14663792 0.79203003 0.83837243 0.09914246\n",
            "  0.60264457 0.26595381 0.3870148  0.76304266 0.09039718 0.12702496\n",
            "  0.0333716  0.76691188 0.85394808 0.06909671 0.69631425 0.75073298\n",
            "  0.45436198 0.14528388 0.74545375 0.28086013 0.86829178 0.73451019\n",
            "  0.44072698 0.42545227 0.13783168 0.04602797 0.70812126 0.76199752\n",
            "  0.75633291 0.51509475 0.64407945 0.54525508 0.23441106 0.38365585\n",
            "  0.69239185 0.69747905 0.58576987 0.2049301  0.96724312 0.59935571\n",
            "  0.65604463 0.79786489 0.10825638 0.90879927 0.67324366 0.59828495\n",
            "  0.47604748 0.3412098  0.72896004 0.54618543 0.26750706 0.60808388\n",
            "  0.6530371  0.75721846 0.12226595 0.69099843 0.85244927 0.28761317\n",
            "  0.29657408 0.46548159 0.25174436 0.41925616 0.76325796 0.62790259\n",
            "  0.70295358 0.68189278 0.59505768 0.81676208 0.36005481 0.96821839\n",
            "  0.77585441 0.35310192 0.48508683 0.84032181]\n",
            " [0.5111144  0.77207801 0.38811389 0.42100542 0.14024637 0.77372469\n",
            "  0.28173598 0.6983165  0.4213229  0.10372583 0.72153003 0.49659448\n",
            "  0.16916931 0.61342254 0.04838776 0.61307461 0.14061506 0.5642562\n",
            "  0.33726187 0.79992552 0.47841837 0.66988204 0.         0.76589719\n",
            "  0.19064468 0.47303559 0.57136234 0.41699973 0.29392841 0.58133192\n",
            "  0.20307405 0.61465517 0.29495297 0.76610272 0.5830523  0.66157298\n",
            "  0.67810836 0.12046152 0.19626199 0.72444775 0.58186633 0.45916734\n",
            "  0.36670124 0.73834724 0.54764398 0.42032932 0.26044213 0.26713066\n",
            "  0.37070964 0.74063625 0.73842943 0.67391921 0.28278694 0.34492391\n",
            "  0.66900635 0.16643172 0.26548464 0.19485307 0.77749969 0.29777434\n",
            "  0.37264827 0.85783705 0.7624179  0.81883043 0.50267942 0.37116662\n",
            "  0.36274605 0.12878882 0.57669032 0.45504622 0.04674543 0.15944844\n",
            "  0.67536702 0.35040512 0.2746699  0.30942967 0.53241981 0.74695261\n",
            "  0.66308157 0.28591881 0.63223385 0.59008066 0.24518787 0.67797831\n",
            "  0.5752683  0.42868942 0.62281775 0.59448994 0.67419558 0.16021207\n",
            "  0.24017138 0.12140911 0.07557578 0.25683474 0.49287142 0.61078046\n",
            "  0.17948937 0.4958694  0.21625201 0.35353806]\n",
            " [0.8872814  0.55274302 0.48499397 0.54335078 0.81610551 0.6628625\n",
            "  0.70801054 0.14747791 1.07075448 0.66238223 0.09152924 0.90263507\n",
            "  0.93122915 1.0297602  0.79540541 0.1790647  0.74541686 0.57878564\n",
            "  1.0138999  0.14587689 0.52876484 0.1069443  0.76589719 0.\n",
            "  0.65091641 0.43047645 0.20769077 0.85079469 0.91519481 0.18460448\n",
            "  0.70799895 0.35593478 0.48953386 0.7661821  0.18363892 0.20982428\n",
            "  0.08871835 0.86676609 0.94521657 0.04161014 0.72534175 0.80142446\n",
            "  0.51724201 0.09192726 0.78306458 0.35993667 0.95184267 0.84080097\n",
            "  0.5039525  0.40186385 0.17917876 0.09199536 0.7791389  0.86892217\n",
            "  0.77552265 0.61549352 0.7506926  0.62847531 0.27300726 0.48612525\n",
            "  0.7991513  0.67631099 0.57220858 0.20906596 1.02905269 0.65714275\n",
            "  0.71581909 0.89274196 0.18981776 0.97146584 0.77210372 0.68261481\n",
            "  0.47322266 0.42604926 0.80162878 0.65311724 0.36955181 0.59992455\n",
            "  0.66500193 0.82986535 0.1551337  0.71833252 0.95586774 0.27536873\n",
            "  0.32068289 0.57071899 0.34039668 0.43409248 0.78217457 0.73197666\n",
            "  0.77853143 0.76865066 0.6919697  0.92173942 0.46300681 1.01524726\n",
            "  0.87889944 0.45596321 0.58829339 0.94700507]\n",
            " [0.65524225 0.7923548  0.39959075 0.23104067 0.32204736 0.82215078\n",
            "  0.40042403 0.55721615 0.61107391 0.13584351 0.59050964 0.64668524\n",
            "  0.31104321 0.77412066 0.23875537 0.48059378 0.09700068 0.6133211\n",
            "  0.52765787 0.6567309  0.28853233 0.54673562 0.19064468 0.65091641\n",
            "  0.         0.29538361 0.48222789 0.56573766 0.47639704 0.47326776\n",
            "  0.06617263 0.44007145 0.16357478 0.84179753 0.46958759 0.51065144\n",
            "  0.56252261 0.23843212 0.38093213 0.60968295 0.67243743 0.58793641\n",
            "  0.3925524  0.6439613  0.65891159 0.35510924 0.45082803 0.20517654\n",
            "  0.38976231 0.72491158 0.58882641 0.56183397 0.42928567 0.26075267\n",
            "  0.7612255  0.07918932 0.13755527 0.2646307  0.61303904 0.16703269\n",
            "  0.24041565 0.89738337 0.78895425 0.66553513 0.678703   0.46167694\n",
            "  0.47634562 0.30422876 0.47181364 0.62671388 0.16376625 0.26941799\n",
            "  0.68445281 0.29525646 0.43008227 0.12662891 0.36105671 0.7826677\n",
            "  0.72667029 0.44851    0.54087916 0.67762717 0.3061544  0.63126393\n",
            "  0.5385394  0.23805325 0.45027484 0.59639485 0.7673906  0.08117626\n",
            "  0.39259569 0.28825045 0.13646853 0.27167672 0.3084501  0.76891612\n",
            "  0.23057865 0.31224237 0.06562871 0.31652644]\n",
            " [0.83462605 0.77482801 0.45435047 0.11368732 0.58287121 0.84427264\n",
            "  0.5831103  0.30167136 0.87603399 0.3835068  0.34900912 0.83553593\n",
            "  0.60640188 0.97158875 0.51778312 0.25311149 0.38872775 0.66442824\n",
            "  0.79803517 0.39044859 0.10471642 0.32546224 0.47303559 0.43047645\n",
            "  0.29538361 0.         0.34171475 0.75984639 0.72716873 0.29812167\n",
            "  0.32983395 0.14483997 0.2006758  0.90320406 0.28445469 0.24265005\n",
            "  0.35285536 0.53365218 0.66902721 0.39455002 0.77377202 0.752506\n",
            "  0.46919296 0.45998797 0.79110043 0.31362844 0.72274418 0.44079616\n",
            "  0.45857341 0.65992626 0.31699409 0.35881274 0.63724023 0.45248099\n",
            "  0.85498659 0.30899955 0.34750954 0.44609565 0.32239284 0.19957264\n",
            "  0.37431322 0.89875682 0.78141498 0.38539368 0.90777204 0.59832195\n",
            "  0.63793681 0.59591945 0.30354149 0.85055934 0.45565009 0.48221212\n",
            "  0.66423692 0.30934989 0.64819764 0.24200137 0.07109982 0.78983903\n",
            "  0.78223572 0.67307243 0.38079019 0.77400823 0.58615741 0.53099389\n",
            "  0.47493518 0.14025491 0.15584807 0.58086099 0.86197632 0.36855313\n",
            "  0.61272086 0.53936093 0.40233107 0.53695437 0.04691233 0.96236033\n",
            "  0.51634023 0.04290548 0.25680039 0.5370769 ]\n",
            " [0.69198614 0.45515026 0.28064639 0.43876662 0.61117427 0.54461789\n",
            "  0.50103496 0.22209042 0.86309539 0.46944543 0.20499542 0.70504463\n",
            "  0.73950229 0.83576467 0.59692526 0.15127981 0.57075573 0.41106552\n",
            "  0.80649444 0.30133495 0.44600963 0.14663792 0.57136234 0.20769077\n",
            "  0.48222789 0.34171475 0.         0.6488019  0.70750548 0.06091569\n",
            "  0.5450819  0.34395191 0.31934342 0.62868251 0.07904495 0.24153455\n",
            "  0.13309256 0.67904447 0.74352028 0.1699886  0.55122801 0.60502314\n",
            "  0.31223435 0.16704111 0.59894821 0.15462902 0.74529571 0.68367714\n",
            "  0.29873229 0.32457038 0.27914439 0.12233551 0.57197264 0.72469666\n",
            "  0.61405771 0.43308505 0.59999491 0.42256846 0.37009316 0.31591558\n",
            "  0.66869679 0.58298094 0.46703561 0.35107552 0.82557321 0.45538987\n",
            "  0.51300413 0.69550393 0.05027818 0.76749607 0.58303678 0.47701379\n",
            "  0.35165574 0.22330389 0.59419089 0.51500073 0.30861434 0.48413313\n",
            "  0.51477925 0.62244873 0.06090188 0.54635852 0.77856604 0.19039223\n",
            "  0.16059544 0.46915035 0.33428966 0.28366213 0.62105278 0.5608179\n",
            "  0.57084421 0.56408299 0.49988792 0.75260582 0.3861392  0.8220687\n",
            "  0.70091148 0.38029395 0.41679417 0.79402421]\n",
            " [0.09456889 0.55804755 0.36841938 0.75981815 0.28854845 0.49858928\n",
            "  0.17690068 0.85584176 0.28416843 0.42989962 0.85134334 0.08100925\n",
            "  0.49321529 0.2126677  0.38087519 0.76815057 0.55305001 0.34827839\n",
            "  0.28417393 0.94675418 0.81101875 0.79203003 0.41699973 0.85079469\n",
            "  0.56573766 0.75984639 0.6488019  0.         0.19398005 0.69373555\n",
            "  0.60467286 0.87128849 0.56186523 0.43586976 0.70593908 0.84892871\n",
            "  0.78187161 0.50136851 0.38351225 0.81671243 0.25843254 0.08355375\n",
            "  0.33772118 0.78255491 0.18484224 0.5185721  0.2850893  0.68381114\n",
            "  0.35136886 0.61277492 0.91026112 0.77098848 0.13702377 0.76179891\n",
            "  0.32095423 0.49734712 0.67570129 0.31782608 0.98424931 0.56236437\n",
            "  0.78530953 0.5874742  0.53679943 0.98953543 0.1796755  0.19369924\n",
            "  0.13598611 0.42010645 0.68402434 0.12508167 0.46370149 0.29722908\n",
            "  0.51061829 0.47678619 0.14238012 0.69177492 0.79262148 0.50464177\n",
            "  0.37898897 0.13589009 0.69576321 0.27130642 0.62123787 0.63418501\n",
            "  0.54483377 0.778738   0.8723613  0.47365165 0.32323131 0.56914223\n",
            "  0.17744089 0.29559068 0.43414229 0.65658123 0.79719696 0.20513072\n",
            "  0.57865016 0.7970121  0.54893861 0.76241253]\n",
            " [0.27803014 0.72263482 0.44010417 0.69831315 0.15482052 0.67872658\n",
            "  0.21536925 0.88876701 0.15668732 0.35038263 0.89644331 0.2528783\n",
            "  0.31823613 0.33936136 0.24743292 0.79897498 0.43365782 0.50264257\n",
            "  0.10722064 0.98709175 0.75433272 0.83837243 0.29392841 0.91519481\n",
            "  0.47639704 0.72716873 0.70750548 0.19398005 0.         0.73989975\n",
            "  0.49688179 0.85746119 0.52838699 0.62649783 0.74815953 0.86799407\n",
            "  0.83577501 0.34371049 0.19706422 0.87683666 0.44300908 0.27192173\n",
            "  0.40756404 0.86145432 0.37596507 0.55796472 0.09127209 0.54405379\n",
            "  0.41947566 0.75067727 0.9383112  0.82732462 0.14644338 0.6215559\n",
            "  0.5126882  0.42665537 0.55800456 0.29738862 0.99777266 0.53003645\n",
            "  0.66254853 0.76832983 0.70422012 1.02009485 0.21128726 0.30174532\n",
            "  0.24995732 0.25024691 0.73187291 0.1710508  0.33613782 0.24976463\n",
            "  0.65689349 0.49849007 0.12013786 0.6004714  0.77467577 0.67597079\n",
            "  0.55782736 0.09494228 0.76290578 0.45520824 0.4510235  0.7416663\n",
            "  0.64161136 0.7107432  0.86214633 0.60131637 0.51541965 0.45397008\n",
            "  0.13684201 0.19048381 0.34086784 0.49633742 0.7562858  0.34094062\n",
            "  0.42249083 0.75783138 0.48205375 0.60594935]\n",
            " [0.74150855 0.51461897 0.32583701 0.40178066 0.6340991  0.60538854\n",
            "  0.53906489 0.16603226 0.89635792 0.47787267 0.15826594 0.75316317\n",
            "  0.74704417 0.88555537 0.61091779 0.09045401 0.56579569 0.46999168\n",
            "  0.83585413 0.25303798 0.40280127 0.09914246 0.58133192 0.18460448\n",
            "  0.47326776 0.29812167 0.06091569 0.69373555 0.73989975 0.\n",
            "  0.53323919 0.2859699  0.31002382 0.68943484 0.0182622  0.18088431\n",
            "  0.09789237 0.68330456 0.76127111 0.14328125 0.60842967 0.65425599\n",
            "  0.35601969 0.17301997 0.65343287 0.18202073 0.77161207 0.66951231\n",
            "  0.34236993 0.38074026 0.22278558 0.09260913 0.60900753 0.70479241\n",
            "  0.67308875 0.43283799 0.58235989 0.44814298 0.31106042 0.30657133\n",
            "  0.64292779 0.64260631 0.52707179 0.29806791 0.8684277  0.50156901\n",
            "  0.55776726 0.70814692 0.01098465 0.80992612 0.58824048 0.5016604\n",
            "  0.41215334 0.24424618 0.62993761 0.49120148 0.25734652 0.54474061\n",
            "  0.57509153 0.65820398 0.08267852 0.603994   0.77578204 0.24380274\n",
            "  0.22151071 0.43164478 0.27557302 0.34450528 0.68010893 0.55369442\n",
            "  0.60421396 0.58643207 0.50756176 0.74494315 0.34038606 0.87230123\n",
            "  0.69840609 0.33412643 0.40912327 0.77828664]\n",
            " [0.6964192  0.85722462 0.46351443 0.24621084 0.34254036 0.88459176\n",
            "  0.4466094  0.60752141 0.62123036 0.18056941 0.64382197 0.68559357\n",
            "  0.28703451 0.80895057 0.25058561 0.53461638 0.06955207 0.67490588\n",
            "  0.53579415 0.70535744 0.30205278 0.60264457 0.20307405 0.70799895\n",
            "  0.06617263 0.32983395 0.5450819  0.60467286 0.49688179 0.53323919\n",
            "  0.         0.47388424 0.22574019 0.90059157 0.52852768 0.55758534\n",
            "  0.62012066 0.21443669 0.37622847 0.66709957 0.72786347 0.63363332\n",
            "  0.45502267 0.7050506  0.70975756 0.42084164 0.45956785 0.13960461\n",
            "  0.45289626 0.7910609  0.63546101 0.62020515 0.46766172 0.19529662\n",
            "  0.81676882 0.14094531 0.07598823 0.31722604 0.65186275 0.22916649\n",
            "  0.18464321 0.96091117 0.85337222 0.70983178 0.70453628 0.51528874\n",
            "  0.52500694 0.29608002 0.5323797  0.65525761 0.16421765 0.31355633\n",
            "  0.74978248 0.36142391 0.46516763 0.11287459 0.39902603 0.84629963\n",
            "  0.78687454 0.48077502 0.60302796 0.73366042 0.25724695 0.69697884\n",
            "  0.60465849 0.24496128 0.48557836 0.66189629 0.82276776 0.04665204\n",
            "  0.42828379 0.31593678 0.17079572 0.21444674 0.33433547 0.80492698\n",
            "  0.18657504 0.3391859  0.13062711 0.25091751]\n",
            " [0.93901113 0.79884984 0.53539266 0.2411121  0.71814634 0.88390734\n",
            "  0.69692742 0.2096891  1.00936502 0.52140028 0.26506628 0.94329773\n",
            "  0.75111466 1.07985341 0.65824819 0.20634245 0.53354237 0.72609416\n",
            "  0.93371453 0.27587383 0.20228012 0.26595381 0.61465517 0.35593478\n",
            "  0.44007145 0.14483997 0.34395191 0.87128849 0.85746119 0.2859699\n",
            "  0.47388424 0.         0.32995338 0.95828323 0.26811646 0.14620179\n",
            "  0.29882502 0.67842741 0.81091439 0.32903972 0.85052617 0.85391128\n",
            "  0.55663119 0.41123132 0.87925635 0.37903221 0.85947151 0.57906675\n",
            "  0.54433381 0.66666926 0.20227912 0.30952198 0.75660944 0.58256559\n",
            "  0.92557081 0.44896449 0.48632233 0.56719182 0.18232774 0.3280495\n",
            "  0.49799128 0.92645343 0.80995003 0.25592365 1.02844172 0.69662457\n",
            "  0.74264782 0.73910437 0.29527009 0.97025278 0.59929098 0.60880622\n",
            "  0.6934862  0.39911879 0.77028189 0.38042844 0.08315791 0.82495737\n",
            "  0.83956157 0.79645188 0.36127036 0.84876287 0.72922472 0.52917831\n",
            "  0.50003103 0.25895876 0.01641168 0.61880804 0.93265938 0.51325978\n",
            "  0.73639182 0.67309181 0.54231461 0.67802437 0.14538868 1.06927651\n",
            "  0.66045808 0.13914514 0.39877377 0.66979929]\n",
            " [0.63992495 0.6660892  0.2933932  0.2083662  0.38844597 0.71308687\n",
            "  0.38498433 0.40603948 0.67947429 0.19514047 0.43407261 0.63897795\n",
            "  0.44981273 0.77429627 0.33455768 0.32409433 0.25606257 0.51400111\n",
            "  0.60394679 0.50732903 0.25313754 0.3870148  0.29495297 0.48953386\n",
            "  0.16357478 0.2006758  0.31934342 0.56186523 0.52838699 0.31002382\n",
            "  0.22574019 0.32995338 0.         0.75228715 0.30701393 0.36679458\n",
            "  0.40087181 0.38152668 0.48918133 0.44808028 0.60282136 0.56033907\n",
            "  0.29872442 0.48038653 0.60895593 0.20363372 0.53016198 0.36459538\n",
            "  0.29104206 0.58122318 0.44399753 0.39950312 0.43697422 0.40972611\n",
            "  0.68853389 0.13086399 0.28364844 0.24594508 0.4838198  0.00345856\n",
            "  0.3650662  0.78033295 0.66657688 0.52403296 0.70713793 0.41087544\n",
            "  0.44473658 0.42334497 0.30834    0.65003258 0.29029318 0.28174309\n",
            "  0.55501505 0.15797123 0.44755404 0.21297464 0.24685488 0.66631642\n",
            "  0.63223243 0.47240094 0.37751725 0.6051021  0.4664175  0.4768126\n",
            "  0.39061718 0.23345899 0.33574711 0.4664025  0.69527675 0.24368183\n",
            "  0.41204826 0.34314909 0.21972962 0.4351361  0.23551013 0.76572776\n",
            "  0.38936712 0.23563347 0.0991118  0.47534454]\n",
            " [0.37627976 0.23926334 0.45898329 0.95590403 0.67651801 0.12126189\n",
            "  0.48821453 0.84490526 0.71074659 0.72563354 0.81313826 0.40674087\n",
            "  0.89101544 0.44972207 0.74784043 0.77988885 0.87332466 0.23963952\n",
            "  0.71999446 0.90328441 0.99045249 0.76304266 0.76610272 0.7661821\n",
            "  0.84179753 0.90320406 0.62868251 0.43586976 0.62649783 0.68943484\n",
            "  0.90059157 0.95828323 0.75228715 0.         0.70731509 0.87021561\n",
            "  0.73727022 0.87714944 0.80130118 0.74948162 0.1884159  0.35471149\n",
            "  0.45556156 0.67560981 0.25110677 0.59008215 0.71571672 1.0172174\n",
            "  0.46187835 0.37974302 0.90085936 0.72305605 0.51516415 1.08920174\n",
            "  0.11549148 0.76260836 0.9764846  0.58725193 0.99610791 0.75072465\n",
            "  1.08221061 0.18275938 0.21330699 0.96234265 0.55678212 0.39504154\n",
            "  0.41041959 0.81758347 0.6785902  0.52845045 0.80900375 0.60804561\n",
            "  0.29305825 0.60129797 0.53712768 0.94895897 0.90144459 0.17638875\n",
            "  0.12108573 0.54752167 0.64094538 0.17822797 1.00467093 0.49091765\n",
            "  0.4686508  0.98339105 0.95177327 0.34515613 0.11429436 0.88112828\n",
            "  0.55542251 0.65994559 0.74544885 1.02293732 0.94950189 0.43272214\n",
            "  0.94523927 0.94608444 0.79559212 1.11597211]\n",
            " [0.75515711 0.53284093 0.33871876 0.38982342 0.63961529 0.62360461\n",
            "  0.54930919 0.15138308 0.90475504 0.47939843 0.1483853  0.76634766\n",
            "  0.74776154 0.89922862 0.61378623 0.07268286 0.56307398 0.4870183\n",
            "  0.84309196 0.24156563 0.38897041 0.09039718 0.5830523  0.18363892\n",
            "  0.46958759 0.28445469 0.07904495 0.70593908 0.74815953 0.0182622\n",
            "  0.52852768 0.26811646 0.30701393 0.70731509 0.         0.16323043\n",
            "  0.09518103 0.68312718 0.76504771 0.1420293  0.62475853 0.66786344\n",
            "  0.36839566 0.18113323 0.66878376 0.19121845 0.77797851 0.6638496\n",
            "  0.35474618 0.39855307 0.2077067  0.09254844 0.61884406 0.69737852\n",
            "  0.69011043 0.43192206 0.57580822 0.45486848 0.29440187 0.30357942\n",
            "  0.6338614  0.660838   0.54532955 0.28435794 0.87985563 0.51436341\n",
            "  0.57004991 0.71045109 0.02878867 0.82125386 0.58851728 0.50796038\n",
            "  0.430408   0.25081624 0.63935223 0.4829978  0.24142263 0.56298666\n",
            "  0.59270812 0.66758605 0.09748791 0.62048477 0.77337001 0.26130404\n",
            "  0.23960591 0.41945882 0.25756023 0.36248123 0.69713995 0.55035122\n",
            "  0.61293936 0.59185822 0.50877396 0.74111347 0.32592866 0.88612653\n",
            "  0.6961796  0.31955889 0.40606503 0.77202006]\n",
            " [0.9051716  0.688964   0.48850793 0.35539733 0.74329788 0.78418099\n",
            "  0.68326059 0.06392227 1.02401816 0.56022501 0.11887658 0.9140477\n",
            "  0.81459967 1.04891031 0.69976458 0.09055864 0.6076208  0.64975004\n",
            "  0.95535434 0.14871114 0.33057904 0.12702496 0.66157298 0.20982428\n",
            "  0.51065144 0.24265005 0.24153455 0.84892871 0.86799407 0.18088431\n",
            "  0.55758534 0.14620179 0.36679458 0.87021561 0.16323043 0.\n",
            "  0.16034159 0.7444284  0.85445659 0.18471849 0.78577913 0.81803877\n",
            "  0.51557709 0.27041173 0.82643327 0.33134877 0.88518306 0.67894059\n",
            "  0.5021546  0.54798932 0.07817627 0.1728601  0.74962237 0.69477885\n",
            "  0.85276898 0.49721851 0.58591035 0.57062143 0.13588128 0.363895\n",
            "  0.61675699 0.8169837  0.70313175 0.15725768 1.01764517 0.66169752\n",
            "  0.71442905 0.79010903 0.19179381 0.95879304 0.65605514 0.61964127\n",
            "  0.59010366 0.37512705 0.76744462 0.48195222 0.17368344 0.72283625\n",
            "  0.75593192 0.79515412 0.23952699 0.78195916 0.81423393 0.40932371\n",
            "  0.40184848 0.37954782 0.1305762  0.52514917 0.85981385 0.59021588\n",
            "  0.73731955 0.69592781 0.58613931 0.77049977 0.26593396 1.03658843\n",
            "  0.74048608 0.25883371 0.45637501 0.77842007]\n",
            " [0.82446018 0.54028374 0.41361208 0.46397195 0.73188076 0.64242462\n",
            "  0.63220966 0.11297695 0.9919894  0.57448811 0.07644202 0.83789423\n",
            "  0.84294214 0.96806659 0.70839635 0.10031311 0.65681502 0.53278774\n",
            "  0.93268912 0.17130003 0.45437726 0.0333716  0.67810836 0.08871835\n",
            "  0.56252261 0.35285536 0.13309256 0.78187161 0.83577501 0.09789237\n",
            "  0.62012066 0.29882502 0.40087181 0.73727022 0.09518103 0.16034159\n",
            "  0.         0.77819948 0.85907385 0.04720908 0.67652756 0.73764101\n",
            "  0.44501079 0.1125516  0.72819617 0.27803729 0.86904412 0.75376658\n",
            "  0.43146086 0.39449718 0.16549326 0.01432401 0.70275953 0.7837762\n",
            "  0.7341298  0.52682967 0.66428847 0.54549297 0.26341125 0.39745916\n",
            "  0.71621323 0.66743701 0.55665758 0.22625368 0.95842881 0.58848238\n",
            "  0.64604003 0.80533191 0.10455798 0.90025882 0.6836747  0.59919769\n",
            "  0.44842736 0.3418473  0.72435137 0.56821611 0.29726898 0.57990652\n",
            "  0.62893785 0.7526356  0.09721422 0.67074583 0.86724904 0.25738802\n",
            "  0.27358788 0.49231924 0.2847753  0.39498446 0.74100028 0.64352889\n",
            "  0.69962982 0.68424026 0.6039197  0.83358555 0.38899288 0.95419197\n",
            "  0.79023781 0.38211443 0.49969433 0.86068919]\n",
            " [0.59568456 0.89184911 0.50843782 0.45961981 0.21304703 0.89039984\n",
            "  0.38913223 0.7870379  0.43656405 0.21145158 0.81541926 0.57704315\n",
            "  0.07312086 0.6809747  0.12932184 0.70555226 0.14712248 0.68208388\n",
            "  0.35045692 0.8879476  0.51604932 0.76691188 0.12046152 0.86676609\n",
            "  0.23843212 0.53365218 0.67904447 0.50136851 0.34371049 0.68330456\n",
            "  0.21443669 0.67842741 0.38152668 0.87714944 0.68312718 0.7444284\n",
            "  0.77819948 0.         0.17628496 0.82515643 0.69064923 0.55488978\n",
            "  0.48715726 0.84586612 0.64953391 0.5317022  0.28006293 0.20608596\n",
            "  0.49114412 0.86075776 0.82243215 0.77527532 0.375912   0.2812081\n",
            "  0.77612425 0.25183318 0.24657087 0.31511533 0.85092607 0.38475349\n",
            "  0.33605062 0.97546127 0.88174986 0.90070768 0.55364894 0.48402044\n",
            "  0.46862372 0.09828024 0.67968851 0.51436999 0.0961486  0.27662535\n",
            "  0.79575641 0.46233292 0.36173612 0.32638905 0.59940751 0.86544371\n",
            "  0.77774951 0.36557083 0.73986641 0.69965629 0.1277185  0.79510204\n",
            "  0.6931232  0.45939265 0.68870647 0.71493133 0.78092767 0.169282\n",
            "  0.33244562 0.21809718 0.18072323 0.15534627 0.54421642 0.68097277\n",
            "  0.07888147 0.54849075 0.28805347 0.26321471]\n",
            " [0.47264337 0.86229711 0.5168708  0.61167416 0.14377348 0.83743483\n",
            "  0.3308423  0.88822677 0.26169895 0.29434783 0.90783771 0.4488358\n",
            "  0.12846133 0.53337395 0.15473218 0.80119535 0.30673596 0.64200318\n",
            "  0.1765354  0.98974533 0.66913266 0.85394808 0.19626199 0.94521657\n",
            "  0.38093213 0.66902721 0.74352028 0.38351225 0.19706422 0.76127111\n",
            "  0.37622847 0.81091439 0.48918133 0.80130118 0.76504771 0.85445659\n",
            "  0.85907385 0.17628496 0.         0.90430382 0.61338263 0.4533745\n",
            "  0.48827251 0.90849473 0.55612779 0.58904846 0.11413397 0.38161043\n",
            "  0.49661516 0.86164661 0.93053043 0.8535119  0.28724049 0.4549488\n",
            "  0.69115317 0.36244358 0.41968533 0.32703177 0.97276896 0.49184414\n",
            "  0.51229764 0.92624867 0.84752351 1.01154761 0.39455033 0.43224898\n",
            "  0.39687976 0.0807512  0.75546821 0.36412786 0.21737652 0.27335326\n",
            "  0.7802666  0.52037273 0.26425517 0.48875863 0.7286646  0.82441271\n",
            "  0.71814152 0.25505722 0.80353295 0.62443194 0.26098121 0.82302263\n",
            "  0.71900265 0.61630872 0.81905841 0.71021101 0.69476223 0.32958929\n",
            "  0.25027958 0.18494239 0.26986547 0.31428451 0.68754462 0.53618574\n",
            "  0.24889059 0.69080378 0.41236811 0.42421723]\n",
            " [0.8558003  0.54305873 0.44955162 0.50672169 0.77587156 0.64981489\n",
            "  0.67102198 0.12673441 1.03269235 0.62090097 0.07437692 0.87034648\n",
            "  0.88965941 0.99884381 0.7541925  0.14163569 0.70402196 0.55415419\n",
            "  0.97485197 0.15400583 0.4944766  0.06909671 0.72444775 0.04161014\n",
            "  0.60968295 0.39455002 0.1699886  0.81671243 0.87683666 0.14328125\n",
            "  0.66709957 0.32903972 0.44808028 0.74948162 0.1420293  0.18471849\n",
            "  0.04720908 0.82515643 0.90430382 0.         0.69974603 0.76947269\n",
            "  0.48151056 0.08995678 0.75491095 0.32033081 0.91216724 0.80039731\n",
            "  0.46809872 0.39386012 0.1692188  0.05079196 0.74195367 0.82953866\n",
            "  0.75325616 0.57389089 0.71062844 0.58865912 0.26697751 0.44466727\n",
            "  0.76088843 0.66860937 0.5611637  0.21480402 0.99433836 0.62302397\n",
            "  0.6812905  0.85140746 0.14884604 0.93648594 0.73050758 0.6426534\n",
            "  0.45762421 0.38570531 0.76409193 0.61382612 0.33592426 0.58691645\n",
            "  0.64492123 0.79235837 0.12201212 0.69326258 0.91445756 0.26134113\n",
            "  0.29448438 0.53457799 0.31407735 0.41198413 0.76001369 0.69070524\n",
            "  0.74033835 0.72834088 0.65045    0.88067246 0.42879908 0.98459818\n",
            "  0.83744579 0.42181978 0.54690054 0.90700454]\n",
            " [0.22122773 0.31214786 0.31953143 0.81079733 0.48824831 0.24046613\n",
            "  0.3015678  0.77326869 0.5412754  0.54934199 0.75243858 0.24960284\n",
            "  0.70284462 0.33638601 0.56136392 0.69616902 0.69519354 0.14728556\n",
            "  0.54076091 0.84779132 0.85132424 0.69631425 0.58186633 0.72534175\n",
            "  0.67243743 0.77377202 0.55122801 0.25843254 0.44300908 0.60842967\n",
            "  0.72786347 0.85052617 0.60282136 0.1884159  0.62475853 0.78577913\n",
            "  0.67652756 0.69064923 0.61338263 0.69974603 0.         0.17492365\n",
            "  0.30601365 0.6420255  0.08211531 0.47157708 0.53069307 0.83819003\n",
            "  0.31572617 0.40043448 0.83031889 0.66322469 0.32683678 0.91198059\n",
            "  0.08890572 0.59377048 0.80379424 0.41094857 0.9191076  0.60180753\n",
            "  0.91168175 0.32908021 0.28830881 0.90120578 0.40574314 0.21365595\n",
            "  0.22255627 0.62931063 0.59750645 0.3664365  0.62581306 0.42582828\n",
            "  0.29434278 0.46447786 0.34912762 0.78637947 0.78405731 0.25280042\n",
            "  0.12279842 0.3605977  0.58022772 0.01315632 0.81789286 0.46570765\n",
            "  0.40529826 0.83627512 0.8467056  0.29504255 0.09496203 0.70472436\n",
            "  0.36701262 0.4728614  0.56674905 0.83837643 0.81829223 0.31947651\n",
            "  0.76021884 0.81587495 0.63218898 0.93394766]\n",
            " [0.08730876 0.47652965 0.32992299 0.76496848 0.34313944 0.41503801\n",
            "  0.18754659 0.8191169  0.36730994 0.45400978 0.80970543 0.10161181\n",
            "  0.55511529 0.23137693 0.42891101 0.73366748 0.58847886 0.27185253\n",
            "  0.36653746 0.90589632 0.81311056 0.75073298 0.45916734 0.80142446\n",
            "  0.58793641 0.752506   0.60502314 0.08355375 0.27192173 0.65425599\n",
            "  0.63363332 0.85391128 0.56033907 0.35471149 0.66786344 0.81803877\n",
            "  0.73764101 0.55488978 0.4533745  0.76947269 0.17492365 0.\n",
            "  0.30255101 0.72831227 0.10410519 0.4869882  0.36177934 0.72541265\n",
            "  0.31591097 0.53860767 0.8748223  0.72593398 0.17899407 0.80246111\n",
            "  0.24080092 0.51433257 0.70736692 0.3269732  0.95391877 0.5603247\n",
            "  0.81738708 0.50393004 0.45475298 0.95217454 0.24703281 0.15759378\n",
            "  0.11572595 0.48113933 0.64404001 0.19929498 0.5056104  0.32011544\n",
            "  0.43465118 0.4549074  0.19479572 0.71140257 0.77831861 0.42195844\n",
            "  0.29555709 0.19861373 0.64754885 0.18776955 0.67877185 0.57085122\n",
            "  0.48750259 0.78635916 0.85343283 0.40520445 0.24365868 0.60228482\n",
            "  0.22249825 0.34001544 0.46357534 0.70850121 0.79268764 0.21859542\n",
            "  0.62983621 0.79175822 0.56218473 0.81110355]\n",
            " [0.38960879 0.40914357 0.03275732 0.50568068 0.34489261 0.42965572\n",
            "  0.19363897 0.5188343  0.55942097 0.2942368  0.51368296 0.39890666\n",
            "  0.52686257 0.53334682 0.36987943 0.43209704 0.44018961 0.22129063\n",
            "  0.51190507 0.60903301 0.54534142 0.45436198 0.36670124 0.51724201\n",
            "  0.3925524  0.46919296 0.31223435 0.33772118 0.40756404 0.35601969\n",
            "  0.45502267 0.55663119 0.29872442 0.45556156 0.36839566 0.51557709\n",
            "  0.44501079 0.48715726 0.48827251 0.48151056 0.30601365 0.30255101\n",
            "  0.         0.45627606 0.32355373 0.18444073 0.46053265 0.58268663\n",
            "  0.01365206 0.37699653 0.57385437 0.43456692 0.26501027 0.64896461\n",
            "  0.39031871 0.3142438  0.52970485 0.17264943 0.65144462 0.29745614\n",
            "  0.63177804 0.50649079 0.4022294  0.65241242 0.5134203  0.14640543\n",
            "  0.20174761 0.46428707 0.34630709 0.45527135 0.39952487 0.21939179\n",
            "  0.30894855 0.16037993 0.28926961 0.49402354 0.48487063 0.39223525\n",
            "  0.33708878 0.31700613 0.36235224 0.30740783 0.61025708 0.33837794\n",
            "  0.23579701 0.53183693 0.55490014 0.22824963 0.39713337 0.4432225\n",
            "  0.27209252 0.30445852 0.32057109 0.61056963 0.51306559 0.52103276\n",
            "  0.53897064 0.51089326 0.34171882 0.68906844]\n",
            " [0.81289059 0.46081714 0.42353375 0.56872125 0.77387626 0.57121337\n",
            "  0.6496683  0.21563867 1.01511535 0.63648283 0.16433346 0.82990367\n",
            "  0.90654336 0.95389859 0.76331593 0.21097647 0.73474975 0.49483762\n",
            "  0.96321673 0.23645994 0.56306796 0.14528388 0.73834724 0.09192726\n",
            "  0.6439613  0.45998797 0.16704111 0.78255491 0.86145432 0.17301997\n",
            "  0.7050506  0.41123132 0.48038653 0.67560981 0.18113323 0.27041173\n",
            "  0.1125516  0.84586612 0.90849473 0.08995678 0.6420255  0.72831227\n",
            "  0.45627606 0.         0.70310369 0.31982746 0.90504817 0.84203191\n",
            "  0.44357372 0.30999778 0.25906749 0.10311911 0.72110233 0.8777939\n",
            "  0.6885737  0.59864216 0.75531163 0.58471834 0.35648357 0.47692862\n",
            "  0.81499456 0.58457642 0.48032184 0.29921213 0.96194234 0.59001348\n",
            "  0.64944237 0.8620713  0.17284728 0.9052744  0.74992233 0.63934416\n",
            "  0.3825521  0.38936983 0.74486272 0.66391719 0.40784357 0.50829745\n",
            "  0.57650153 0.7728298  0.10613989 0.63440141 0.9436834  0.18477321\n",
            "  0.24155806 0.59784865 0.39700964 0.34820298 0.69512082 0.72372197\n",
            "  0.724723   0.72731631 0.66691206 0.91542426 0.49821833 0.93891226\n",
            "  0.86607085 0.49146506 0.57911649 0.9511131 ]\n",
            " [0.13913264 0.39421468 0.34394163 0.81700172 0.44046541 0.31959816\n",
            "  0.26693889 0.81941925 0.46374903 0.52923334 0.80303839 0.16774447\n",
            "  0.65431949 0.25911264 0.52152326 0.73843042 0.67036074 0.21510074\n",
            "  0.46901601 0.89917637 0.86132119 0.74545375 0.54764398 0.78306458\n",
            "  0.65891159 0.79110043 0.59894821 0.18484224 0.37596507 0.65343287\n",
            "  0.70975756 0.87925635 0.60895593 0.25110677 0.66878376 0.82643327\n",
            "  0.72819617 0.64953391 0.55612779 0.75491095 0.08211531 0.10410519\n",
            "  0.32355373 0.70310369 0.         0.50201432 0.46588008 0.81074995\n",
            "  0.33534225 0.47744883 0.87621704 0.71543427 0.27561421 0.88657526\n",
            "  0.1367232  0.58208182 0.78495019 0.39428136 0.96145232 0.60839743\n",
            "  0.89439845 0.40695723 0.3704241  0.94999824 0.32383986 0.1998848\n",
            "  0.18610628 0.58028492 0.64270264 0.28598583 0.59326495 0.39871606\n",
            "  0.37123643 0.48370906 0.29446103 0.77835075 0.80840432 0.33479769\n",
            "  0.20435322 0.30107103 0.63363213 0.0951071  0.77512057 0.53239634\n",
            "  0.4626313  0.84068726 0.87686677 0.36143762 0.13956166 0.68220722\n",
            "  0.31834505 0.43206935 0.54280406 0.8012362  0.83391975 0.24264668\n",
            "  0.7225365  0.8321666  0.6254987  0.90115024]\n",
            " [0.57400346 0.47118128 0.15889168 0.37916958 0.45673848 0.53206402\n",
            "  0.35832268 0.33811886 0.71436733 0.32042942 0.33950406 0.58270754\n",
            "  0.58929603 0.71762533 0.44366016 0.24969486 0.43515009 0.35234285\n",
            "  0.65472289 0.43243765 0.40568496 0.28086013 0.42032932 0.35993667\n",
            "  0.35510924 0.31362844 0.15462902 0.5185721  0.55796472 0.18202073\n",
            "  0.42084164 0.37903221 0.20363372 0.59008215 0.19121845 0.33134877\n",
            "  0.27803729 0.5317022  0.58904846 0.32033081 0.47157708 0.4869882\n",
            "  0.18444073 0.31982746 0.50201432 0.         0.59191671 0.56027191\n",
            "  0.17114263 0.37789018 0.39185366 0.27014841 0.42764454 0.61105608\n",
            "  0.54807846 0.29438945 0.4847898  0.26856879 0.46716264 0.20067095\n",
            "  0.56865787 0.59103874 0.47467159 0.47175909 0.69023924 0.33035982\n",
            "  0.38345242 0.54256173 0.17391082 0.63149309 0.43559934 0.322824\n",
            "  0.35942078 0.06994564 0.44816734 0.41589217 0.31387821 0.47958892\n",
            "  0.46932187 0.47641233 0.21449364 0.4700583  0.63767225 0.27615631\n",
            "  0.18698954 0.40882469 0.3756509  0.27246983 0.55514966 0.42854966\n",
            "  0.42219324 0.40954374 0.35114527 0.61814783 0.360246   0.70542882\n",
            "  0.56036231 0.35653167 0.29028384 0.67162817]\n",
            " [0.3688522  0.801675   0.49199791 0.68006527 0.14221839 0.76376631\n",
            "  0.27793334 0.91190179 0.1616691  0.33924263 0.92489504 0.34307301\n",
            "  0.24162697 0.42019298 0.21213251 0.82272516 0.39207939 0.58048764\n",
            "  0.0768322  1.01218258 0.73725959 0.86829178 0.26044213 0.95184267\n",
            "  0.45082803 0.72274418 0.74529571 0.2850893  0.09127209 0.77161207\n",
            "  0.45956785 0.85947151 0.53016198 0.71571672 0.77797851 0.88518306\n",
            "  0.86904412 0.28006293 0.11413397 0.91216724 0.53069307 0.36177934\n",
            "  0.46053265 0.90504817 0.46588008 0.59191671 0.         0.48569281\n",
            "  0.47113873 0.81943419 0.95850595 0.86179003 0.21754064 0.56127055\n",
            "  0.60252435 0.41450267 0.51265774 0.323563   1.01050419 0.53230823\n",
            "  0.61172614 0.8533384  0.78443002 1.04036236 0.28043519 0.37371041\n",
            "  0.32760722 0.18201484 0.76448767 0.25114138 0.2953542  0.27002113\n",
            "  0.7298267  0.5273902  0.19110524 0.56898009 0.77632592 0.75778783\n",
            "  0.64299252 0.17250924 0.80312855 0.54261647 0.37472397 0.79872695\n",
            "  0.69630247 0.68882484 0.86579417 0.66836709 0.60543794 0.41405273\n",
            "  0.19269027 0.18926873 0.32234984 0.42592092 0.74711332 0.42360458\n",
            "  0.35675052 0.74948448 0.46874792 0.53609724]\n",
            " [0.7780861  0.98933018 0.59433429 0.3387592  0.3999819  1.00999645\n",
            "  0.54381909 0.73268719 0.64259367 0.29236951 0.77245849 0.76292915\n",
            "  0.26173612 0.87589241 0.30429758 0.66474395 0.14409152 0.79908291\n",
            "  0.55653553 0.82763926 0.38668763 0.73451019 0.26713066 0.84080097\n",
            "  0.20517654 0.44079616 0.68367714 0.68381114 0.54405379 0.66951231\n",
            "  0.13960461 0.57906675 0.36459538 1.0172174  0.6638496  0.67894059\n",
            "  0.75376658 0.20608596 0.38161043 0.80039731 0.83819003 0.72541265\n",
            "  0.58268663 0.84203191 0.81074995 0.56027191 0.48569281 0.\n",
            "  0.58200759 0.9285486  0.75563488 0.75466637 0.54989582 0.07820088\n",
            "  0.92664019 0.27395558 0.09329918 0.43006728 0.76093006 0.3679935\n",
            "  0.13598218 1.08897271 0.98413647 0.82613093 0.75526391 0.62462328\n",
            "  0.62470955 0.30433157 0.66918664 0.71264496 0.22039345 0.41311862\n",
            "  0.883531   0.4998609  0.54143177 0.19901966 0.51186232 0.97489766\n",
            "  0.90728881 0.55113765 0.74104397 0.84522728 0.1698608  0.83642816\n",
            "  0.74336794 0.32615707 0.59255359 0.79637216 0.93223599 0.13954282\n",
            "  0.50728571 0.38837182 0.27183714 0.10574938 0.43405249 0.87434363\n",
            "  0.13494026 0.44005475 0.27020008 0.11135758]\n",
            " [0.403017   0.40824126 0.02086177 0.49722089 0.35355659 0.43256472\n",
            "  0.20612717 0.50520558 0.57181519 0.29528623 0.50004862 0.41246546\n",
            "  0.53238032 0.54680465 0.37554795 0.41852534 0.4401385  0.22581417\n",
            "  0.52343155 0.59538551 0.53604528 0.44072698 0.37070964 0.5039525\n",
            "  0.38976231 0.45857341 0.29873229 0.35136886 0.41947566 0.34236993\n",
            "  0.45289626 0.54433381 0.29104206 0.46187835 0.35474618 0.5021546\n",
            "  0.43146086 0.49114412 0.49661516 0.46809872 0.31572617 0.31591097\n",
            "  0.01365206 0.44357372 0.33534225 0.17114263 0.47113873 0.58200759\n",
            "  0.         0.3711149  0.56025324 0.42105831 0.27755    0.64735036\n",
            "  0.39919162 0.31196261 0.52716505 0.17779913 0.6380293  0.28965176\n",
            "  0.62826312 0.50803991 0.40219507 0.63877607 0.52698276 0.15998132\n",
            "  0.21539742 0.47079833 0.33266258 0.46880296 0.40237018 0.22620568\n",
            "  0.30622993 0.14934396 0.30157783 0.48893116 0.47310529 0.39350511\n",
            "  0.34268468 0.32941347 0.34913402 0.3167082  0.61338829 0.32836644\n",
            "  0.22527091 0.52370322 0.54243221 0.22378959 0.40605498 0.44246793\n",
            "  0.28363489 0.31229886 0.32229386 0.61221555 0.50273856 0.53443502\n",
            "  0.54140516 0.50044809 0.33746022 0.68907382]\n",
            " [0.6099717  0.15141597 0.35280454 0.74618483 0.71790178 0.2664837\n",
            "  0.54151345 0.5074421  0.88620681 0.65753007 0.4649912  0.63432677\n",
            "  0.9034951  0.73612521 0.74663924 0.46432414 0.79380344 0.26716757\n",
            "  0.85787415 0.54588317 0.76210554 0.42545227 0.74063625 0.40186385\n",
            "  0.72491158 0.65992626 0.32457038 0.61277492 0.75067727 0.38074026\n",
            "  0.7910609  0.66666926 0.58122318 0.37974302 0.39855307 0.54798932\n",
            "  0.39449718 0.86075776 0.86164661 0.39386012 0.40043448 0.53860767\n",
            "  0.37699653 0.30999778 0.47744883 0.37789018 0.81943419 0.9285486\n",
            "  0.3711149  0.         0.55890888 0.38041727 0.6051047  0.98471335\n",
            "  0.41939913 0.65523492 0.85897361 0.54891167 0.65731158 0.57833616\n",
            "  0.94625121 0.2748393  0.17269735 0.60806168 0.78562871 0.44894157\n",
            "  0.50314017 0.84123101 0.37168584 0.73640604 0.76953829 0.59630815\n",
            "  0.10623956 0.43008551 0.63185612 0.79377686 0.63264572 0.20483337\n",
            "  0.30172974 0.65574796 0.30882336 0.38934197 0.98048083 0.13871484\n",
            "  0.19148539 0.77662249 0.65594783 0.15164347 0.42492151 0.79151057\n",
            "  0.62683668 0.67999495 0.68659538 0.97316621 0.70584079 0.71939657\n",
            "  0.90633566 0.70045465 0.6623907  1.03915687]\n",
            " [0.96213064 0.70563334 0.54507632 0.42821409 0.81699611 0.8076956\n",
            "  0.74845555 0.05705456 1.09473936 0.63657957 0.0950589  0.9726285\n",
            "  0.89244575 1.10618746 0.7759528  0.14215934 0.68579315 0.68979021\n",
            "  1.02771777 0.07440788 0.39891066 0.13783168 0.73842943 0.17917876\n",
            "  0.58882641 0.31699409 0.27914439 0.91026112 0.9383112  0.22278558\n",
            "  0.63546101 0.20227912 0.44399753 0.90085936 0.2077067  0.07817627\n",
            "  0.16549326 0.82243215 0.93053043 0.1692188  0.83031889 0.8748223\n",
            "  0.57385437 0.25906749 0.87621704 0.39185366 0.95850595 0.75563488\n",
            "  0.56025324 0.55890888 0.         0.17980377 0.81619897 0.76943624\n",
            "  0.89252299 0.57464761 0.66246548 0.64111133 0.09845765 0.44104086\n",
            "  0.68962261 0.83257332 0.72214519 0.08190706 1.08177697 0.72022298\n",
            "  0.77479283 0.86709183 0.23354075 1.02297254 0.73369442 0.69131124\n",
            "  0.61351623 0.44176608 0.83501237 0.55794111 0.24655012 0.74526342\n",
            "  0.79043109 0.86296232 0.2600642  0.82550262 0.89224709 0.42263312\n",
            "  0.43382613 0.45089236 0.185873   0.55683131 0.8994848  0.66834857\n",
            "  0.80601628 0.76942606 0.66291209 0.84805174 0.33598605 1.09327434\n",
            "  0.81861573 0.32898888 0.53438674 0.85392795]\n",
            " [0.81265071 0.52602315 0.40296289 0.46909168 0.72523646 0.62810182\n",
            "  0.62269799 0.1270253  0.98337201 0.57042731 0.09038566 0.82635913\n",
            "  0.83942153 0.9561465  0.70345972 0.1079239  0.65556476 0.51922165\n",
            "  0.92484482 0.18458297 0.46109997 0.04602797 0.67391921 0.09199536\n",
            "  0.56183397 0.35881274 0.12233551 0.77098848 0.82732462 0.09260913\n",
            "  0.62020515 0.30952198 0.39950312 0.72305605 0.09254844 0.1728601\n",
            "  0.01432401 0.77527532 0.8535119  0.05079196 0.66322469 0.72593398\n",
            "  0.43456692 0.10311911 0.71543427 0.27014841 0.86179003 0.75466637\n",
            "  0.42105831 0.38041727 0.17980377 0.         0.69342127 0.78600713\n",
            "  0.72037369 0.52430245 0.66573912 0.53824156 0.27767455 0.39607256\n",
            "  0.71963461 0.65321588 0.54235553 0.24019268 0.94790357 0.57746711\n",
            "  0.635255   0.80075051 0.09805767 0.88983134 0.68042986 0.5921518\n",
            "  0.43411323 0.33506295 0.71525563 0.57072136 0.30497122 0.56558251\n",
            "  0.61491229 0.74353585 0.08340618 0.65735111 0.86589202 0.24316496\n",
            "  0.25982875 0.49774238 0.2957467  0.38097169 0.72723451 0.64269245\n",
            "  0.6909865  0.67767879 0.60005835 0.83321931 0.39595224 0.94218713\n",
            "  0.78872033 0.38913586 0.49851682 0.86212328]\n",
            " [0.22947805 0.5843522  0.29776302 0.62886828 0.16493126 0.55129983\n",
            "  0.0714358  0.76424109 0.29452371 0.29347277 0.76700998 0.21799656\n",
            "  0.37880628 0.34556023 0.25028215 0.67476087 0.41680531 0.36306378\n",
            "  0.25348804 0.85999762 0.68153131 0.70812126 0.28278694 0.7791389\n",
            "  0.42928567 0.63724023 0.57197264 0.13702377 0.14644338 0.60900753\n",
            "  0.46766172 0.75660944 0.43697422 0.51516415 0.61884406 0.74962237\n",
            "  0.70275953 0.375912   0.28724049 0.74195367 0.32683678 0.17899407\n",
            "  0.26501027 0.72110233 0.27561421 0.42764454 0.21754064 0.54989582\n",
            "  0.27755    0.6051047  0.81619897 0.69342127 0.         0.62755991\n",
            "  0.4072547  0.36257932 0.53892975 0.19114504 0.88281944 0.43786145\n",
            "  0.64866323 0.64049945 0.56750027 0.89727369 0.27183246 0.15683442\n",
            "  0.111133   0.30480089 0.60028918 0.21378801 0.32950803 0.16245214\n",
            "  0.51312827 0.37471149 0.02678277 0.55558916 0.67573853 0.54179808\n",
            "  0.43140336 0.05241046 0.62519068 0.33759995 0.5002407  0.59592643\n",
            "  0.49675084 0.6464587  0.75920986 0.45520855 0.41136916 0.43248182\n",
            "  0.04352043 0.16207811 0.29712292 0.52958695 0.6721362  0.33977815\n",
            "  0.45095851 0.67250145 0.41530801 0.63282197]\n",
            " [0.85601096 1.05248744 0.65845546 0.3425221  0.47816771 1.07798233\n",
            "  0.61979602 0.75190747 0.71656857 0.36358645 0.7953658  0.84102719\n",
            "  0.33142448 0.95403566 0.38249676 0.69053534 0.21684667 0.86759104\n",
            "  0.6308705  0.84291095 0.38251174 0.76199752 0.34492391 0.86892217\n",
            "  0.26075267 0.45248099 0.72469666 0.76179891 0.6215559  0.70479241\n",
            "  0.19529662 0.58256559 0.40972611 1.08920174 0.69737852 0.69477885\n",
            "  0.7837762  0.2812081  0.4549488  0.82953866 0.91198059 0.80246111\n",
            "  0.64896461 0.8777939  0.88657526 0.61105608 0.56127055 0.07820088\n",
            "  0.64735036 0.98471335 0.76943624 0.78600713 0.62755991 0.\n",
            "  1.00064693 0.33582885 0.12628141 0.50213226 0.76470013 0.41297251\n",
            "  0.09238533 1.15533878 1.04845906 0.83555252 0.83264782 0.69832767\n",
            "  0.70046906 0.37936578 0.7055778  0.79051705 0.29818078 0.48818652\n",
            "  0.94505465 0.55462971 0.61942108 0.21582575 0.52297764 1.04085478\n",
            "  0.97768347 0.62930758 0.77994448 0.91868084 0.22223351 0.88621447\n",
            "  0.79675652 0.32377709 0.59717309 0.85709997 1.00635405 0.20810271\n",
            "  0.58508793 0.46627099 0.34528346 0.15475966 0.43768522 0.95252961\n",
            "  0.20611178 0.44426965 0.32232881 0.08934284]\n",
            " [0.26155263 0.30336556 0.40108221 0.89597357 0.57087182 0.20448433\n",
            "  0.38774957 0.83558509 0.59538792 0.63818705 0.81054415 0.29196185\n",
            "  0.78551336 0.3461841  0.64703565 0.76242343 0.78382605 0.20309845\n",
            "  0.60490247 0.90444426 0.93519478 0.75633291 0.66900635 0.77552265\n",
            "  0.7612255  0.85498659 0.61405771 0.32095423 0.5126882  0.67308875\n",
            "  0.81676882 0.92557081 0.68853389 0.11549148 0.69011043 0.85276898\n",
            "  0.7341298  0.77612425 0.69115317 0.75325616 0.08890572 0.24080092\n",
            "  0.39031871 0.6885737  0.1367232  0.54807846 0.60252435 0.92664019\n",
            "  0.39919162 0.41939913 0.89252299 0.72037369 0.4072547  1.00064693\n",
            "  0.         0.68249155 0.89269993 0.4998356  0.98402313 0.68739835\n",
            "  1.00056322 0.2849722  0.27710478 0.96024348 0.44376812 0.30235291\n",
            "  0.30752481 0.71165403 0.66210459 0.4135539  0.71334796 0.51392557\n",
            "  0.31781897 0.54648472 0.42785737 0.87460329 0.86184996 0.23815071\n",
            "  0.11767112 0.43635855 0.63696915 0.0840067  0.9029549  0.50637912\n",
            "  0.46054828 0.92192073 0.92088457 0.34152435 0.0070913  0.79351712\n",
            "  0.44883018 0.5580443  0.65537583 0.92511241 0.90009483 0.32891089\n",
            "  0.84675233 0.89740523 0.72039278 1.02167204]\n",
            " [0.58463708 0.71681661 0.32265147 0.27200743 0.27667848 0.74389063\n",
            "  0.32748549 0.53684182 0.57032224 0.0764263  0.56379583 0.57787992\n",
            "  0.31913937 0.70809989 0.20929071 0.45408907 0.14090594 0.5346087\n",
            "  0.49038371 0.63817754 0.32770458 0.51509475 0.16643172 0.61549352\n",
            "  0.07918932 0.30899955 0.43308505 0.49734712 0.42665537 0.43283799\n",
            "  0.14094531 0.44896449 0.13086399 0.76260836 0.43192206 0.49721851\n",
            "  0.52682967 0.25183318 0.36244358 0.57389089 0.59377048 0.51433257\n",
            "  0.3142438  0.59864216 0.58208182 0.29438945 0.41450267 0.27395558\n",
            "  0.31196261 0.65523492 0.57464761 0.52430245 0.36257932 0.33582885\n",
            "  0.68249155 0.         0.21550336 0.18834994 0.61122129 0.13394377\n",
            "  0.31960348 0.81996663 0.71263023 0.6543614  0.62124631 0.38387736\n",
            "  0.4012167  0.29369006 0.42977428 0.5670868  0.15946512 0.20028607\n",
            "  0.61004783 0.22943311 0.36640327 0.19715625 0.36640979 0.70535553\n",
            "  0.64759119 0.38726103 0.49336082 0.59880107 0.34553369 0.56867804\n",
            "  0.47232706 0.28632257 0.4567629  0.52259175 0.68869817 0.13636038\n",
            "  0.32893752 0.23621078 0.0934341  0.32380018 0.33271588 0.70194289\n",
            "  0.26788492 0.3349989  0.05539848 0.3840273 ]\n",
            " [0.76825026 0.92964644 0.53714262 0.24679629 0.40561722 0.95936053\n",
            "  0.52085484 0.64015138 0.67369314 0.25577016 0.68072194 0.75640431\n",
            "  0.31429494 0.87738708 0.31064173 0.57368587 0.12487432 0.75006924\n",
            "  0.58744523 0.73462093 0.29666881 0.64407945 0.26548464 0.7506926\n",
            "  0.13755527 0.34750954 0.59999491 0.67570129 0.55800456 0.58235989\n",
            "  0.07598823 0.48632233 0.28364844 0.9764846  0.57580822 0.58591035\n",
            "  0.66428847 0.24657087 0.41968533 0.71062844 0.80379424 0.70736692\n",
            "  0.52970485 0.75531163 0.78495019 0.4847898  0.51265774 0.09329918\n",
            "  0.52716505 0.85897361 0.66246548 0.66573912 0.53892975 0.12628141\n",
            "  0.89269993 0.21550336 0.         0.3930458  0.66797394 0.28691979\n",
            "  0.11003395 1.03491501 0.92644294 0.73283236 0.76787989 0.59108615\n",
            "  0.59981071 0.33905239 0.58263357 0.72051179 0.22187202 0.38768111\n",
            "  0.82135741 0.42893554 0.53493498 0.10593784 0.4185688  0.92020899\n",
            "  0.86250572 0.54903246 0.6560405  0.80962763 0.25053927 0.75995713\n",
            "  0.6706284  0.23621794 0.49964457 0.73309557 0.89868509 0.10671475\n",
            "  0.49855343 0.38343124 0.24379379 0.1930985  0.34161757 0.87401351\n",
            "  0.19502828 0.34749671 0.19673452 0.19640312]\n",
            " [0.4005652  0.57745455 0.19643044 0.44219507 0.18916829 0.58388232\n",
            "  0.14234878 0.59219376 0.45364564 0.13863464 0.60238224 0.39665191\n",
            "  0.35458483 0.5304755  0.19783178 0.50249596 0.28608765 0.37306768\n",
            "  0.38845368 0.69134213 0.49320224 0.54525508 0.19485307 0.62847531\n",
            "  0.2646307  0.44609565 0.42256846 0.31782608 0.29738862 0.44814298\n",
            "  0.31722604 0.56719182 0.24594508 0.58725193 0.45486848 0.57062143\n",
            "  0.54549297 0.31511533 0.32703177 0.58865912 0.41094857 0.3269732\n",
            "  0.17264943 0.58471834 0.39428136 0.26856879 0.323563   0.43006728\n",
            "  0.17779913 0.54891167 0.64111133 0.53824156 0.19114504 0.50213226\n",
            "  0.4998356  0.18834994 0.3930458  0.         0.70094938 0.24677434\n",
            "  0.50156179 0.666155   0.56828612 0.7229494  0.46223519 0.198064\n",
            "  0.21300514 0.29408654 0.44094033 0.40465141 0.23059166 0.05462668\n",
            "  0.48068752 0.20406344 0.20317667 0.38540007 0.48565418 0.55405348\n",
            "  0.47776049 0.22928206 0.481243   0.41711663 0.43963091 0.49758095\n",
            "  0.39354476 0.461827   0.57047991 0.40089334 0.50575869 0.29424554\n",
            "  0.16939259 0.14305344 0.15870185 0.44480346 0.48132145 0.52274982\n",
            "  0.37056552 0.48156125 0.2352208  0.53097634]\n",
            " [1.04104559 0.80369474 0.62436629 0.42342031 0.86829008 0.90475808\n",
            "  0.81732204 0.15171187 1.15307179 0.67896027 0.19324933 1.04981882\n",
            "  0.92280346 1.18476462 0.81829217 0.22318749 0.70856941 0.78094961\n",
            "  1.08219701 0.13875828 0.38317593 0.23441106 0.77749969 0.27300726\n",
            "  0.61303904 0.32239284 0.37009316 0.98424931 0.99777266 0.31106042\n",
            "  0.65186275 0.18232774 0.4838198  0.99610791 0.29440187 0.13588128\n",
            "  0.26341125 0.85092607 0.97276896 0.26697751 0.9191076  0.95391877\n",
            "  0.65144462 0.35648357 0.96145232 0.46716264 1.01050419 0.76093006\n",
            "  0.6380293  0.65731158 0.09845765 0.27767455 0.88281944 0.76470013\n",
            "  0.98402313 0.61122129 0.66797394 0.70094938 0.         0.48126679\n",
            "  0.67932969 0.93079355 0.81992651 0.08928909 1.1519098  0.79752241\n",
            "  0.85001349 0.90474339 0.32203485 1.09307318 0.76716458 0.74836878\n",
            "  0.71041287 0.50916655 0.8999377  0.56203636 0.25291159 0.84249481\n",
            "  0.88419809 0.92742325 0.3564546  0.91488575 0.90851914 0.52077087\n",
            "  0.52789017 0.44094602 0.1683941  0.65131752 0.99103179 0.68922545\n",
            "  0.86895849 0.82147073 0.70294761 0.85891745 0.32770068 1.17246425\n",
            "  0.83811223 0.32139747 0.56534318 0.85209279]\n",
            " [0.64011653 0.66364314 0.29178121 0.20917927 0.39052287 0.71106137\n",
            "  0.3854688  0.40291762 0.68132817 0.19771323 0.43079951 0.63933371\n",
            "  0.45295455 0.77474046 0.33719105 0.3208379  0.25949521 0.51231642\n",
            "  0.60598815 0.50423405 0.25340997 0.38365585 0.29777434 0.48612525\n",
            "  0.16703269 0.19957264 0.31591558 0.56236437 0.53003645 0.30657133\n",
            "  0.22916649 0.3280495  0.00345856 0.75072465 0.30357942 0.363895\n",
            "  0.39745916 0.38475349 0.49184414 0.44466727 0.60180753 0.5603247\n",
            "  0.29745614 0.47692862 0.60839743 0.20067095 0.53230823 0.3679935\n",
            "  0.28965176 0.57833616 0.44104086 0.39607256 0.43786145 0.41297251\n",
            "  0.68739835 0.13394377 0.28691979 0.24677434 0.48126679 0.\n",
            "  0.36799554 0.77809069 0.66423049 0.52114257 0.70819973 0.41050528\n",
            "  0.44476201 0.42622022 0.30488243 0.65102578 0.29339472 0.28308313\n",
            "  0.55252049 0.15566887 0.44862532 0.21572776 0.24498735 0.66412352\n",
            "  0.63060089 0.47356765 0.37407006 0.60401746 0.46984097 0.47363963\n",
            "  0.38766023 0.23453107 0.33371149 0.4639307  0.69415151 0.24713676\n",
            "  0.41321357 0.34510973 0.22249531 0.43859449 0.2348878  0.76610504\n",
            "  0.39277868 0.23490853 0.10256044 0.47872328]\n",
            " [0.87806242 1.02543869 0.63678873 0.26148904 0.51204461 1.06077793\n",
            "  0.63077783 0.67586512 0.77116033 0.36518421 0.72180201 0.86591183\n",
            "  0.39628008 0.98579568 0.41620123 0.62008935 0.23284782 0.85295088\n",
            "  0.68479062 0.76368055 0.29615511 0.69239185 0.37264827 0.7991513\n",
            "  0.24041565 0.37431322 0.66869679 0.78530953 0.66254853 0.64292779\n",
            "  0.18464321 0.49799128 0.3650662  1.08221061 0.6338614  0.61675699\n",
            "  0.71621323 0.33605062 0.51229764 0.76088843 0.91168175 0.81738708\n",
            "  0.63177804 0.81499456 0.89439845 0.56865787 0.61172614 0.13598218\n",
            "  0.62826312 0.94625121 0.68962261 0.71963461 0.64866323 0.09238533\n",
            "  1.00056322 0.31960348 0.11003395 0.50156179 0.67932969 0.36799554\n",
            "  0.         1.1341845  1.02366989 0.75283985 0.87333185 0.69959121\n",
            "  0.70952759 0.43303947 0.64483131 0.82727078 0.32763568 0.49761352\n",
            "  0.91568227 0.51899368 0.64419321 0.15423621 0.44340155 1.01941587\n",
            "  0.966921   0.65765389 0.72110414 0.91720602 0.30282526 0.83938857\n",
            "  0.75564556 0.239508   0.51308038 0.82700086 1.00663321 0.2161837\n",
            "  0.60801788 0.49205557 0.35382077 0.23592582 0.35464931 0.98274892\n",
            "  0.26983448 0.36147533 0.29164697 0.18123568]\n",
            " [0.54256659 0.1280903  0.49784239 0.97010559 0.79098169 0.0896117\n",
            "  0.59792651 0.78002382 0.87009735 0.79851709 0.7392191  0.57250508\n",
            "  1.00065294 0.62942511 0.84853814 0.73025516 0.94590632 0.29358267\n",
            "  0.86861275 0.82068674 0.99551313 0.69747905 0.85783705 0.67631099\n",
            "  0.89738337 0.89875682 0.58298094 0.5874742  0.76832983 0.64260631\n",
            "  0.96091117 0.92645343 0.78033295 0.18275938 0.660838   0.8169837\n",
            "  0.66743701 0.97546127 0.92624867 0.66860937 0.32908021 0.50393004\n",
            "  0.50649079 0.58457642 0.40695723 0.59103874 0.8533384  1.08897271\n",
            "  0.50803991 0.2748393  0.83257332 0.65321588 0.64049945 1.15533878\n",
            "  0.2849722  0.81996663 1.03491501 0.666155   0.93079355 0.77809069\n",
            "  1.1341845  0.         0.11743888 0.88290096 0.72688018 0.49692054\n",
            "  0.52970075 0.92967609 0.63261395 0.69263764 0.89640668 0.69897779\n",
            "  0.23485868 0.62244826 0.66533013 0.98966892 0.882648   0.11477615\n",
            "  0.21050925 0.68101536 0.57777102 0.3161696  1.10253018 0.41005112\n",
            "  0.42774271 0.99958183 0.91719052 0.31876506 0.28632176 0.94960938\n",
            "  0.67596927 0.76572352 0.82291005 1.11095599 0.94563871 0.61225431\n",
            "  1.03615601 0.94108478 0.84253766 1.19435544]\n",
            " [0.50951862 0.02659433 0.39007227 0.85384117 0.7079101  0.09479747\n",
            "  0.51668135 0.66852428 0.82061217 0.69636596 0.62996578 0.53763628\n",
            "  0.91226295 0.61763836 0.75735433 0.61548342 0.84226131 0.20553312\n",
            "  0.80850167 0.71458656 0.87850261 0.58576987 0.7624179  0.57220858\n",
            "  0.78895425 0.78141498 0.46703561 0.53679943 0.70422012 0.52707179\n",
            "  0.85337222 0.80995003 0.66657688 0.21330699 0.54532955 0.70313175\n",
            "  0.55665758 0.88174986 0.84752351 0.5611637  0.28830881 0.45475298\n",
            "  0.4022294  0.48032184 0.3704241  0.47467159 0.78443002 0.98413647\n",
            "  0.40219507 0.17269735 0.72214519 0.54235553 0.56750027 1.04845906\n",
            "  0.27710478 0.71263023 0.92644294 0.56828612 0.81992651 0.66423049\n",
            "  1.02366989 0.11743888 0.         0.77596741 0.69371189 0.41535309\n",
            "  0.4568336  0.84334156 0.51692273 0.65221422 0.79872937 0.60561266\n",
            "  0.11742783 0.50861794 0.59355449 0.87726851 0.76531674 0.03914526\n",
            "  0.1679045  0.61253872 0.46479677 0.27535068 1.00759095 0.3001525\n",
            "  0.31059849 0.88345914 0.80093574 0.20220308 0.28116593 0.8445948\n",
            "  0.5989245  0.67834541 0.72214173 1.01181106 0.82828705 0.60038074\n",
            "  0.9387007  0.8237074  0.73228792 1.09119106]\n",
            " [1.03945576 0.75775578 0.62302466 0.49303671 0.89879994 0.86438687\n",
            "  0.82918671 0.13371024 1.17655733 0.71739337 0.14981991 1.05068728\n",
            "  0.97124505 1.18352075 0.85688912 0.22255643 0.76230141 0.75849639\n",
            "  1.10962449 0.06326656 0.4579886  0.2049301  0.81883043 0.20906596\n",
            "  0.66553513 0.38539368 0.35107552 0.98953543 1.02009485 0.29806791\n",
            "  0.70983178 0.25592365 0.52403296 0.96234265 0.28435794 0.15725768\n",
            "  0.22625368 0.90070768 1.01154761 0.21480402 0.90120578 0.95217454\n",
            "  0.65241242 0.29921213 0.94999824 0.47175909 1.04036236 0.82613093\n",
            "  0.63877607 0.60806168 0.08190706 0.24019268 0.89727369 0.83555252\n",
            "  0.96024348 0.6543614  0.73283236 0.7229494  0.08928909 0.52114257\n",
            "  0.75283985 0.88290096 0.77596741 0.         1.1619884  0.7985805\n",
            "  0.85382188 0.94736106 0.30846296 1.10322656 0.81301437 0.77321368\n",
            "  0.67158576 0.52312866 0.91632268 0.62739317 0.31429756 0.80152876\n",
            "  0.85507521 0.94431819 0.32346495 0.89580572 0.96704154 0.47607398\n",
            "  0.4997664  0.51334082 0.24028284 0.62115249 0.96712976 0.74424763\n",
            "  0.88757032 0.85125315 0.74339162 0.92087979 0.39831904 1.17033443\n",
            "  0.89435193 0.39158505 0.61275665 0.92153925]\n",
            " [0.18504292 0.7169586  0.54495393 0.89239707 0.36243838 0.64155252\n",
            "  0.3346178  1.02835744 0.17765948 0.54686963 1.02654616 0.15614043\n",
            "  0.52171362 0.15107678 0.45737745 0.93969073 0.64314842 0.51871986\n",
            "  0.23200552 1.12131125 0.94676082 0.96724312 0.50267942 1.02905269\n",
            "  0.678703   0.90777204 0.82557321 0.1796755  0.21128726 0.8684277\n",
            "  0.70453628 1.02844172 0.70713793 0.55678212 0.87985563 1.01764517\n",
            "  0.95842881 0.55364894 0.39455033 0.99433836 0.40574314 0.24703281\n",
            "  0.5134203  0.96194234 0.32383986 0.69023924 0.28043519 0.75526391\n",
            "  0.52698276 0.78562871 1.08177697 0.94790357 0.27183246 0.83264782\n",
            "  0.44376812 0.62124631 0.76787989 0.46223519 1.1519098  0.70819973\n",
            "  0.87333185 0.72688018 0.69371189 1.1619884  0.         0.37221591\n",
            "  0.31324328 0.45803595 0.85900601 0.05885248 0.54616664 0.42698481\n",
            "  0.68142754 0.64274981 0.25958532 0.80457687 0.94750677 0.65854308\n",
            "  0.52818678 0.23541655 0.87392599 0.41882755 0.65497793 0.81324633\n",
            "  0.72450871 0.90756866 1.03099062 0.65067512 0.44359202 0.6628452\n",
            "  0.29553336 0.39063429 0.54223996 0.70424555 0.94134331 0.15998672\n",
            "  0.63210691 0.94203395 0.67601061 0.8143154 ]\n",
            " [0.24399121 0.43071391 0.175732   0.61828225 0.29425495 0.40950176\n",
            "  0.10154588 0.6650806  0.44112042 0.33599043 0.65861749 0.25250946\n",
            "  0.50433204 0.3873107  0.35516315 0.57850174 0.48153804 0.20982353\n",
            "  0.40893342 0.75434634 0.66389155 0.59935571 0.37116662 0.65714275\n",
            "  0.46167694 0.59832195 0.45538987 0.19369924 0.30174532 0.50156901\n",
            "  0.51528874 0.69662457 0.41087544 0.39504154 0.51436341 0.66169752\n",
            "  0.58848238 0.48402044 0.43224898 0.62302397 0.21365595 0.15759378\n",
            "  0.14640543 0.59001348 0.1998848  0.33035982 0.37371041 0.62462328\n",
            "  0.15998132 0.44894157 0.72022298 0.57746711 0.15683442 0.69832767\n",
            "  0.30235291 0.38387736 0.59108615 0.198064   0.79752241 0.41050528\n",
            "  0.69959121 0.49692054 0.41535309 0.7985805  0.37221591 0.\n",
            "  0.05962906 0.43284587 0.49165936 0.31526571 0.41398393 0.21312614\n",
            "  0.35632195 0.29751638 0.18360673 0.57927214 0.62168966 0.39243533\n",
            "  0.29410247 0.20683543 0.50208363 0.22063016 0.61173894 0.44916733\n",
            "  0.35498177 0.64145684 0.69597253 0.3001888  0.30813128 0.49118909\n",
            "  0.18405575 0.26967601 0.35309539 0.62798225 0.63968356 0.37533728\n",
            "  0.55048893 0.63838867 0.42595493 0.72139224]\n",
            " [0.19694899 0.47417131 0.23248501 0.64926679 0.26637199 0.4406689\n",
            "  0.0811034  0.7201573  0.38399529 0.34447925 0.71535868 0.20098587\n",
            "  0.48064248 0.33737548 0.33951125 0.63276039 0.48430949 0.25325622\n",
            "  0.3564808  0.81077709 0.69741433 0.65604463 0.36274605 0.71581909\n",
            "  0.47634562 0.63793681 0.51300413 0.13598611 0.24995732 0.55776726\n",
            "  0.52500694 0.74264782 0.44473658 0.41041959 0.57004991 0.71442905\n",
            "  0.64604003 0.46862372 0.39687976 0.6812905  0.22255627 0.11572595\n",
            "  0.20174761 0.64944237 0.18610628 0.38345242 0.32760722 0.62470955\n",
            "  0.21539742 0.50314017 0.77479283 0.635255   0.111133   0.70046906\n",
            "  0.30752481 0.4012167  0.59981071 0.21300514 0.85001349 0.44476201\n",
            "  0.70952759 0.52970075 0.4568336  0.85382188 0.31324328 0.05962906\n",
            "  0.         0.40736656 0.54804247 0.25595304 0.40791661 0.21275922\n",
            "  0.40730475 0.34495119 0.13680634 0.59834906 0.66576751 0.43072363\n",
            "  0.32128988 0.15628783 0.56069877 0.23221047 0.59560925 0.50822952\n",
            "  0.41457786 0.67078274 0.7428489  0.35631269 0.3124046  0.49641657\n",
            "  0.14694512 0.25058594 0.3569939  0.61799671 0.6776231  0.32662944\n",
            "  0.53949955 0.67681815 0.44779519 0.71620193]\n",
            " [0.51313043 0.85596065 0.49004118 0.53400824 0.14106648 0.84232158\n",
            "  0.33261675 0.8271014  0.33851681 0.23203926 0.84996732 0.49228681\n",
            "  0.07404176 0.58940526 0.09911429 0.74172137 0.22653076 0.63930714\n",
            "  0.25230239 0.928712   0.59135656 0.79786489 0.12878882 0.89274196\n",
            "  0.30422876 0.59591945 0.69550393 0.42010645 0.25024691 0.70814692\n",
            "  0.29608002 0.73910437 0.42334497 0.81758347 0.71045109 0.79010903\n",
            "  0.80533191 0.09828024 0.0807512  0.85140746 0.62931063 0.48113933\n",
            "  0.46428707 0.8620713  0.58028492 0.54256173 0.18201484 0.30433157\n",
            "  0.47079833 0.84123101 0.86709183 0.80075051 0.30480089 0.37936578\n",
            "  0.71165403 0.29369006 0.33905239 0.29408654 0.90474339 0.42622022\n",
            "  0.43303947 0.92967609 0.84334156 0.94736106 0.45803595 0.43284587\n",
            "  0.40736656 0.         0.70314341 0.42127555 0.14069048 0.24492287\n",
            "  0.76687313 0.47277219 0.28641605 0.40880959 0.65759318 0.82339063\n",
            "  0.72569474 0.28501073 0.75619099 0.6393699  0.20224588 0.79052255\n",
            "  0.68669463 0.53758508 0.74792657 0.69137806 0.715917   0.24942955\n",
            "  0.26282451 0.16501343 0.20436184 0.24637504 0.61227414 0.59041109\n",
            "  0.17488708 0.61581768 0.34057222 0.35632433]\n",
            " [0.73127293 0.50467234 0.31593999 0.4058318  0.62743063 0.59488362\n",
            "  0.53018323 0.17672095 0.88824654 0.47339134 0.16754142 0.74308591\n",
            "  0.7429047  0.87530454 0.6056399  0.10131624 0.56371022 0.45900768\n",
            "  0.82829573 0.26274574 0.40825788 0.10825638 0.57669032 0.18981776\n",
            "  0.47181364 0.30354149 0.05027818 0.68402434 0.73187291 0.01098465\n",
            "  0.5323797  0.29527009 0.30834    0.6785902  0.02878867 0.19179381\n",
            "  0.10455798 0.67968851 0.75546821 0.14884604 0.59750645 0.64404001\n",
            "  0.34630709 0.17284728 0.64270264 0.17391082 0.76448767 0.66918664\n",
            "  0.33266258 0.37168584 0.23354075 0.09805767 0.60028918 0.7055778\n",
            "  0.66210459 0.42977428 0.58263357 0.44094033 0.32203485 0.30488243\n",
            "  0.64483131 0.63261395 0.51692273 0.30846296 0.85900601 0.49165936\n",
            "  0.54804247 0.70314341 0.         0.80054953 0.58440175 0.49464417\n",
            "  0.40180204 0.23732294 0.62140272 0.49259854 0.26464363 0.53433665\n",
            "  0.56415766 0.64967832 0.07783077 0.59304919 0.77343785 0.23526566\n",
            "  0.21081803 0.43584158 0.28512596 0.33371256 0.66912463 0.55198804\n",
            "  0.59599797 0.57982403 0.50323724 0.74345885 0.34638223 0.86200114\n",
            "  0.69597422 0.34021608 0.40734548 0.77831125]\n",
            " [0.15219498 0.67463858 0.48696929 0.83744507 0.31522617 0.60558215\n",
            "  0.27580637 0.969611   0.184453   0.4935378  0.96808987 0.12172587\n",
            "  0.48842054 0.16925125 0.41120795 0.88089851 0.59563823 0.47051723\n",
            "  0.21714921 1.06274794 0.89136479 0.90879927 0.45504622 0.97146584\n",
            "  0.62671388 0.85055934 0.76749607 0.12508167 0.1710508  0.80992612\n",
            "  0.65525761 0.97025278 0.65003258 0.52845045 0.82125386 0.95879304\n",
            "  0.90025882 0.51436999 0.36412786 0.93648594 0.3664365  0.19929498\n",
            "  0.45527135 0.9052744  0.28598583 0.63149309 0.25114138 0.71264496\n",
            "  0.46880296 0.73640604 1.02297254 0.88983134 0.21378801 0.79051705\n",
            "  0.4135539  0.5670868  0.72051179 0.40465141 1.09307318 0.65102578\n",
            "  0.82727078 0.69263764 0.65221422 1.10322656 0.05885248 0.31526571\n",
            "  0.25595304 0.42127555 0.80054953 0.         0.49963525 0.37094077\n",
            "  0.6332873  0.58390979 0.20284285 0.75303299 0.88950929 0.61822831\n",
            "  0.48920167 0.17994623 0.8163332  0.37959247 0.62153431 0.75911959\n",
            "  0.66886373 0.85327695 0.97266639 0.59858271 0.41421717 0.61466731\n",
            "  0.23944235 0.33973963 0.49046605 0.66737795 0.88466871 0.17253165\n",
            "  0.59322339 0.88523791 0.62150991 0.7769268 ]\n",
            " [0.55784587 0.80743523 0.41869065 0.3943011  0.18440922 0.81328501\n",
            "  0.32681933 0.69630545 0.45701363 0.11561817 0.72282018 0.54320761\n",
            "  0.15984224 0.65924052 0.08879972 0.61329932 0.09781192 0.60298621\n",
            "  0.3716505  0.79762221 0.45175648 0.67324366 0.04674543 0.77210372\n",
            "  0.16376625 0.45565009 0.58303678 0.46370149 0.33613782 0.58824048\n",
            "  0.16421765 0.59929098 0.29029318 0.80900375 0.58851728 0.65605514\n",
            "  0.6836747  0.0961486  0.21737652 0.73050758 0.62581306 0.5056104\n",
            "  0.39952487 0.74992233 0.59326495 0.43559934 0.2953542  0.22039345\n",
            "  0.40237018 0.76953829 0.73369442 0.68042986 0.32950803 0.29818078\n",
            "  0.71334796 0.15946512 0.22187202 0.23059166 0.76716458 0.29339472\n",
            "  0.32763568 0.89640668 0.79872937 0.81301437 0.54616664 0.41398393\n",
            "  0.40791661 0.14069048 0.58440175 0.49963525 0.         0.20102183\n",
            "  0.70840065 0.36631267 0.32135097 0.2744279  0.51827898 0.78460408\n",
            "  0.70425574 0.33221635 0.64388229 0.63374858 0.21116195 0.70027361\n",
            "  0.59884691 0.39926644 0.60846379 0.62572757 0.71863809 0.11906185\n",
            "  0.2869168  0.16811821 0.08497842 0.21503504 0.47158608 0.6568316\n",
            "  0.13998432 0.47512938 0.20183993 0.30841155]\n",
            " [0.38584433 0.61640999 0.24579867 0.46717664 0.13454308 0.61443417\n",
            "  0.13317416 0.64335068 0.404719   0.13419404 0.6550272  0.37794714\n",
            "  0.30904156 0.50785103 0.15239327 0.55384516 0.27168108 0.4055019\n",
            "  0.3366212  0.74307588 0.52057587 0.59828495 0.15944844 0.68261481\n",
            "  0.26941799 0.48221212 0.47701379 0.29722908 0.24976463 0.5016604\n",
            "  0.31355633 0.60880622 0.28174309 0.60804561 0.50796038 0.61964127\n",
            "  0.59919769 0.27662535 0.27335326 0.6426534  0.42582828 0.32011544\n",
            "  0.21939179 0.63934416 0.39871606 0.322824   0.27002113 0.41311862\n",
            "  0.22620568 0.59630815 0.69131124 0.5921518  0.16245214 0.48818652\n",
            "  0.51392557 0.20028607 0.38768111 0.05462668 0.74836878 0.28308313\n",
            "  0.49761352 0.69897779 0.60561266 0.77321368 0.42698481 0.21312614\n",
            "  0.21275922 0.24492287 0.49464417 0.37094077 0.20102183 0.\n",
            "  0.52354553 0.25741501 0.16828372 0.39485403 0.52636999 0.58883301\n",
            "  0.50371772 0.19158377 0.53580733 0.43338876 0.40355507 0.55004299\n",
            "  0.44597833 0.48421887 0.61303792 0.44662841 0.51941316 0.28369089\n",
            "  0.13152741 0.08873179 0.14429165 0.41561647 0.51458458 0.50166293\n",
            "  0.33884045 0.51543836 0.25287179 0.50831593]\n",
            " [0.50435506 0.1117617  0.29110966 0.73831576 0.63740023 0.19441308\n",
            "  0.45338294 0.55870144 0.78759547 0.60105112 0.52336397 0.52912875\n",
            "  0.8325858  0.62988747 0.67581492 0.50142709 0.74385444 0.16281397\n",
            "  0.76371053 0.61162291 0.76185681 0.47604748 0.67536702 0.47322266\n",
            "  0.68445281 0.66423692 0.35165574 0.51061829 0.65689349 0.41215334\n",
            "  0.74978248 0.6934862  0.55501505 0.29305825 0.430408   0.59010366\n",
            "  0.44842736 0.79575641 0.7802666  0.45762421 0.29434278 0.43465118\n",
            "  0.30894855 0.3825521  0.37123643 0.35942078 0.7298267  0.883531\n",
            "  0.30622993 0.10623956 0.61351623 0.43411323 0.51312827 0.94505465\n",
            "  0.31781897 0.61004783 0.82135741 0.48068752 0.71041287 0.55252049\n",
            "  0.91568227 0.23485868 0.11742783 0.67158576 0.68142754 0.35632195\n",
            "  0.40730475 0.76687313 0.40180204 0.6332873  0.70840065 0.52354553\n",
            "  0.         0.39760236 0.5398841  0.76709212 0.64794903 0.13273895\n",
            "  0.20075441 0.56236645 0.3539895  0.28339348 0.91920535 0.19788297\n",
            "  0.19358921 0.7681208  0.68477027 0.08873126 0.32370371 0.74437928\n",
            "  0.53846791 0.60286554 0.62844779 0.91822245 0.71108707 0.6131652\n",
            "  0.8476185  0.70645852 0.62553185 0.99230092]\n",
            " [0.54042829 0.50838512 0.1454031  0.35483751 0.39017386 0.55631829\n",
            "  0.30820328 0.39077289 0.65517725 0.25091869 0.39854691 0.54593695\n",
            "  0.51941147 0.6822586  0.37395162 0.30100384 0.37025207 0.36172849\n",
            "  0.59231732 0.48860404 0.38985773 0.3412098  0.35040512 0.42604926\n",
            "  0.29525646 0.30934989 0.22330389 0.47678619 0.49849007 0.24424618\n",
            "  0.36142391 0.39911879 0.15797123 0.60129797 0.25081624 0.37512705\n",
            "  0.3418473  0.46233292 0.52037273 0.38570531 0.46447786 0.4549074\n",
            "  0.16037993 0.38936983 0.48370906 0.06994564 0.5273902  0.4998609\n",
            "  0.14934396 0.43008551 0.44176608 0.33506295 0.37471149 0.55462971\n",
            "  0.54648472 0.22943311 0.42893554 0.20406344 0.50916655 0.15566887\n",
            "  0.51899368 0.62244826 0.50861794 0.52312866 0.64274981 0.29751638\n",
            "  0.34495119 0.47277219 0.23732294 0.58390979 0.36631267 0.25741501\n",
            "  0.39760236 0.         0.39324673 0.36949092 0.32523923 0.50858208\n",
            "  0.48040613 0.42120399 0.28369184 0.46491724 0.57001602 0.33933366\n",
            "  0.24355349 0.38281742 0.39853265 0.30889207 0.55343134 0.36520248\n",
            "  0.36463628 0.34263825 0.28165149 0.55283957 0.35385587 0.67118026\n",
            "  0.4929839  0.35139729 0.23230523 0.61098274]\n",
            " [0.23673392 0.61060653 0.32197628 0.63533001 0.14892781 0.57599879\n",
            "  0.09585336 0.78362248 0.2702688  0.29487102 0.7876713  0.22207248\n",
            "  0.36042958 0.34430537 0.23889348 0.69397764 0.41154428 0.38938571\n",
            "  0.22699456 0.88010577 0.68885913 0.72896004 0.2746699  0.80162878\n",
            "  0.43008227 0.64819764 0.59419089 0.14238012 0.12013786 0.62993761\n",
            "  0.46516763 0.77028189 0.44755404 0.53712768 0.63935223 0.76744462\n",
            "  0.72435137 0.36173612 0.26425517 0.76409193 0.34912762 0.19479572\n",
            "  0.28926961 0.74486272 0.29446103 0.44816734 0.19110524 0.54143177\n",
            "  0.30157783 0.63185612 0.83501237 0.71525563 0.02678277 0.61942108\n",
            "  0.42785737 0.36640327 0.53493498 0.20317667 0.8999377  0.44862532\n",
            "  0.64419321 0.66533013 0.59355449 0.91632268 0.25958532 0.18360673\n",
            "  0.13680634 0.28641605 0.62140272 0.20284285 0.32135097 0.16828372\n",
            "  0.5398841  0.39324673 0.         0.556693   0.68883024 0.56749629\n",
            "  0.45579676 0.02828428 0.64809507 0.36020299 0.4843762  0.62170697\n",
            "  0.52209022 0.65188865 0.77336593 0.48188156 0.43173077 0.42823333\n",
            "  0.03754956 0.15327247 0.29574128 0.51639084 0.68189543 0.33981511\n",
            "  0.43804636 0.68252155 0.42016115 0.62113193]\n",
            " [0.78056287 0.87773489 0.49523064 0.14188074 0.44568029 0.91927451\n",
            "  0.52430278 0.53756385 0.73038526 0.26215037 0.57996355 0.77264811\n",
            "  0.39839934 0.90065001 0.35773953 0.47471977 0.1823691  0.71474467\n",
            "  0.64558763 0.63059263 0.19434927 0.54618543 0.30942967 0.65311724\n",
            "  0.12662891 0.24200137 0.51500073 0.69177492 0.6004714  0.49120148\n",
            "  0.11287459 0.38042844 0.21297464 0.94895897 0.4829978  0.48195222\n",
            "  0.56821611 0.32638905 0.48875863 0.61382612 0.78637947 0.71140257\n",
            "  0.49402354 0.66391719 0.77835075 0.41589217 0.56898009 0.19901966\n",
            "  0.48893116 0.79377686 0.55794111 0.57072136 0.55558916 0.21582575\n",
            "  0.87460329 0.19715625 0.10593784 0.38540007 0.56203636 0.21572776\n",
            "  0.15423621 0.98966892 0.87726851 0.62739317 0.80457687 0.57927214\n",
            "  0.59834906 0.40880959 0.49259854 0.75303299 0.2744279  0.39485403\n",
            "  0.76709212 0.36949092 0.556693   0.         0.31310071 0.87513996\n",
            "  0.83110449 0.5750957  0.56823354 0.79062317 0.35244202 0.68529745\n",
            "  0.60272803 0.13498888 0.39370917 0.67837619 0.88099403 0.15945232\n",
            "  0.5191957  0.41394312 0.26256781 0.29807543 0.23595621 0.89532131\n",
            "  0.28967523 0.24173728 0.15421065 0.29670256]\n",
            " [0.8625845  0.75644876 0.46585451 0.18191636 0.63498914 0.83408707\n",
            "  0.61733225 0.23462863 0.92631448 0.43841123 0.28452498 0.86581535\n",
            "  0.67174364 1.00236531 0.57562093 0.19712145 0.45597589 0.66553848\n",
            "  0.85055811 0.32036964 0.15937384 0.26750706 0.53241981 0.36955181\n",
            "  0.36105671 0.07109982 0.30861434 0.79262148 0.77467577 0.25734652\n",
            "  0.39902603 0.08315791 0.24685488 0.90144459 0.24142263 0.17368344\n",
            "  0.29726898 0.59940751 0.7286646  0.33592426 0.78405731 0.77831861\n",
            "  0.48487063 0.40784357 0.80840432 0.31387821 0.77632592 0.51186232\n",
            "  0.47310529 0.63264572 0.24655012 0.30497122 0.67573853 0.52297764\n",
            "  0.86184996 0.36640979 0.4185688  0.48565418 0.25291159 0.24498735\n",
            "  0.44340155 0.882648   0.76531674 0.31429756 0.94750677 0.62168966\n",
            "  0.66576751 0.65759318 0.26464363 0.88950929 0.51827898 0.52636999\n",
            "  0.64794903 0.32523923 0.68883024 0.31310071 0.         0.77712309\n",
            "  0.7813603  0.71476023 0.33886007 0.78310396 0.65591179 0.49880091\n",
            "  0.45507953 0.20590707 0.09040163 0.56854753 0.86891423 0.43641627\n",
            "  0.65458815 0.58996837 0.45965492 0.60757467 0.0936948  0.99219893\n",
            "  0.58520373 0.08660229 0.31702674 0.60796624]\n",
            " [0.4739133  0.06569587 0.38309877 0.85805784 0.68636895 0.06295285\n",
            "  0.49397995 0.69081706 0.78877743 0.68505915 0.65423295 0.50240265\n",
            "  0.89331867 0.5797132  0.73962546 0.63413845 0.83209282 0.18414721\n",
            "  0.77928963 0.7407883  0.88501216 0.60808388 0.74695261 0.59992455\n",
            "  0.7826677  0.78983903 0.48413313 0.50464177 0.67597079 0.54474061\n",
            "  0.84629963 0.82495737 0.66631642 0.17638875 0.56298666 0.72283625\n",
            "  0.57990652 0.86544371 0.82441271 0.58691645 0.25280042 0.42195844\n",
            "  0.39223525 0.50829745 0.33479769 0.47958892 0.75778783 0.97489766\n",
            "  0.39350511 0.20483337 0.74526342 0.56558251 0.54179808 1.04085478\n",
            "  0.23815071 0.70535553 0.92020899 0.55405348 0.84249481 0.66412352\n",
            "  1.01941587 0.11477615 0.03914526 0.80152876 0.65854308 0.39243533\n",
            "  0.43072363 0.82339063 0.53433665 0.61822831 0.78460408 0.58883301\n",
            "  0.13273895 0.50858208 0.56749629 0.87513996 0.77712309 0.\n",
            "  0.13094904 0.58543638 0.48625537 0.23972609 0.99202729 0.32562577\n",
            "  0.32501722 0.88731462 0.81655943 0.20909694 0.24213461 0.83545498\n",
            "  0.57477063 0.65867127 0.70991028 0.99869488 0.83675056 0.56243842\n",
            "  0.92453    0.83242618 0.72776975 1.08075398]\n",
            " [0.34332408 0.19294282 0.33884276 0.83513385 0.58560823 0.12090042\n",
            "  0.39308709 0.73390775 0.66281085 0.614937   0.70529688 0.37209601\n",
            "  0.79786374 0.45005597 0.64915262 0.66539073 0.76319879 0.11867772\n",
            "  0.65849782 0.79763493 0.86939505 0.6530371  0.66308157 0.66500193\n",
            "  0.72667029 0.78223572 0.51477925 0.37898897 0.55782736 0.57509153\n",
            "  0.78687454 0.83956157 0.63223243 0.12108573 0.59270812 0.75593192\n",
            "  0.62893785 0.77774951 0.71814152 0.64492123 0.12279842 0.29555709\n",
            "  0.33708878 0.57650153 0.20435322 0.46932187 0.64299252 0.90728881\n",
            "  0.34268468 0.30172974 0.79043109 0.61491229 0.43140336 0.97768347\n",
            "  0.11767112 0.64759119 0.86250572 0.47776049 0.88419809 0.63060089\n",
            "  0.966921   0.21050925 0.1679045  0.85507521 0.52818678 0.29410247\n",
            "  0.32128988 0.72569474 0.56415766 0.48920167 0.70425574 0.50371772\n",
            "  0.20075441 0.48040613 0.45579676 0.83110449 0.7813603  0.13094904\n",
            "  0.         0.47081048 0.53184901 0.1096449  0.90543565 0.39273847\n",
            "  0.35661042 0.86276014 0.83347235 0.23395781 0.12327088 0.76970483\n",
            "  0.46816747 0.56361868 0.63645878 0.91919883 0.82849084 0.4328263\n",
            "  0.84254372 0.82510642 0.67841908 1.00862683]\n",
            " [0.23011415 0.63027004 0.34973924 0.65751869 0.15307988 0.59148068\n",
            "  0.12338868 0.81169086 0.24241567 0.31427464 0.81591459 0.21235242\n",
            "  0.35855702 0.32838884 0.24701463 0.72202172 0.42481092 0.40953029\n",
            "  0.20216167 0.90828538 0.71156671 0.75721846 0.28591881 0.82986535\n",
            "  0.44851    0.67307243 0.62244873 0.13589009 0.09494228 0.65820398\n",
            "  0.48077502 0.79645188 0.47240094 0.54752167 0.66758605 0.79515412\n",
            "  0.7526356  0.36557083 0.25505722 0.79235837 0.3605977  0.19861373\n",
            "  0.31700613 0.7728298  0.30107103 0.47641233 0.17250924 0.55113765\n",
            "  0.32941347 0.65574796 0.86296232 0.74353585 0.05241046 0.62930758\n",
            "  0.43635855 0.38726103 0.54903246 0.22928206 0.92742325 0.47356765\n",
            "  0.65765389 0.68101536 0.61253872 0.94431819 0.23541655 0.20683543\n",
            "  0.15628783 0.28501073 0.64967832 0.17994623 0.33221635 0.19158377\n",
            "  0.56236645 0.42120399 0.02828428 0.5750957  0.71476023 0.58543638\n",
            "  0.47081048 0.         0.6762698  0.37215174 0.4855441  0.64829769\n",
            "  0.54915394 0.67336651 0.79975049 0.50640539 0.43985453 0.4423823\n",
            "  0.06035409 0.16562426 0.31297039 0.52084741 0.70608492 0.32509721\n",
            "  0.44308848 0.70685929 0.44158443 0.62713411]\n",
            " [0.73381336 0.44987296 0.3300035  0.48366195 0.67019376 0.54837644\n",
            "  0.55390502 0.20474955 0.91781976 0.53034688 0.1736561  0.74851051\n",
            "  0.8004036  0.8768317  0.65753085 0.15612247 0.63040534 0.43589483\n",
            "  0.86310535 0.26781609 0.48547665 0.12226595 0.63223385 0.1551337\n",
            "  0.54087916 0.38079019 0.06090188 0.69576321 0.76290578 0.08267852\n",
            "  0.60302796 0.36127036 0.37751725 0.64094538 0.09748791 0.23952699\n",
            "  0.09721422 0.73986641 0.80353295 0.12201212 0.58022772 0.64754885\n",
            "  0.36235224 0.10613989 0.63363213 0.21449364 0.80312855 0.74104397\n",
            "  0.34913402 0.30882336 0.2600642  0.08340618 0.62519068 0.77994448\n",
            "  0.63696915 0.49336082 0.6560405  0.481243   0.3564546  0.37407006\n",
            "  0.72110414 0.57777102 0.46479677 0.32346495 0.87392599 0.50208363\n",
            "  0.56069877 0.75619099 0.07783077 0.8163332  0.64388229 0.53580733\n",
            "  0.3539895  0.28369184 0.64809507 0.56823354 0.33886007 0.48625537\n",
            "  0.53184901 0.6762698  0.         0.57421227 0.83871305 0.17011855\n",
            "  0.17642277 0.51366965 0.34951135 0.29789401 0.64383163 0.62000773\n",
            "  0.62607525 0.62331301 0.56078541 0.81182094 0.42299316 0.86259258\n",
            "  0.76106659 0.41669964 0.47565225 0.85093707]\n",
            " [0.23423916 0.29929057 0.31966228 0.81280605 0.49830736 0.2274504\n",
            "  0.31052832 0.76844832 0.55430703 0.55566738 0.7467963  0.26268947\n",
            "  0.71278747 0.34815754 0.57033908 0.6921395  0.70198725 0.13962347\n",
            "  0.55334599 0.84193352 0.85268822 0.69099843 0.59008066 0.71833252\n",
            "  0.67762717 0.77400823 0.54635852 0.27130642 0.45520824 0.603994\n",
            "  0.73366042 0.84876287 0.6051021  0.17822797 0.62048477 0.78195916\n",
            "  0.67074583 0.69965629 0.62443194 0.69326258 0.01315632 0.18776955\n",
            "  0.30740783 0.63440141 0.0951071  0.4700583  0.54261647 0.84522728\n",
            "  0.3167082  0.38934197 0.82550262 0.65735111 0.33759995 0.91868084\n",
            "  0.0840067  0.59880107 0.80962763 0.41711663 0.91488575 0.60401746\n",
            "  0.91720602 0.3161696  0.27535068 0.89580572 0.41882755 0.22063016\n",
            "  0.23221047 0.6393699  0.59304919 0.37959247 0.63374858 0.43338876\n",
            "  0.28339348 0.46491724 0.36020299 0.79062317 0.78310396 0.23972609\n",
            "  0.1096449  0.37215174 0.57421227 0.         0.82702848 0.45706342\n",
            "  0.39878323 0.83854558 0.84469759 0.28681197 0.09051145 0.71117998\n",
            "  0.37739343 0.48208914 0.57358491 0.84675128 0.81876674 0.3311858\n",
            "  0.7687188  0.8162421  0.63641269 0.94167427]\n",
            " [0.71477401 1.01707803 0.62983901 0.49420323 0.33563588 1.01778697\n",
            "  0.5165179  0.86270848 0.51737447 0.32380191 0.89666283 0.69437495\n",
            "  0.13332234 0.7903486  0.25687167 0.78674116 0.21046574 0.8090187\n",
            "  0.43502094 0.96148369 0.54624923 0.85244927 0.24518787 0.95586774\n",
            "  0.3061544  0.58615741 0.77856604 0.62123787 0.4510235  0.77578204\n",
            "  0.25724695 0.72922472 0.4664175  1.00467093 0.77337001 0.81423393\n",
            "  0.86724904 0.1277185  0.26098121 0.91445756 0.81789286 0.67877185\n",
            "  0.61025708 0.9436834  0.77512057 0.63767225 0.37472397 0.1698608\n",
            "  0.61338829 0.98048083 0.89224709 0.86589202 0.5002407  0.22223351\n",
            "  0.9029549  0.34553369 0.25053927 0.43963091 0.90851914 0.46984097\n",
            "  0.30282526 1.10253018 1.00759095 0.96704154 0.65497793 0.61173894\n",
            "  0.59560925 0.20224588 0.77343785 0.62153431 0.21116195 0.40355507\n",
            "  0.91920535 0.57001602 0.4843762  0.35244202 0.65591179 0.99202729\n",
            "  0.90543565 0.4855441  0.83871305 0.82702848 0.         0.90767975\n",
            "  0.80749978 0.48607558 0.74146414 0.83686431 0.90766163 0.22512066\n",
            "  0.45703115 0.34504953 0.2941214  0.06758751 0.58690675 0.79186905\n",
            "  0.07765475 0.592283   0.36757971 0.16843137]\n",
            " [0.65169119 0.28302092 0.30762921 0.62366525 0.68095515 0.38855159\n",
            "  0.52634552 0.37002504 0.88857941 0.58496872 0.32988244 0.67174946\n",
            "  0.84603068 0.78864967 0.69231516 0.32581566 0.7095537  0.31893608\n",
            "  0.84764013 0.4151637  0.63471629 0.28761317 0.67797831 0.27536873\n",
            "  0.63126393 0.53099389 0.19039223 0.63418501 0.7416663  0.24380274\n",
            "  0.69697884 0.52917831 0.4768126  0.49091765 0.26130404 0.40932371\n",
            "  0.25738802 0.79510204 0.82302263 0.26134113 0.46570765 0.57085122\n",
            "  0.33837794 0.18477321 0.53239634 0.27615631 0.79872695 0.83642816\n",
            "  0.32836644 0.13871484 0.42263312 0.24316496 0.59592643 0.88621447\n",
            "  0.50637912 0.56867804 0.75995713 0.49758095 0.52077087 0.47363963\n",
            "  0.83938857 0.41005112 0.3001525  0.47607398 0.81324633 0.44916733\n",
            "  0.50822952 0.79052255 0.23526566 0.75911959 0.70027361 0.55004299\n",
            "  0.19788297 0.33933366 0.62170697 0.68529745 0.49880091 0.32562577\n",
            "  0.39273847 0.64829769 0.17011855 0.45706342 0.90767975 0.\n",
            "  0.10406793 0.65419395 0.51810342 0.17113436 0.51277865 0.70397586\n",
            "  0.60860909 0.63809035 0.61538482 0.89216506 0.57597459 0.77290904\n",
            "  0.83117123 0.57025055 0.56638736 0.94778448]\n",
            " [0.57155805 0.301402   0.20444217 0.55639982 0.57709284 0.38469945\n",
            "  0.42633252 0.37731024 0.79068524 0.4839914  0.35001427 0.58910978\n",
            "  0.74286206 0.71234167 0.5886525  0.31182012 0.61270073 0.25984724\n",
            "  0.74691024 0.44407093 0.57512422 0.29657408 0.5752683  0.32068289\n",
            "  0.5385394  0.47493518 0.16059544 0.54483377 0.64161136 0.22151071\n",
            "  0.60465849 0.50003103 0.39061718 0.4686508  0.23960591 0.40184848\n",
            "  0.27358788 0.6931232  0.71900265 0.29448438 0.40529826 0.48750259\n",
            "  0.23579701 0.24155806 0.4626313  0.18698954 0.69630247 0.74336794\n",
            "  0.22527091 0.19148539 0.43382613 0.25982875 0.49675084 0.79675652\n",
            "  0.46054828 0.47232706 0.6706284  0.39354476 0.52789017 0.38766023\n",
            "  0.75564556 0.42774271 0.31059849 0.4997664  0.72450871 0.35498177\n",
            "  0.41457786 0.68669463 0.21081803 0.66886373 0.59884691 0.44597833\n",
            "  0.19358921 0.24355349 0.52209022 0.60272803 0.45507953 0.32501722\n",
            "  0.35661042 0.54915394 0.17642277 0.39878323 0.80749978 0.10406793\n",
            "  0.         0.58672452 0.49154261 0.12351771 0.46741438 0.60847641\n",
            "  0.5073186  0.5340635  0.51417754 0.79447956 0.52151197 0.697361\n",
            "  0.73151271 0.51655074 0.47478308 0.85452623]\n",
            " [0.86229672 0.87985317 0.52470169 0.03053204 0.55774853 0.93760235\n",
            "  0.60417331 0.44030089 0.8487346  0.36130507 0.48883706 0.85825329\n",
            "  0.53195266 0.99093152 0.47680066 0.39300199 0.31321272 0.7441374\n",
            "  0.76564611 0.52515465 0.06054781 0.46548159 0.42868942 0.57071899\n",
            "  0.23805325 0.14025491 0.46915035 0.778738   0.7107432  0.43164478\n",
            "  0.24496128 0.25895876 0.23345899 0.98339105 0.41945882 0.37954782\n",
            "  0.49231924 0.45939265 0.61630872 0.53457799 0.83627512 0.78635916\n",
            "  0.53183693 0.59784865 0.84068726 0.40882469 0.68882484 0.32615707\n",
            "  0.52370322 0.77662249 0.45089236 0.49774238 0.6464587  0.32377709\n",
            "  0.92192073 0.28632257 0.23621794 0.461827   0.44094602 0.23453107\n",
            "  0.239508   0.99958183 0.88345914 0.51334082 0.90756866 0.64145684\n",
            "  0.67078274 0.53758508 0.43584158 0.85327695 0.39926644 0.48421887\n",
            "  0.7681208  0.38281742 0.65188865 0.13498888 0.20590707 0.88731462\n",
            "  0.86276014 0.67336651 0.51366965 0.83854558 0.48607558 0.65419395\n",
            "  0.58672452 0.         0.27381171 0.68126044 0.92867848 0.29053666\n",
            "  0.61457155 0.52058125 0.3702161  0.42914861 0.11519829 0.98386867\n",
            "  0.42463868 0.12208279 0.23179469 0.41154803]\n",
            " [0.93887604 0.78942688 0.53292614 0.25523275 0.72418852 0.87587042\n",
            "  0.69866466 0.19383274 1.01467267 0.52843429 0.24935686 0.94368794\n",
            "  0.76123993 1.08019402 0.66592821 0.19391587 0.54438145 0.72071453\n",
            "  0.93969179 0.25950661 0.21771886 0.25174436 0.62281775 0.34039668\n",
            "  0.45027484 0.15584807 0.33428966 0.8723613  0.86214633 0.27557302\n",
            "  0.48557836 0.01641168 0.33574711 0.95177327 0.25756023 0.1305762\n",
            "  0.2847753  0.68870647 0.81905841 0.31407735 0.8467056  0.85343283\n",
            "  0.55490014 0.39700964 0.87686677 0.3756509  0.86579417 0.59255359\n",
            "  0.54243221 0.65594783 0.185873   0.2957467  0.75920986 0.59717309\n",
            "  0.92088457 0.4567629  0.49964457 0.57047991 0.1683941  0.33371149\n",
            "  0.51308038 0.91719052 0.80093574 0.24028284 1.03099062 0.69597253\n",
            "  0.7428489  0.74792657 0.28512596 0.97266639 0.60846379 0.61303792\n",
            "  0.68477027 0.39853265 0.77336593 0.39370917 0.09040163 0.81655943\n",
            "  0.83347235 0.79975049 0.34951135 0.84469759 0.74146414 0.51810342\n",
            "  0.49154261 0.27381171 0.         0.61115682 0.92797546 0.5243506\n",
            "  0.73982809 0.67879297 0.5499581  0.6909252  0.15959381 1.06940934\n",
            "  0.67212706 0.15316857 0.40737997 0.68416485]\n",
            " [0.48347391 0.1997867  0.20704681 0.6516391  0.56651006 0.26564927\n",
            "  0.39045807 0.50050017 0.74030727 0.51642675 0.47135734 0.50488809\n",
            "  0.7549647  0.61853299 0.59795092 0.43493508 0.65760316 0.14793653\n",
            "  0.7085246  0.56404063 0.67681594 0.41925616 0.59448994 0.43409248\n",
            "  0.59639485 0.58086099 0.28366213 0.47365165 0.60131637 0.34450528\n",
            "  0.66189629 0.61880804 0.4664025  0.34515613 0.36248123 0.52514917\n",
            "  0.39498446 0.71493133 0.71021101 0.41198413 0.29504255 0.40520445\n",
            "  0.22824963 0.34820298 0.36143762 0.27246983 0.66836709 0.79637216\n",
            "  0.22378959 0.15164347 0.55683131 0.38097169 0.45520855 0.85709997\n",
            "  0.34152435 0.52259175 0.73309557 0.40089334 0.65131752 0.4639307\n",
            "  0.82700086 0.31876506 0.20220308 0.62115249 0.65067512 0.3001888\n",
            "  0.35631269 0.69137806 0.33371256 0.59858271 0.62572757 0.44662841\n",
            "  0.08873126 0.30889207 0.48188156 0.67837619 0.56854753 0.20909694\n",
            "  0.23395781 0.50640539 0.29789401 0.28681197 0.83686431 0.17113436\n",
            "  0.12351771 0.68126044 0.61115682 0.         0.34822264 0.65749192\n",
            "  0.4756885  0.52919269 0.54446598 0.83357834 0.6277729  0.60261288\n",
            "  0.76419481 0.62339983 0.53705992 0.9055954 ]\n",
            " [0.26208615 0.30750475 0.40802824 0.90276824 0.57521912 0.20697474\n",
            "  0.39279424 0.84255258 0.5964718  0.64404521 0.81741907 0.29253431\n",
            "  0.78981339 0.34396415 0.65189915 0.76946192 0.78951973 0.21012327\n",
            "  0.60697341 0.91127319 0.9420751  0.76325796 0.67419558 0.78217457\n",
            "  0.7673906  0.86197632 0.62105278 0.32323131 0.51541965 0.68010893\n",
            "  0.82276776 0.93265938 0.69527675 0.11429436 0.69713995 0.85981385\n",
            "  0.74100028 0.78092767 0.69476223 0.76001369 0.09496203 0.24365868\n",
            "  0.39713337 0.69512082 0.13956166 0.55514966 0.60543794 0.93223599\n",
            "  0.40605498 0.42492151 0.8994848  0.72723451 0.41136916 1.00635405\n",
            "  0.0070913  0.68869817 0.89868509 0.50575869 0.99103179 0.69415151\n",
            "  1.00663321 0.28632176 0.28116593 0.96712976 0.44359202 0.30813128\n",
            "  0.3124046  0.715917   0.66912463 0.41421717 0.71863809 0.51941316\n",
            "  0.32370371 0.55343134 0.43173077 0.88099403 0.86891423 0.24213461\n",
            "  0.12327088 0.43985453 0.64383163 0.09051145 0.90766163 0.51277865\n",
            "  0.46741438 0.92867848 0.92797546 0.34822264 0.         0.7993196\n",
            "  0.45311208 0.56283286 0.66107244 0.93017673 0.90706627 0.32671313\n",
            "  0.85177521 0.90438597 0.72678548 1.02699786]\n",
            " [0.66189844 0.84986143 0.45483863 0.29035133 0.30041262 0.87107629\n",
            "  0.41664723 0.63776936 0.57571205 0.15561531 0.67158083 0.64978761\n",
            "  0.24225148 0.77076031 0.20677315 0.56170837 0.02291679 0.66033651\n",
            "  0.49006459 0.736905   0.34678713 0.62790259 0.16021207 0.73197666\n",
            "  0.08117626 0.36855313 0.5608179  0.56914223 0.45397008 0.55369442\n",
            "  0.04665204 0.51325978 0.24368183 0.88112828 0.55035122 0.59021588\n",
            "  0.64352889 0.169282   0.32958929 0.69070524 0.70472436 0.60228482\n",
            "  0.4432225  0.72372197 0.68220722 0.42854966 0.41405273 0.13954282\n",
            "  0.44246793 0.79151057 0.66834857 0.64269245 0.43248182 0.20810271\n",
            "  0.79351712 0.13636038 0.10671475 0.29424554 0.68922545 0.24713676\n",
            "  0.2161837  0.94960938 0.8445948  0.74424763 0.6628452  0.49118909\n",
            "  0.49641657 0.24942955 0.55198804 0.61466731 0.11906185 0.28369089\n",
            "  0.74437928 0.36520248 0.42823333 0.15945232 0.43641627 0.83545498\n",
            "  0.76970483 0.4423823  0.62000773 0.71117998 0.22512066 0.70397586\n",
            "  0.60847641 0.29053666 0.5243506  0.65749192 0.7993196  0.\n",
            "  0.39190825 0.27681906 0.13942372 0.19181495 0.3761512  0.76731998\n",
            "  0.15027109 0.38068715 0.1446501  0.24815864]\n",
            " [0.27110205 0.6146869  0.30438873 0.59821624 0.12221906 0.58719306\n",
            "  0.08536121 0.75540913 0.29238555 0.25732889 0.7613193  0.25789445\n",
            "  0.33670147 0.38165693 0.20683622 0.6656353  0.37562489 0.39354107\n",
            "  0.23981715 0.85283448 0.65194843 0.70295358 0.24017138 0.77853143\n",
            "  0.39259569 0.61272086 0.57084421 0.17744089 0.13684201 0.60421396\n",
            "  0.42828379 0.73639182 0.41204826 0.55542251 0.61293936 0.73731955\n",
            "  0.69962982 0.33244562 0.25027958 0.74033835 0.36701262 0.22249825\n",
            "  0.27209252 0.724723   0.31834505 0.42219324 0.19269027 0.50728571\n",
            "  0.28363489 0.62683668 0.80601628 0.6909865  0.04352043 0.58508793\n",
            "  0.44883018 0.32893752 0.49855343 0.16939259 0.86895849 0.41321357\n",
            "  0.60801788 0.67596927 0.5989245  0.88757032 0.29553336 0.18405575\n",
            "  0.14694512 0.26282451 0.59599797 0.23944235 0.2869168  0.13152741\n",
            "  0.53846791 0.36463628 0.03754956 0.5191957  0.65458815 0.57477063\n",
            "  0.46816747 0.06035409 0.62607525 0.37739343 0.45703115 0.60860909\n",
            "  0.5073186  0.61457155 0.73982809 0.4756885  0.45311208 0.39190825\n",
            "  0.         0.11903736 0.25851466 0.48606691 0.64583831 0.3769484\n",
            "  0.40744163 0.64657829 0.38280706 0.58941797]\n",
            " [0.38973996 0.69096894 0.33236957 0.50784286 0.04782174 0.67892034\n",
            "  0.17177682 0.72330827 0.33674973 0.1599002  0.73777223 0.37526921\n",
            "  0.23492955 0.49395606 0.08945398 0.6343949  0.25920775 0.47453636\n",
            "  0.26116596 0.82390515 0.56385638 0.68189278 0.12140911 0.76865066\n",
            "  0.28825045 0.53936093 0.56408299 0.29559068 0.19048381 0.58643207\n",
            "  0.31593678 0.67309181 0.34314909 0.65994559 0.59185822 0.69592781\n",
            "  0.68424026 0.21809718 0.18494239 0.72834088 0.4728614  0.34001544\n",
            "  0.30445852 0.72731631 0.43206935 0.40954374 0.18926873 0.38837182\n",
            "  0.31229886 0.67999495 0.76942606 0.67767879 0.16207811 0.46627099\n",
            "  0.5580443  0.23621078 0.38343124 0.14305344 0.82147073 0.34510973\n",
            "  0.49205557 0.76572352 0.67834541 0.85125315 0.39063429 0.26967601\n",
            "  0.25058594 0.16501343 0.57982403 0.33973963 0.16811821 0.08873179\n",
            "  0.60286554 0.34263825 0.15327247 0.41394312 0.58996837 0.65867127\n",
            "  0.56361868 0.16562426 0.62331301 0.48208914 0.34504953 0.63809035\n",
            "  0.5340635  0.52058125 0.67879297 0.52919269 0.56283286 0.27681906\n",
            "  0.11903736 0.         0.1518283  0.36927284 0.56694174 0.49069999\n",
            "  0.29054826 0.56871742 0.29160474 0.47109255]\n",
            " [0.52563942 0.72966863 0.33761899 0.35915941 0.18756722 0.74172389\n",
            "  0.27735557 0.62275641 0.47994159 0.03073372 0.6463033  0.51511827\n",
            "  0.23984483 0.64003    0.11597016 0.53766672 0.12845028 0.5306757\n",
            "  0.39866416 0.72436216 0.41595561 0.59505768 0.07557578 0.6919697\n",
            "  0.13646853 0.40233107 0.49988792 0.43414229 0.34086784 0.50756176\n",
            "  0.17079572 0.54231461 0.21972962 0.74544885 0.50877396 0.58613931\n",
            "  0.6039197  0.18072323 0.26986547 0.65045    0.56674905 0.46357534\n",
            "  0.32057109 0.66691206 0.54280406 0.35114527 0.32234984 0.27183714\n",
            "  0.32229386 0.68659538 0.66291209 0.60005835 0.29712292 0.34528346\n",
            "  0.65537583 0.0934341  0.24379379 0.15870185 0.70294761 0.22249531\n",
            "  0.35382077 0.82291005 0.72214173 0.74339162 0.54223996 0.35309539\n",
            "  0.3569939  0.20436184 0.50323724 0.49046605 0.08497842 0.14429165\n",
            "  0.62844779 0.28165149 0.29574128 0.26256781 0.45965492 0.70991028\n",
            "  0.63645878 0.31297039 0.56078541 0.57358491 0.2941214  0.61538482\n",
            "  0.51417754 0.3702161  0.5499581  0.54446598 0.66107244 0.13942372\n",
            "  0.25851466 0.1518283  0.         0.29000487 0.42497243 0.63546299\n",
            "  0.21988552 0.42750337 0.14654155 0.37243198]\n",
            " [0.75095617 1.01962413 0.62717425 0.43968335 0.36808783 1.02821207\n",
            "  0.53738251 0.82155585 0.57458492 0.31721966 0.8582674  0.73238699\n",
            "  0.18628758 0.83494166 0.27987671 0.74903281 0.18302143 0.81772076\n",
            "  0.49052198 0.91873414 0.4896578  0.81676208 0.25683474 0.92173942\n",
            "  0.27167672 0.53695437 0.75260582 0.65658123 0.49633742 0.74494315\n",
            "  0.21444674 0.67802437 0.4351361  1.02293732 0.74111347 0.77049977\n",
            "  0.83358555 0.15534627 0.31428451 0.88067246 0.83837643 0.70850121\n",
            "  0.61056963 0.91542426 0.8012362  0.61814783 0.42592092 0.10574938\n",
            "  0.61221555 0.97316621 0.84805174 0.83321931 0.52958695 0.15475966\n",
            "  0.92511241 0.32380018 0.1930985  0.44480346 0.85891745 0.43859449\n",
            "  0.23592582 1.11095599 1.01181106 0.92087979 0.70424555 0.62798225\n",
            "  0.61799671 0.24637504 0.74345885 0.66737795 0.21503504 0.41561647\n",
            "  0.91822245 0.55283957 0.51639084 0.29807543 0.60757467 0.99869488\n",
            "  0.91919883 0.52084741 0.81182094 0.84675128 0.06758751 0.89216506\n",
            "  0.79447956 0.42914861 0.6909252  0.83357834 0.93017673 0.19181495\n",
            "  0.48606691 0.36927284 0.29000487 0.         0.53400163 0.83537296\n",
            "  0.0787275  0.53971266 0.3363128  0.11018448]\n",
            " [0.87385731 0.82161341 0.4991528  0.09572344 0.60902575 0.89114051\n",
            "  0.62029648 0.32782174 0.90272155 0.40866235 0.37819876 0.87382498\n",
            "  0.61732078 1.00946408 0.53899938 0.2886858  0.39748891 0.71053146\n",
            "  0.82309469 0.41032816 0.06575803 0.36005481 0.49287142 0.46300681\n",
            "  0.3084501  0.04691233 0.3861392  0.79719696 0.7562858  0.34038606\n",
            "  0.33433547 0.14538868 0.23551013 0.94950189 0.32592866 0.26593396\n",
            "  0.38899288 0.54421642 0.68754462 0.42879908 0.81829223 0.79268764\n",
            "  0.51306559 0.49821833 0.83391975 0.360246   0.74711332 0.43405249\n",
            "  0.50273856 0.70584079 0.33598605 0.39595224 0.6721362  0.43768522\n",
            "  0.90009483 0.33271588 0.34161757 0.48132145 0.32770068 0.2348878\n",
            "  0.35464931 0.94563871 0.82828705 0.39831904 0.94134331 0.63968356\n",
            "  0.6776231  0.61227414 0.34638223 0.88466871 0.47158608 0.51458458\n",
            "  0.71108707 0.35385587 0.68189543 0.23595621 0.0936948  0.83675056\n",
            "  0.82849084 0.70608492 0.42299316 0.81876674 0.58690675 0.57597459\n",
            "  0.52151197 0.11519829 0.15959381 0.6277729  0.90706627 0.3761512\n",
            "  0.64583831 0.56694174 0.42497243 0.53400163 0.         1.00064581\n",
            "  0.52022824 0.00711545 0.27843441 0.52457109]\n",
            " [0.13142574 0.62572305 0.54850432 0.96487442 0.47436217 0.5333764\n",
            "  0.38106963 1.03745076 0.33764163 0.63317358 1.02700382 0.12683657\n",
            "  0.65917676 0.01729849 0.57022605 0.95223108 0.74990319 0.45750972\n",
            "  0.38644721 1.12329828 1.01581761 0.96821839 0.61078046 1.01524726\n",
            "  0.76891612 0.96236033 0.8220687  0.20513072 0.34094062 0.87230123\n",
            "  0.80492698 1.06927651 0.76572776 0.43272214 0.88612653 1.03658843\n",
            "  0.95419197 0.68097277 0.53618574 0.98459818 0.31947651 0.21859542\n",
            "  0.52103276 0.93891226 0.24264668 0.70542882 0.42360458 0.87434363\n",
            "  0.53443502 0.71939657 1.09327434 0.94218713 0.33977815 0.95252961\n",
            "  0.32891089 0.70194289 0.87401351 0.52274982 1.17246425 0.76610504\n",
            "  0.98274892 0.61225431 0.60038074 1.17033443 0.15998672 0.37533728\n",
            "  0.32662944 0.59041109 0.86200114 0.17253165 0.6568316  0.50166293\n",
            "  0.6131652  0.67118026 0.33981511 0.89532131 0.99219893 0.56243842\n",
            "  0.4328263  0.32509721 0.86259258 0.3311858  0.79186905 0.77290904\n",
            "  0.697361   0.98386867 1.06940934 0.60261288 0.32671313 0.76731998\n",
            "  0.3769484  0.49069999 0.63546299 0.83537296 1.00064581 0.\n",
            "  0.75977572 1.00024581 0.75390291 0.94417566]\n",
            " [0.67311586 0.94729303 0.55721502 0.42980538 0.29010523 0.95265416\n",
            "  0.45900306 0.78777723 0.51057131 0.24883245 0.82075155 0.65500203\n",
            "  0.12679586 0.75983948 0.20114952 0.71072424 0.13397665 0.74264612\n",
            "  0.42505917 0.88710721 0.48387806 0.77585441 0.17948937 0.87889944\n",
            "  0.23057865 0.51634023 0.70091148 0.57865016 0.42249083 0.69840609\n",
            "  0.18657504 0.66045808 0.38936712 0.94523927 0.6961796  0.74048608\n",
            "  0.79023781 0.07888147 0.24889059 0.83744579 0.76021884 0.62983621\n",
            "  0.53897064 0.86607085 0.7225365  0.56036231 0.35675052 0.13494026\n",
            "  0.54140516 0.90633566 0.81861573 0.78872033 0.45095851 0.20611178\n",
            "  0.84675233 0.26788492 0.19502828 0.37056552 0.83811223 0.39277868\n",
            "  0.26983448 1.03615601 0.9387007  0.89435193 0.63210691 0.55048893\n",
            "  0.53949955 0.17488708 0.69597422 0.59322339 0.13998432 0.33884045\n",
            "  0.8476185  0.4929839  0.43804636 0.28967523 0.58520373 0.92453\n",
            "  0.84254372 0.44308848 0.76106659 0.7687188  0.07765475 0.83117123\n",
            "  0.73151271 0.42463868 0.67212706 0.76419481 0.85177521 0.15027109\n",
            "  0.40744163 0.29054826 0.21988552 0.0787275  0.52022824 0.75977572\n",
            "  0.         0.52525935 0.29077757 0.18452446]\n",
            " [0.87319832 0.81686574 0.4965876  0.10206421 0.61106312 0.88702573\n",
            "  0.62012335 0.32070668 0.90472641 0.4107762  0.37109586 0.87341346\n",
            "  0.62157639 1.00916912 0.54181005 0.28180283 0.40190381 0.70725813\n",
            "  0.8253654  0.40331983 0.07280958 0.35310192 0.4958694  0.45596321\n",
            "  0.31224237 0.04290548 0.38029395 0.7970121  0.75783138 0.33412643\n",
            "  0.3391859  0.13914514 0.23563347 0.94608444 0.31955889 0.25883371\n",
            "  0.38211443 0.54849075 0.69080378 0.42181978 0.81587495 0.79175822\n",
            "  0.51089326 0.49146506 0.8321666  0.35653167 0.74948448 0.44005475\n",
            "  0.50044809 0.70045465 0.32898888 0.38913586 0.67250145 0.44426965\n",
            "  0.89740523 0.3349989  0.34749671 0.48156125 0.32139747 0.23490853\n",
            "  0.36147533 0.94108478 0.8237074  0.39158505 0.94203395 0.63838867\n",
            "  0.67681815 0.61581768 0.34021608 0.88523791 0.47512938 0.51543836\n",
            "  0.70645852 0.35139729 0.68252155 0.24173728 0.08660229 0.83242618\n",
            "  0.82510642 0.70685929 0.41669964 0.8162421  0.592283   0.57025055\n",
            "  0.51655074 0.12208279 0.15316857 0.62339983 0.90438597 0.38068715\n",
            "  0.64657829 0.56871742 0.42750337 0.53971266 0.00711545 1.00024581\n",
            "  0.52525935 0.         0.28097292 0.5310315 ]\n",
            " [0.63475    0.73457323 0.34531841 0.2167463  0.33177767 0.769588\n",
            "  0.37668384 0.49984699 0.62530179 0.13176798 0.53065818 0.62909414\n",
            "  0.35857575 0.76047029 0.26120388 0.42055447 0.15712361 0.56295865\n",
            "  0.54487803 0.60037098 0.27231372 0.48508683 0.21625201 0.58829339\n",
            "  0.06562871 0.25680039 0.41679417 0.54893861 0.48205375 0.40912327\n",
            "  0.13062711 0.39877377 0.0991118  0.79559212 0.40606503 0.45637501\n",
            "  0.49969433 0.28805347 0.41236811 0.54690054 0.63218898 0.56218473\n",
            "  0.34171882 0.57911649 0.6254987  0.29028384 0.46874792 0.27020008\n",
            "  0.33746022 0.6623907  0.53438674 0.49851682 0.41530801 0.32232881\n",
            "  0.72039278 0.05539848 0.19673452 0.2352208  0.56534318 0.10256044\n",
            "  0.29164697 0.84253766 0.73228792 0.61275665 0.67601061 0.42595493\n",
            "  0.44779519 0.34057222 0.40734548 0.62150991 0.20183993 0.25287179\n",
            "  0.62553185 0.23230523 0.42016115 0.15421065 0.31702674 0.72776975\n",
            "  0.67841908 0.44158443 0.47565225 0.63641269 0.36757971 0.56638736\n",
            "  0.47478308 0.23179469 0.40737997 0.53705992 0.72678548 0.1446501\n",
            "  0.38280706 0.29160474 0.14654155 0.3363128  0.27843441 0.75390291\n",
            "  0.29077757 0.28097292 0.         0.38153648]\n",
            " [0.85695477 1.09711847 0.70215657 0.42900762 0.4740555  1.11396562\n",
            "  0.63513267 0.83425405 0.68383606 0.39586024 0.87608782 0.83926376\n",
            "  0.29594277 0.94406255 0.38260258 0.7696734  0.24893663 0.9028841\n",
            "  0.60021373 0.9269455  0.47080576 0.84032181 0.35353806 0.94700507\n",
            "  0.31652644 0.5370769  0.79402421 0.76241253 0.60594935 0.77828664\n",
            "  0.25091751 0.66979929 0.47534454 1.11597211 0.77202006 0.77842007\n",
            "  0.86068919 0.26321471 0.42421723 0.90700454 0.93394766 0.81110355\n",
            "  0.68906844 0.9511131  0.90115024 0.67162817 0.53609724 0.11135758\n",
            "  0.68907382 1.03915687 0.85392795 0.86212328 0.63282197 0.08934284\n",
            "  1.02167204 0.3840273  0.19640312 0.53097634 0.85209279 0.47872328\n",
            "  0.18123568 1.19435544 1.09119106 0.92153925 0.8143154  0.72139224\n",
            "  0.71620193 0.35632433 0.77831125 0.7769268  0.30841155 0.50831593\n",
            "  0.99230092 0.61098274 0.62113193 0.29670256 0.60796624 1.08075398\n",
            "  1.00862683 0.62713411 0.85093707 0.94167427 0.16843137 0.94778448\n",
            "  0.85452623 0.41154803 0.68416485 0.9055954  1.02699786 0.24815864\n",
            "  0.58941797 0.47109255 0.37243198 0.11018448 0.52457109 0.94417566\n",
            "  0.18452446 0.5310315  0.38153648 0.        ]]\n"
          ]
        }
      ],
      "source": [
        "arr=np.random.random((100,2))\n",
        "x,y= np.atleast_2d(arr[:,0],arr[:,1])\n",
        "D=np.sqrt((x-x.T)**2+(y-y.T)**2)\n",
        "print(D)"
      ]
    },
    {
      "cell_type": "markdown",
      "metadata": {
        "id": "Cp3MozsHXPFb"
      },
      "source": [
        "#### 53. How to convert a float (32 bits) array into an integer (32 bits) in place? \n",
        "(**hint**: astype(copy=False))"
      ]
    },
    {
      "cell_type": "code",
      "execution_count": 55,
      "metadata": {
        "id": "Ds3Iz7RzXPFb",
        "colab": {
          "base_uri": "https://localhost:8080/"
        },
        "outputId": "d1d374da-350f-445c-ec42-f61f8c3ae40a"
      },
      "outputs": [
        {
          "output_type": "stream",
          "name": "stdout",
          "text": [
            "[29 99 58 63 39 53  9  2 62 54]\n"
          ]
        }
      ],
      "source": [
        "arr=(np.random.rand(10)*100).astype(np.float32)\n",
        "z=arr.view(np.int32)\n",
        "z[:]=arr\n",
        "print(z)"
      ]
    },
    {
      "cell_type": "markdown",
      "metadata": {
        "id": "3_KuC0baXPFb"
      },
      "source": [
        "#### 54. How to read the following file? (★★☆) \n",
        "(**hint**: np.genfromtxt)"
      ]
    },
    {
      "cell_type": "markdown",
      "metadata": {
        "id": "0QavvRmlXPFb"
      },
      "source": [
        "```\n",
        "1, 2, 3, 4, 5\n",
        "6,  ,  , 7, 8\n",
        " ,  , 9,10,11\n",
        "```"
      ]
    },
    {
      "cell_type": "code",
      "execution_count": 56,
      "metadata": {
        "id": "6fnhpvPQXPFb",
        "colab": {
          "base_uri": "https://localhost:8080/"
        },
        "outputId": "4829bfce-0996-4f53-ac0c-920fed3f04b6"
      },
      "outputs": [
        {
          "output_type": "stream",
          "name": "stdout",
          "text": [
            "[[ 1  2  3  4  5]\n",
            " [ 6 -1 -1  7  8]\n",
            " [-1 -1  9 10 11]]\n"
          ]
        },
        {
          "output_type": "stream",
          "name": "stderr",
          "text": [
            "/usr/local/lib/python3.7/dist-packages/ipykernel_launcher.py:5: DeprecationWarning: `np.int` is a deprecated alias for the builtin `int`. To silence this warning, use `int` by itself. Doing this will not modify any behavior and is safe. When replacing `np.int`, you may wish to use e.g. `np.int64` or `np.int32` to specify the precision. If you wish to review your current use, check the release note link for additional information.\n",
            "Deprecated in NumPy 1.20; for more details and guidance: https://numpy.org/devdocs/release/1.20.0-notes.html#deprecations\n",
            "  \"\"\"\n"
          ]
        }
      ],
      "source": [
        "from io import StringIO\n",
        "str=StringIO('''1, 2, 3, 4, 5\n",
        "             6,  ,  , 7, 8\n",
        "              ,  , 9,10,11''')\n",
        "d= np.genfromtxt(str,delimiter=\",\",dtype=np.int)\n",
        "print(d)\n"
      ]
    },
    {
      "cell_type": "markdown",
      "metadata": {
        "id": "hdX38j5eXPFb"
      },
      "source": [
        "#### 55. What is the equivalent of enumerate for numpy arrays? (★★☆) \n",
        "(**hint**: np.ndenumerate, np.ndindex)"
      ]
    },
    {
      "cell_type": "code",
      "execution_count": 57,
      "metadata": {
        "id": "R9ezEZ8yXPFb",
        "colab": {
          "base_uri": "https://localhost:8080/"
        },
        "outputId": "e65e7860-501d-4f66-adb5-1b4e260dfc31"
      },
      "outputs": [
        {
          "output_type": "stream",
          "name": "stdout",
          "text": [
            "(0, 0) 0\n",
            "(0, 1) 1\n",
            "(0, 2) 2\n",
            "(1, 0) 3\n",
            "(1, 1) 4\n",
            "(1, 2) 5\n",
            "(2, 0) 6\n",
            "(2, 1) 7\n",
            "(2, 2) 8\n",
            "(0, 0) 0\n",
            "(0, 1) 1\n",
            "(0, 2) 2\n",
            "(1, 0) 3\n",
            "(1, 1) 4\n",
            "(1, 2) 5\n",
            "(2, 0) 6\n",
            "(2, 1) 7\n",
            "(2, 2) 8\n"
          ]
        }
      ],
      "source": [
        "d=np.arange(9).reshape(3,3)\n",
        "for index, value in (np.ndenumerate(d)):\n",
        "  print(index,value)\n",
        "for index in (np.ndindex(d.shape)):\n",
        "  print(index, d[index])"
      ]
    },
    {
      "cell_type": "markdown",
      "metadata": {
        "id": "JQthj1h2XPFb"
      },
      "source": [
        "#### 56. Generate a generic 2D Gaussian-like array (★★☆) \n",
        "(**hint**: np.meshgrid, np.exp)"
      ]
    },
    {
      "cell_type": "code",
      "execution_count": 58,
      "metadata": {
        "id": "NtHXbGEnXPFb",
        "colab": {
          "base_uri": "https://localhost:8080/"
        },
        "outputId": "5fb311e0-aa39-43eb-923c-8b174e9a1302"
      },
      "outputs": [
        {
          "output_type": "stream",
          "name": "stdout",
          "text": [
            "[[0.36787944 0.44822088 0.51979489 0.57375342 0.60279818 0.60279818\n",
            "  0.57375342 0.51979489 0.44822088 0.36787944]\n",
            " [0.44822088 0.54610814 0.63331324 0.69905581 0.73444367 0.73444367\n",
            "  0.69905581 0.63331324 0.54610814 0.44822088]\n",
            " [0.51979489 0.63331324 0.73444367 0.81068432 0.85172308 0.85172308\n",
            "  0.81068432 0.73444367 0.63331324 0.51979489]\n",
            " [0.57375342 0.69905581 0.81068432 0.89483932 0.9401382  0.9401382\n",
            "  0.89483932 0.81068432 0.69905581 0.57375342]\n",
            " [0.60279818 0.73444367 0.85172308 0.9401382  0.98773022 0.98773022\n",
            "  0.9401382  0.85172308 0.73444367 0.60279818]\n",
            " [0.60279818 0.73444367 0.85172308 0.9401382  0.98773022 0.98773022\n",
            "  0.9401382  0.85172308 0.73444367 0.60279818]\n",
            " [0.57375342 0.69905581 0.81068432 0.89483932 0.9401382  0.9401382\n",
            "  0.89483932 0.81068432 0.69905581 0.57375342]\n",
            " [0.51979489 0.63331324 0.73444367 0.81068432 0.85172308 0.85172308\n",
            "  0.81068432 0.73444367 0.63331324 0.51979489]\n",
            " [0.44822088 0.54610814 0.63331324 0.69905581 0.73444367 0.73444367\n",
            "  0.69905581 0.63331324 0.54610814 0.44822088]\n",
            " [0.36787944 0.44822088 0.51979489 0.57375342 0.60279818 0.60279818\n",
            "  0.57375342 0.51979489 0.44822088 0.36787944]]\n"
          ]
        }
      ],
      "source": [
        "x,y= np.meshgrid(np.linspace(-1,1,10),np.linspace(-1,1,10))\n",
        "d=np.sqrt(x*x+y*y)\n",
        "sigma, mu= 1.0, 0.0\n",
        "z=np.exp(-((d-mu)**2/2.0*sigma**2))\n",
        "print(z)"
      ]
    },
    {
      "cell_type": "markdown",
      "metadata": {
        "id": "MU7FjCQJXPFb"
      },
      "source": [
        "#### 57. How to randomly place p elements in a 2D array? (★★☆) \n",
        "(**hint**: np.put, np.random.choice)"
      ]
    },
    {
      "cell_type": "code",
      "execution_count": 59,
      "metadata": {
        "id": "BnXAo5O4XPFb",
        "colab": {
          "base_uri": "https://localhost:8080/"
        },
        "outputId": "ab670e36-d382-4d4a-a288-f8308828f590"
      },
      "outputs": [
        {
          "output_type": "stream",
          "name": "stdout",
          "text": [
            "[[0. 0. 1. 0. 0.]\n",
            " [0. 0. 1. 0. 0.]\n",
            " [0. 0. 0. 0. 0.]\n",
            " [0. 0. 0. 0. 0.]\n",
            " [0. 0. 0. 0. 1.]]\n"
          ]
        }
      ],
      "source": [
        "n=5\n",
        "p=3\n",
        "z=np.zeros((n,n))\n",
        "np.put(z,np.random.choice(range(n*n),p,replace=False),1)\n",
        "print(z)\n"
      ]
    },
    {
      "cell_type": "markdown",
      "metadata": {
        "id": "XqMsxO_WXPFe"
      },
      "source": [
        "#### 58. Subtract the mean of each row of a matrix (★★☆) \n",
        "(**hint**: mean(axis=,keepdims=))"
      ]
    },
    {
      "cell_type": "code",
      "execution_count": 60,
      "metadata": {
        "id": "-3o8dCkEXPFe",
        "colab": {
          "base_uri": "https://localhost:8080/"
        },
        "outputId": "a7eaea0d-cd25-429b-811f-10a40309ce6d"
      },
      "outputs": [
        {
          "output_type": "stream",
          "name": "stdout",
          "text": [
            "[[ 4.16485224e-01  1.99351540e-01  1.72666544e-01  2.72753283e-01\n",
            "  -2.39796353e-01 -4.47901597e-01 -1.71786063e-01 -2.31627000e-01\n",
            "   6.97321213e-02 -3.98777005e-02]\n",
            " [ 2.21612454e-01 -4.69179610e-02  3.47816972e-02  1.48375313e-02\n",
            "   6.96300691e-02 -3.98950578e-04 -2.36179275e-01  1.15731445e-01\n",
            "  -2.95134414e-01  1.22037404e-01]\n",
            " [ 1.10868338e-01  2.05609182e-01  3.48778147e-01  2.87725309e-01\n",
            "  -2.49075334e-01 -2.27095909e-01  1.02635248e-01 -4.66411993e-01\n",
            "   5.85503040e-03 -1.18888021e-01]\n",
            " [ 2.11472755e-01  6.26591653e-02  4.35534510e-01 -6.30836656e-02\n",
            "  -2.49536452e-01 -4.03726209e-01  5.86824260e-02 -1.92859955e-03\n",
            "  -1.40164834e-01  9.00909036e-02]\n",
            " [-3.01648851e-01 -2.45327776e-01  3.07726206e-01 -2.13890730e-01\n",
            "  -1.33937120e-01  4.56474886e-01  1.34419786e-01  1.56866707e-01\n",
            "  -1.72258167e-01  1.15750586e-02]]\n"
          ]
        }
      ],
      "source": [
        "x=np.random.rand(5,10)\n",
        "y=x-x.mean(axis=1,keepdims=True)\n",
        "print(y)"
      ]
    },
    {
      "cell_type": "markdown",
      "metadata": {
        "id": "sgao5VmDXPFe"
      },
      "source": [
        "#### 59. How to sort an array by the nth column? (★★☆) \n",
        "(**hint**: argsort)"
      ]
    },
    {
      "cell_type": "code",
      "execution_count": 61,
      "metadata": {
        "id": "vkdJnVskXPFe",
        "colab": {
          "base_uri": "https://localhost:8080/"
        },
        "outputId": "170885e5-fd41-4dc3-88f7-49d21cb3251c"
      },
      "outputs": [
        {
          "output_type": "stream",
          "name": "stdout",
          "text": [
            "[[1 2 2]\n",
            " [5 2 5]\n",
            " [6 5 3]]\n",
            "[[1 2 2]\n",
            " [5 2 5]\n",
            " [6 5 3]]\n"
          ]
        }
      ],
      "source": [
        "d=np.random.randint(0,10,(3,3))\n",
        "print(d)\n",
        "print(d[d[:,1].argsort()])\n"
      ]
    },
    {
      "cell_type": "markdown",
      "metadata": {
        "id": "z6-ijdceXPFe"
      },
      "source": [
        "#### 60. How to tell if a given 2D array has null columns? (★★☆) \n",
        "(**hint**: any, ~)"
      ]
    },
    {
      "cell_type": "code",
      "execution_count": 62,
      "metadata": {
        "id": "ClHcT56fXPFe",
        "colab": {
          "base_uri": "https://localhost:8080/"
        },
        "outputId": "512b9b2f-c409-4d07-e026-07d1e3b50d77"
      },
      "outputs": [
        {
          "output_type": "stream",
          "name": "stdout",
          "text": [
            "False\n"
          ]
        }
      ],
      "source": [
        "Z = np.random.randint(0,3,(5,10))\n",
        "\n",
        "print((~Z.any(axis=0)).any())"
      ]
    },
    {
      "cell_type": "markdown",
      "metadata": {
        "id": "sEANt-k1XPFe"
      },
      "source": [
        "#### 61. Find the nearest value from a given value in an array (★★☆) \n",
        "(**hint**: np.abs, argmin, flat)"
      ]
    },
    {
      "cell_type": "code",
      "execution_count": 63,
      "metadata": {
        "id": "Vot7vrLEXPFf",
        "colab": {
          "base_uri": "https://localhost:8080/"
        },
        "outputId": "3cfac34c-1a29-49cb-dccc-0b5e70ae5a3a"
      },
      "outputs": [
        {
          "output_type": "stream",
          "name": "stdout",
          "text": [
            "0.5876076037418986\n"
          ]
        }
      ],
      "source": [
        "Z = np.random.uniform(0,1,10)\n",
        "z = 0.5\n",
        "m = Z.flat[np.abs(Z - z).argmin()]\n",
        "print(m)"
      ]
    },
    {
      "cell_type": "markdown",
      "metadata": {
        "id": "rMSXaVPBXPFf"
      },
      "source": [
        "#### 62. Considering two arrays with shape (1,3) and (3,1), how to compute their sum using an iterator? (★★☆) \n",
        "(**hint**: np.nditer)"
      ]
    },
    {
      "cell_type": "code",
      "execution_count": 64,
      "metadata": {
        "id": "cX8TrdHaXPFf",
        "colab": {
          "base_uri": "https://localhost:8080/"
        },
        "outputId": "eab22bfe-63f0-48d7-80b0-c1619c0b1026"
      },
      "outputs": [
        {
          "output_type": "stream",
          "name": "stdout",
          "text": [
            "[[0 1 2]\n",
            " [1 2 3]\n",
            " [2 3 4]]\n"
          ]
        }
      ],
      "source": [
        "A = np.arange(3).reshape(3,1)\n",
        "B = np.arange(3).reshape(1,3)\n",
        "it = np.nditer([A,B,None])\n",
        "for x,y,z in it: \n",
        "    z[...] = x + y\n",
        "print(it.operands[2])"
      ]
    },
    {
      "cell_type": "markdown",
      "metadata": {
        "id": "NN--yM5LXPFf"
      },
      "source": [
        "#### 63. Create an array class that has a name attribute (★★☆) \n",
        "(**hint**: class method)"
      ]
    },
    {
      "cell_type": "code",
      "execution_count": 65,
      "metadata": {
        "id": "lspjViVyXPFf",
        "colab": {
          "base_uri": "https://localhost:8080/"
        },
        "outputId": "9e76dd86-6223-4df0-ab9f-671127d66214"
      },
      "outputs": [
        {
          "output_type": "stream",
          "name": "stdout",
          "text": [
            "range_10\n"
          ]
        }
      ],
      "source": [
        "class NamedArray(np.ndarray):\n",
        "    def __new__(cls, array, name=\"no name\"):\n",
        "        obj = np.asarray(array).view(cls)\n",
        "        obj.name = name\n",
        "        return obj\n",
        "    def __array_finalize__(self, obj):\n",
        "        if obj is None: return\n",
        "        self.info = getattr(obj, 'name', \"no name\")\n",
        "\n",
        "Z = NamedArray(np.arange(10), \"range_10\")\n",
        "print (Z.name)"
      ]
    },
    {
      "cell_type": "markdown",
      "metadata": {
        "id": "J2nHeEf_XPFf"
      },
      "source": [
        "#### 64. Consider a given vector, how to add 1 to each element indexed by a second vector (be careful with repeated indices)? (★★★) \n",
        "(**hint**: np.bincount | np.add.at)"
      ]
    },
    {
      "cell_type": "code",
      "execution_count": 66,
      "metadata": {
        "id": "kyQReupgXPFf",
        "colab": {
          "base_uri": "https://localhost:8080/"
        },
        "outputId": "453bd9fb-086a-48f4-8df4-9c8d567f287f"
      },
      "outputs": [
        {
          "output_type": "stream",
          "name": "stdout",
          "text": [
            "[2. 3. 1. 4. 3. 2. 2. 2. 1. 0.]\n"
          ]
        }
      ],
      "source": [
        "Z=np.zeros(10)\n",
        "I=np.random.randint(0,len(Z),20)\n",
        "Z+= np.bincount(I,minlength=len(Z))\n",
        "print(Z)"
      ]
    },
    {
      "cell_type": "markdown",
      "metadata": {
        "id": "FfgTsR_LXPFf"
      },
      "source": [
        "#### 65. How to accumulate elements of a vector (X) to an array (F) based on an index list (I)? (★★★) \n",
        "(**hint**: np.bincount)"
      ]
    },
    {
      "cell_type": "code",
      "execution_count": 67,
      "metadata": {
        "id": "eopkDAi8XPFf",
        "colab": {
          "base_uri": "https://localhost:8080/"
        },
        "outputId": "d3ed7c9c-3775-4998-8f8b-f25fad3e6c82"
      },
      "outputs": [
        {
          "output_type": "stream",
          "name": "stdout",
          "text": [
            "[0. 7. 0. 6. 5. 0. 0. 0. 0. 3.]\n"
          ]
        }
      ],
      "source": [
        "X=[1,2,3,4,5,6]\n",
        "I=[1,3,9,3,4,1]\n",
        "F= np.bincount(I,X)\n",
        "print(F)"
      ]
    },
    {
      "cell_type": "markdown",
      "metadata": {
        "id": "GaL3OtcQXPFf"
      },
      "source": [
        "#### 66. Considering a (w,h,3) image of (dtype=ubyte), compute the number of unique colors (★★★) \n",
        "(**hint**: np.unique)"
      ]
    },
    {
      "cell_type": "code",
      "execution_count": 68,
      "metadata": {
        "id": "9iXHjXjNXPFf",
        "colab": {
          "base_uri": "https://localhost:8080/"
        },
        "outputId": "72898d41-c327-45bf-b1f5-5bbe6e86c058"
      },
      "outputs": [
        {
          "output_type": "stream",
          "name": "stdout",
          "text": [
            "[0 1]\n"
          ]
        }
      ],
      "source": [
        "w,h= 16,16\n",
        "I=np.random.randint(0,2,(w,h,3)).astype(np.ubyte)\n",
        "colors=np.unique(I.reshape(-1,3),axis=0)\n",
        "n=len(colors)\n",
        "print(np.unique(colors))"
      ]
    },
    {
      "cell_type": "markdown",
      "metadata": {
        "id": "TdGDEEyzXPFg"
      },
      "source": [
        "#### 67. Considering a four dimensions array, how to get sum over the last two axis at once? (★★★) \n",
        "(**hint**: sum(axis=(-2,-1)))"
      ]
    },
    {
      "cell_type": "code",
      "execution_count": 69,
      "metadata": {
        "id": "Ah0Aaw8hXPFg",
        "colab": {
          "base_uri": "https://localhost:8080/"
        },
        "outputId": "7ce5ded3-7fa6-41c6-d9a6-2b6749ce0dcb"
      },
      "outputs": [
        {
          "output_type": "stream",
          "name": "stdout",
          "text": [
            "[[56 60 46 47]\n",
            " [40 55 61 51]\n",
            " [45 61 72 61]]\n"
          ]
        }
      ],
      "source": [
        "A= np.random.randint(0,10,(3,4,3,4))\n",
        "sum= A.sum(axis=(-2,-1))\n",
        "print(sum)"
      ]
    },
    {
      "cell_type": "markdown",
      "metadata": {
        "id": "KEFjVMz4XPFg"
      },
      "source": [
        "#### 68. Considering a one-dimensional vector D, how to compute means of subsets of D using a vector S of same size describing subset  indices? (★★★) \n",
        "(**hint**: np.bincount)"
      ]
    },
    {
      "cell_type": "code",
      "execution_count": 70,
      "metadata": {
        "id": "YAWPLSnlXPFg",
        "colab": {
          "base_uri": "https://localhost:8080/"
        },
        "outputId": "1bd1b2a5-20c0-4e58-c845-8a93c76ad828"
      },
      "outputs": [
        {
          "output_type": "stream",
          "name": "stdout",
          "text": [
            "[0.48162663 0.4955934  0.50571813 0.59658603 0.59594633 0.46354642\n",
            " 0.6855284  0.52757868 0.56133222 0.44959791]\n"
          ]
        }
      ],
      "source": [
        "D = np.random.uniform(0,1,100)\n",
        "S = np.random.randint(0,10,100)\n",
        "D_sums = np.bincount(S, weights=D)\n",
        "D_counts = np.bincount(S)\n",
        "D_means = D_sums / D_counts\n",
        "print(D_means)"
      ]
    },
    {
      "cell_type": "markdown",
      "metadata": {
        "id": "TeMWNTlGXPFg"
      },
      "source": [
        "#### 69. How to get the diagonal of a dot product? (★★★) \n",
        "(**hint**: np.diag)"
      ]
    },
    {
      "cell_type": "code",
      "execution_count": 71,
      "metadata": {
        "id": "SNh6VtEaXPFg",
        "colab": {
          "base_uri": "https://localhost:8080/"
        },
        "outputId": "611f48cf-fc43-4a2f-e0e5-5686cc983479"
      },
      "outputs": [
        {
          "output_type": "execute_result",
          "data": {
            "text/plain": [
              "array([1.80402812, 0.75577474, 0.99285883, 1.44932792, 2.18342584])"
            ]
          },
          "metadata": {},
          "execution_count": 71
        }
      ],
      "source": [
        "A = np.random.uniform(0,1,(5,5))\n",
        "B = np.random.uniform(0,1,(5,5))\n",
        "\n",
        "# Slow version\n",
        "np.diag(np.dot(A, B))\n"
      ]
    },
    {
      "cell_type": "markdown",
      "metadata": {
        "id": "1aDU_9x7XPFg"
      },
      "source": [
        "#### 70. Consider the vector \\[1, 2, 3, 4, 5\\], how to build a new vector with 3 consecutive zeros interleaved between each value? (★★★) \n",
        "(**hint**: array\\[::4\\])"
      ]
    },
    {
      "cell_type": "code",
      "execution_count": 72,
      "metadata": {
        "id": "U16Qi5qBXPFh",
        "colab": {
          "base_uri": "https://localhost:8080/"
        },
        "outputId": "87a073cb-6060-4124-cd0d-610f04ee653c"
      },
      "outputs": [
        {
          "output_type": "stream",
          "name": "stdout",
          "text": [
            "[1. 0. 0. 0. 2. 0. 0. 0. 3. 0. 0. 0. 4. 0. 0. 0. 5.]\n"
          ]
        }
      ],
      "source": [
        "Z = np.array([1,2,3,4,5])\n",
        "nz = 3\n",
        "Z0 = np.zeros(len(Z) + (len(Z)-1)*(nz))\n",
        "Z0[::nz+1] = Z\n",
        "print(Z0)"
      ]
    },
    {
      "cell_type": "markdown",
      "metadata": {
        "id": "zj899KCiXPFh"
      },
      "source": [
        "#### 71. Consider an array of dimension (5,5,3), how to mulitply it by an array with dimensions (5,5)? (★★★) \n",
        "(**hint**: array\\[:, :, None\\])"
      ]
    },
    {
      "cell_type": "code",
      "execution_count": 73,
      "metadata": {
        "collapsed": true,
        "id": "_B4DDrMPXPFh",
        "colab": {
          "base_uri": "https://localhost:8080/"
        },
        "outputId": "d1ff2860-e528-4e7c-cd41-ce6163d9044b"
      },
      "outputs": [
        {
          "output_type": "stream",
          "name": "stdout",
          "text": [
            "[[[2. 2. 2.]\n",
            "  [2. 2. 2.]\n",
            "  [2. 2. 2.]\n",
            "  [2. 2. 2.]\n",
            "  [2. 2. 2.]]\n",
            "\n",
            " [[2. 2. 2.]\n",
            "  [2. 2. 2.]\n",
            "  [2. 2. 2.]\n",
            "  [2. 2. 2.]\n",
            "  [2. 2. 2.]]\n",
            "\n",
            " [[2. 2. 2.]\n",
            "  [2. 2. 2.]\n",
            "  [2. 2. 2.]\n",
            "  [2. 2. 2.]\n",
            "  [2. 2. 2.]]\n",
            "\n",
            " [[2. 2. 2.]\n",
            "  [2. 2. 2.]\n",
            "  [2. 2. 2.]\n",
            "  [2. 2. 2.]\n",
            "  [2. 2. 2.]]\n",
            "\n",
            " [[2. 2. 2.]\n",
            "  [2. 2. 2.]\n",
            "  [2. 2. 2.]\n",
            "  [2. 2. 2.]\n",
            "  [2. 2. 2.]]]\n"
          ]
        }
      ],
      "source": [
        "A = np.ones((5,5,3))\n",
        "B = 2*np.ones((5,5))\n",
        "print(A * B[:,:,None])"
      ]
    },
    {
      "cell_type": "markdown",
      "metadata": {
        "id": "H0BRg26aXPFh"
      },
      "source": [
        "#### 72. How to swap two rows of an array? (★★★) \n",
        "(**hint**: array\\[\\[\\]\\] = array\\[\\[\\]\\])"
      ]
    },
    {
      "cell_type": "code",
      "execution_count": 74,
      "metadata": {
        "id": "lID7b61TXPFh",
        "colab": {
          "base_uri": "https://localhost:8080/"
        },
        "outputId": "d9adada9-e361-416a-e63e-2d76dc162d5c"
      },
      "outputs": [
        {
          "output_type": "stream",
          "name": "stdout",
          "text": [
            "[[ 5  6  7  8  9]\n",
            " [ 0  1  2  3  4]\n",
            " [10 11 12 13 14]\n",
            " [15 16 17 18 19]\n",
            " [20 21 22 23 24]]\n"
          ]
        }
      ],
      "source": [
        "A = np.arange(25).reshape(5,5)\n",
        "A[[0,1]] = A[[1,0]]\n",
        "print(A)"
      ]
    },
    {
      "cell_type": "markdown",
      "metadata": {
        "id": "4yOWXcGWXPFh"
      },
      "source": [
        "#### 73. Consider a set of 10 triplets describing 10 triangles (with shared vertices), find the set of unique line segments composing all the  triangles (★★★) \n",
        "(**hint**: repeat, np.roll, np.sort, view, np.unique)"
      ]
    },
    {
      "cell_type": "code",
      "execution_count": 75,
      "metadata": {
        "id": "bCduc7eZXPFh",
        "colab": {
          "base_uri": "https://localhost:8080/"
        },
        "outputId": "039fc450-d2c3-4373-ec0b-257b53e7f2c5"
      },
      "outputs": [
        {
          "output_type": "stream",
          "name": "stdout",
          "text": [
            "[( 3, 23) ( 3, 26) ( 9, 57) ( 9, 97) (11, 31) (11, 73) (13, 59) (13, 96)\n",
            " (23, 26) (24, 90) (24, 96) (31, 56) (31, 57) (31, 73) (44, 46) (44, 64)\n",
            " (46, 64) (56, 57) (57, 97) (59, 96) (60, 71) (60, 92) (65, 93) (65, 98)\n",
            " (71, 92) (90, 96) (90, 97) (93, 98) (96, 97)]\n"
          ]
        }
      ],
      "source": [
        "faces = np.random.randint(0,100,(10,3))\n",
        "F = np.roll(faces.repeat(2,axis=1),-1,axis=1)\n",
        "F = F.reshape(len(F)*3,2)\n",
        "F = np.sort(F,axis=1)\n",
        "G = F.view( dtype=[('p0',F.dtype),('p1',F.dtype)] )\n",
        "G = np.unique(G)\n",
        "print(G)"
      ]
    },
    {
      "cell_type": "markdown",
      "metadata": {
        "id": "3DZBODDkXPFh"
      },
      "source": [
        "#### 74. Given an array C that is a bincount, how to produce an array A such that np.bincount(A) == C? (★★★) \n",
        "(**hint**: np.repeat)"
      ]
    },
    {
      "cell_type": "code",
      "execution_count": 76,
      "metadata": {
        "id": "vbUdlIK-XPFh",
        "colab": {
          "base_uri": "https://localhost:8080/"
        },
        "outputId": "959d7b70-88a9-4793-b14f-0c05eff2fa58"
      },
      "outputs": [
        {
          "output_type": "stream",
          "name": "stdout",
          "text": [
            "[1 1 2 3 4 4 6]\n"
          ]
        }
      ],
      "source": [
        "C = np.bincount([1,1,2,3,4,4,6])\n",
        "A = np.repeat(np.arange(len(C)), C)\n",
        "print(A)"
      ]
    },
    {
      "cell_type": "markdown",
      "metadata": {
        "id": "ULWxbsa4XPFh"
      },
      "source": [
        "#### 75. How to compute averages using a sliding window over an array? (★★★) \n",
        "(**hint**: np.cumsum)"
      ]
    },
    {
      "cell_type": "code",
      "execution_count": 77,
      "metadata": {
        "id": "hF4WCyWqXPFi",
        "colab": {
          "base_uri": "https://localhost:8080/"
        },
        "outputId": "bbe3a77f-729e-4e93-a875-d38a4d64a6eb"
      },
      "outputs": [
        {
          "output_type": "stream",
          "name": "stdout",
          "text": [
            "[ 1.  2.  3.  4.  5.  6.  7.  8.  9. 10. 11. 12. 13. 14. 15. 16. 17. 18.]\n"
          ]
        }
      ],
      "source": [
        "def moving_average(a, n=3) :\n",
        "    ret = np.cumsum(a, dtype=float)\n",
        "    \n",
        "    ret[n:] = ret[n:] - ret[:-n]\n",
        "    \n",
        "    return ret[n - 1:] / n\n",
        "Z = np.arange(20)\n",
        "print(moving_average(Z, n=3))"
      ]
    },
    {
      "cell_type": "markdown",
      "metadata": {
        "id": "2CbI-YRZXPFi"
      },
      "source": [
        "#### 76. Consider a one-dimensional array Z, build a two-dimensional array whose first row is (Z\\[0\\],Z\\[1\\],Z\\[2\\]) and each subsequent row is  shifted by 1 (last row should be (Z\\[-3\\],Z\\[-2\\],Z\\[-1\\]) (★★★) \n",
        "(**hint**: from numpy.lib import stride_tricks)"
      ]
    },
    {
      "cell_type": "code",
      "execution_count": 85,
      "metadata": {
        "id": "XpIJaPSHXPFi",
        "colab": {
          "base_uri": "https://localhost:8080/"
        },
        "outputId": "60eedb98-7313-4f1b-bcec-278ea8108ec6"
      },
      "outputs": [
        {
          "output_type": "stream",
          "name": "stdout",
          "text": [
            "[[0 1 2]\n",
            " [1 2 3]\n",
            " [2 3 4]\n",
            " [3 4 5]\n",
            " [4 5 6]\n",
            " [5 6 7]\n",
            " [6 7 8]\n",
            " [7 8 9]]\n"
          ]
        }
      ],
      "source": [
        "from numpy.lib import stride_tricks\n",
        "\n",
        "def rolling(a, window):\n",
        "    shape = (a.size - window + 1, window)\n",
        "    strides = (a.strides[0], a.strides[0])\n",
        "    return stride_tricks.as_strided(a, shape=shape, strides=strides)\n",
        "Z = rolling(np.arange(10), 3)\n",
        "print(Z)"
      ]
    },
    {
      "cell_type": "markdown",
      "metadata": {
        "id": "Q8mstyN6XPFi"
      },
      "source": [
        "#### 77. How to negate a boolean, or to change the sign of a float inplace? (★★★) \n",
        "(**hint**: np.logical_not, np.negative)"
      ]
    },
    {
      "cell_type": "code",
      "execution_count": 79,
      "metadata": {
        "id": "LpNAt7pMXPFi",
        "colab": {
          "base_uri": "https://localhost:8080/"
        },
        "outputId": "fa4aed3b-c62f-4f8f-c9f6-4a15a6ace411"
      },
      "outputs": [
        {
          "output_type": "execute_result",
          "data": {
            "text/plain": [
              "array([1, 1, 0, 1, 0, 1, 0, 1, 1, 1, 0, 0, 1, 0, 0, 1, 1, 0, 1, 1, 0, 0,\n",
              "       1, 0, 1, 1, 1, 0, 0, 1, 1, 1, 0, 0, 1, 0, 1, 0, 1, 1, 1, 1, 0, 1,\n",
              "       1, 0, 0, 0, 0, 1, 0, 1, 1, 1, 0, 0, 1, 0, 0, 0, 1, 0, 1, 1, 0, 0,\n",
              "       0, 1, 0, 0, 0, 1, 1, 1, 1, 0, 0, 1, 0, 0, 1, 0, 0, 1, 0, 0, 0, 1,\n",
              "       0, 0, 0, 1, 0, 0, 0, 1, 1, 1, 1, 0])"
            ]
          },
          "metadata": {},
          "execution_count": 79
        }
      ],
      "source": [
        "Z = np.random.randint(0,2,100)\n",
        "np.logical_not(Z, out=Z)"
      ]
    },
    {
      "cell_type": "code",
      "source": [
        "Z = np.random.uniform(-1.0,1.0,100)\n",
        "np.negative(Z, out=Z)"
      ],
      "metadata": {
        "colab": {
          "base_uri": "https://localhost:8080/"
        },
        "id": "_D6aQUpLmgt1",
        "outputId": "f39f528d-518b-4ac1-c3d8-a73f98e382e7"
      },
      "execution_count": 80,
      "outputs": [
        {
          "output_type": "execute_result",
          "data": {
            "text/plain": [
              "array([-0.97313264,  0.98328404, -0.68347127,  0.39891376,  0.38060245,\n",
              "        0.99167469,  0.59782745,  0.30662348,  0.10199406, -0.22006702,\n",
              "       -0.95514486,  0.60409598, -0.40591337, -0.77736433, -0.90942581,\n",
              "       -0.62997784,  0.65052439, -0.47160668,  0.81063879, -0.58931572,\n",
              "       -0.59393387,  0.38431653,  0.39882361,  0.42735445,  0.07810234,\n",
              "        0.24269682,  0.41152428,  0.61828141,  0.58942754, -0.36876283,\n",
              "       -0.33547464,  0.61533896,  0.45675187,  0.12017844,  0.21285518,\n",
              "       -0.214854  ,  0.31495147, -0.44274605,  0.36534943, -0.40630081,\n",
              "       -0.37040875, -0.04618305,  0.56092869, -0.30833255, -0.51267218,\n",
              "       -0.01412161,  0.80744322, -0.10525289,  0.53228384, -0.44764059,\n",
              "        0.14032653,  0.96022577, -0.89826467, -0.96123733,  0.96881256,\n",
              "        0.49550343,  0.80311486,  0.63769483, -0.74601468,  0.20345102,\n",
              "        0.47570452, -0.60554036, -0.39736853, -0.50957717,  0.46806107,\n",
              "       -0.19218042, -0.48928583, -0.12791137,  0.57076921,  0.70889201,\n",
              "       -0.91738798,  0.43161554,  0.90657591, -0.26850191, -0.33226593,\n",
              "        0.0306661 , -0.39675478, -0.0549581 , -0.53353027,  0.94319631,\n",
              "        0.02122704,  0.94810636,  0.52965526, -0.44291542, -0.59902937,\n",
              "        0.65015225,  0.34876722, -0.16948757,  0.37971295, -0.02426573,\n",
              "        0.28597978, -0.52900609,  0.15967534, -0.03686571, -0.81714077,\n",
              "        0.49715187, -0.22867433,  0.04592523,  0.62624746,  0.4301587 ])"
            ]
          },
          "metadata": {},
          "execution_count": 80
        }
      ]
    },
    {
      "cell_type": "markdown",
      "metadata": {
        "id": "LtWYceuHXPFi"
      },
      "source": [
        "#### 78. Consider 2 sets of points P0,P1 describing lines (2d) and a point p, how to compute distance from p to each line i  (P0\\[i\\],P1\\[i\\])? (★★★)"
      ]
    },
    {
      "cell_type": "code",
      "execution_count": 82,
      "metadata": {
        "id": "6TWr4QStXPFi",
        "colab": {
          "base_uri": "https://localhost:8080/"
        },
        "outputId": "5c686d4a-669a-4688-b7cc-d10f95d5220d"
      },
      "outputs": [
        {
          "output_type": "stream",
          "name": "stdout",
          "text": [
            "[4.12115945 2.10576882 5.59554395 1.0230138  5.4401723  2.09689657\n",
            " 0.16084171 1.95830604 8.10327953 8.7036957 ]\n"
          ]
        }
      ],
      "source": [
        "def distance(P0, P1, p):\n",
        "    T = P1 - P0\n",
        "    L = (T**2).sum(axis=1)\n",
        "    U = -((P0[:,0]-p[...,0])*T[:,0] + (P0[:,1]-p[...,1])*T[:,1]) / L\n",
        "    U = U.reshape(len(U),1)\n",
        "    D = P0 + U*T - p\n",
        "    return np.sqrt((D**2).sum(axis=1))\n",
        "\n",
        "P0 = np.random.uniform(-10,10,(10,2))\n",
        "P1 = np.random.uniform(-10,10,(10,2))\n",
        "p  = np.random.uniform(-10,10,( 1,2))\n",
        "print(distance(P0, P1, p))"
      ]
    },
    {
      "cell_type": "markdown",
      "metadata": {
        "id": "rqwMg-F8XPFi"
      },
      "source": [
        "#### 79. Consider 2 sets of points P0,P1 describing lines (2d) and a set of points P, how to compute distance from each point j (P\\[j\\]) to each line i (P0\\[i\\],P1\\[i\\])? (★★★)"
      ]
    },
    {
      "cell_type": "code",
      "execution_count": 81,
      "metadata": {
        "id": "ciYlXh5XXPFi",
        "colab": {
          "base_uri": "https://localhost:8080/"
        },
        "outputId": "9078a041-2f16-4e08-f761-5d3ea43da6ea"
      },
      "outputs": [
        {
          "output_type": "stream",
          "name": "stdout",
          "text": [
            "[[ 0.41808378  6.52515423  2.21443541 10.64734908  2.62795281  1.35075711\n",
            "   6.94990635  7.78107866  0.54833647  2.38950528]\n",
            " [ 4.00728043 11.49716402  6.56034347  5.60392769  0.28677387  6.06994445\n",
            "   8.68101577  9.45946389  4.58724161  1.45772356]\n",
            " [ 1.90830891  7.08114845  1.90087777  8.99169023  0.14251487  1.47778675\n",
            "   4.98031211  5.78984116  0.05342329  0.19367336]\n",
            " [13.10346169 17.30017276  9.91648138  2.62560336  8.93558107 10.71782989\n",
            "   6.0584245   6.74153622  7.04015666 10.56907111]\n",
            " [12.9646255  11.05335761  2.08972841  0.47964929 12.50914141  3.60264103\n",
            "   2.51936323  1.81662007  1.15231877 12.10802688]\n",
            " [13.64746673 12.0941609   3.10577988  0.43094625 12.7942485   4.64379899\n",
            "   1.86935634  1.17555619  0.16677663 12.62710544]\n",
            " [ 2.95700964  0.57955431  8.22948911 12.07321776  6.15184546  7.51451356\n",
            "   6.97863647  6.15551321 10.80125183  3.51384256]\n",
            " [ 1.30972178  1.76231581  9.00375872 13.6273563   4.66491665  8.50705663\n",
            "   6.68821283  5.84743529 11.42007659  1.89973684]\n",
            " [ 4.99974237  6.80227596  0.19922748  7.28397726  4.43643829  0.48246297\n",
            "   0.93883685  1.722609    2.20076909  3.90364655]\n",
            " [ 5.58839623  0.70321365  4.65519697 17.22652671  5.17925088  5.78644094\n",
            "   2.94110151  3.83806279  6.05008477  6.49760019]]\n"
          ]
        }
      ],
      "source": [
        "def distance(P0, P1, p):\n",
        "    T = P1 - P0\n",
        "    L = (T**2).sum(axis=1)\n",
        "    U = -((P0[:,0]-p[...,0])*T[:,0] + (P0[:,1]-p[...,1])*T[:,1]) / L\n",
        "    U = U.reshape(len(U),1)\n",
        "    D = P0 + U*T - p\n",
        "    return np.sqrt((D**2).sum(axis=1))\n",
        "\n",
        "P0 = np.random.uniform(-10, 10, (10,2))\n",
        "P1 = np.random.uniform(-10,10,(10,2))\n",
        "p = np.random.uniform(-10, 10, (10,2))\n",
        "print(np.array([distance(P0,P1,p_i) for p_i in p]))"
      ]
    },
    {
      "cell_type": "markdown",
      "metadata": {
        "id": "jAYtL8eoXPFi"
      },
      "source": [
        "#### 80. Consider an arbitrary array, write a function that extract a subpart with a fixed shape and centered on a given element (pad with a `fill` value when necessary) (★★★) \n",
        "(**hint**: minimum, maximum)"
      ]
    },
    {
      "cell_type": "code",
      "execution_count": 83,
      "metadata": {
        "id": "qo-aACXvXPFi",
        "colab": {
          "base_uri": "https://localhost:8080/"
        },
        "outputId": "7c813ae1-8326-45b3-a61e-d1f0cd79c9a5"
      },
      "outputs": [
        {
          "output_type": "stream",
          "name": "stdout",
          "text": [
            "[[9 9 6 5 8 1 2 3 2 7]\n",
            " [8 9 7 7 1 2 0 4 8 2]\n",
            " [9 7 8 9 2 0 1 2 6 6]\n",
            " [1 6 8 1 6 4 7 3 2 6]\n",
            " [9 1 8 9 3 7 4 1 0 6]\n",
            " [2 4 8 9 5 1 5 3 2 2]\n",
            " [0 6 4 5 6 7 0 5 7 7]\n",
            " [9 4 5 5 3 6 1 5 1 5]\n",
            " [5 1 2 4 3 0 3 8 5 2]\n",
            " [8 6 9 5 8 7 6 9 0 9]]\n",
            "[[0 0 0 0 0]\n",
            " [0 9 9 6 5]\n",
            " [0 8 9 7 7]\n",
            " [0 9 7 8 9]\n",
            " [0 1 6 8 1]]\n"
          ]
        },
        {
          "output_type": "stream",
          "name": "stderr",
          "text": [
            "/usr/local/lib/python3.7/dist-packages/ipykernel_launcher.py:23: FutureWarning: Using a non-tuple sequence for multidimensional indexing is deprecated; use `arr[tuple(seq)]` instead of `arr[seq]`. In the future this will be interpreted as an array index, `arr[np.array(seq)]`, which will result either in an error or a different result.\n"
          ]
        }
      ],
      "source": [
        "Z = np.random.randint(0,10,(10,10))\n",
        "shape = (5,5)\n",
        "fill  = 0\n",
        "position = (1,1)\n",
        "\n",
        "R = np.ones(shape, dtype=Z.dtype)*fill\n",
        "P  = np.array(list(position)).astype(int)\n",
        "Rs = np.array(list(R.shape)).astype(int)\n",
        "Zs = np.array(list(Z.shape)).astype(int)\n",
        "\n",
        "R_start = np.zeros((len(shape),)).astype(int)\n",
        "R_stop  = np.array(list(shape)).astype(int)\n",
        "Z_start = (P-Rs//2)\n",
        "Z_stop  = (P+Rs//2)+Rs%2\n",
        "\n",
        "R_start = (R_start - np.minimum(Z_start,0)).tolist()\n",
        "Z_start = (np.maximum(Z_start,0)).tolist()\n",
        "R_stop = np.maximum(R_start, (R_stop - np.maximum(Z_stop-Zs,0))).tolist()\n",
        "Z_stop = (np.minimum(Z_stop,Zs)).tolist()\n",
        "\n",
        "r = [slice(start,stop) for start,stop in zip(R_start,R_stop)]\n",
        "z = [slice(start,stop) for start,stop in zip(Z_start,Z_stop)]\n",
        "R[r] = Z[z]\n",
        "print(Z)\n",
        "print(R)"
      ]
    },
    {
      "cell_type": "markdown",
      "metadata": {
        "id": "TxLbgPV5XPFj"
      },
      "source": [
        "#### 81. Consider an array Z = \\[1,2,3,4,5,6,7,8,9,10,11,12,13,14\\], how to generate an array R = \\[\\[1,2,3,4\\], \\[2,3,4,5\\], \\[3,4,5,6\\], ..., \\[11,12,13,14\\]\\]? (★★★) \n",
        "(**hint**: stride\\_tricks.as\\_strided)"
      ]
    },
    {
      "cell_type": "code",
      "execution_count": 110,
      "metadata": {
        "id": "fbcP72MDXPFj",
        "colab": {
          "base_uri": "https://localhost:8080/"
        },
        "outputId": "6f076595-6b92-40c5-cb47-c524b6134497"
      },
      "outputs": [
        {
          "output_type": "stream",
          "name": "stdout",
          "text": [
            "[[ 1  2  3  4]\n",
            " [ 2  3  4  5]\n",
            " [ 3  4  5  6]\n",
            " [ 4  5  6  7]\n",
            " [ 5  6  7  8]\n",
            " [ 6  7  8  9]\n",
            " [ 7  8  9 10]\n",
            " [ 8  9 10 11]\n",
            " [ 9 10 11 12]\n",
            " [10 11 12 13]\n",
            " [11 12 13 14]]\n"
          ]
        }
      ],
      "source": [
        "from numpy.lib import stride_tricks\n",
        "Z = np.arange(1,15,dtype=np.uint32)\n",
        "R = stride_tricks.as_strided(Z,(11,4),(4,4))\n",
        "print(R)"
      ]
    },
    {
      "cell_type": "markdown",
      "metadata": {
        "id": "8gWIdGeJXPFj"
      },
      "source": [
        "#### 82. Compute a matrix rank (★★★) \n",
        "(**hint**: np.linalg.svd) (suggestion: np.linalg.svd)"
      ]
    },
    {
      "cell_type": "code",
      "execution_count": 87,
      "metadata": {
        "id": "Ap9-hAq6XPFj",
        "colab": {
          "base_uri": "https://localhost:8080/"
        },
        "outputId": "13111f1e-56ed-402d-e20a-1f7ccbfde6c0"
      },
      "outputs": [
        {
          "output_type": "stream",
          "name": "stdout",
          "text": [
            "matrix rank: 10\n"
          ]
        }
      ],
      "source": [
        "Z = np.random.uniform(0,1,(10,10))\n",
        "U, S, V = np.linalg.svd(Z) # Singular Value Decomposition\n",
        "rank = np.sum(S > 1e-10)\n",
        "print (\"matrix rank:\",rank)"
      ]
    },
    {
      "cell_type": "markdown",
      "metadata": {
        "id": "oQ7r4QORXPFj"
      },
      "source": [
        "#### 83. How to find the most frequent value in an array? \n",
        "(**hint**: np.bincount, argmax)"
      ]
    },
    {
      "cell_type": "code",
      "execution_count": 88,
      "metadata": {
        "id": "e2asEVB1XPFj",
        "colab": {
          "base_uri": "https://localhost:8080/"
        },
        "outputId": "a4164775-5f7a-42f2-e2e5-0ee097b95274"
      },
      "outputs": [
        {
          "output_type": "stream",
          "name": "stdout",
          "text": [
            "[4 4 3 6 4 6 3 1 4 6 6 6 7 9 5 0 0 5 4 4 6 9 7 0 2 3 6 9 6 3 7 9 9 8 8 7 5\n",
            " 9 0 6 6 9 1 8 2 4 3 6 4 4]\n",
            "rank: 6\n"
          ]
        }
      ],
      "source": [
        "Z = np.random.randint(0,10,50)\n",
        "print (Z)\n",
        "print('rank:', np.bincount(Z).argmax())"
      ]
    },
    {
      "cell_type": "markdown",
      "metadata": {
        "id": "fEfdrsxvXPFj"
      },
      "source": [
        "#### 84. Extract all the contiguous 3x3 blocks from a random 10x10 matrix (★★★) \n",
        "(**hint**: stride\\_tricks.as\\_strided)"
      ]
    },
    {
      "cell_type": "code",
      "execution_count": 92,
      "metadata": {
        "id": "o6NMzxiRXPFj",
        "colab": {
          "base_uri": "https://localhost:8080/"
        },
        "outputId": "ddab9441-0c10-47a7-9f3a-12748785f0c1"
      },
      "outputs": [
        {
          "output_type": "stream",
          "name": "stdout",
          "text": [
            "[[[[2 4 0]\n",
            "   [1 2 1]\n",
            "   [2 1 1]]\n",
            "\n",
            "  [[4 0 4]\n",
            "   [2 1 1]\n",
            "   [1 1 2]]\n",
            "\n",
            "  [[0 4 1]\n",
            "   [1 1 3]\n",
            "   [1 2 1]]\n",
            "\n",
            "  [[4 1 0]\n",
            "   [1 3 3]\n",
            "   [2 1 0]]\n",
            "\n",
            "  [[1 0 2]\n",
            "   [3 3 4]\n",
            "   [1 0 2]]\n",
            "\n",
            "  [[0 2 2]\n",
            "   [3 4 0]\n",
            "   [0 2 2]]\n",
            "\n",
            "  [[2 2 0]\n",
            "   [4 0 2]\n",
            "   [2 2 3]]\n",
            "\n",
            "  [[2 0 4]\n",
            "   [0 2 0]\n",
            "   [2 3 3]]]\n",
            "\n",
            "\n",
            " [[[1 2 1]\n",
            "   [2 1 1]\n",
            "   [3 3 2]]\n",
            "\n",
            "  [[2 1 1]\n",
            "   [1 1 2]\n",
            "   [3 2 1]]\n",
            "\n",
            "  [[1 1 3]\n",
            "   [1 2 1]\n",
            "   [2 1 3]]\n",
            "\n",
            "  [[1 3 3]\n",
            "   [2 1 0]\n",
            "   [1 3 4]]\n",
            "\n",
            "  [[3 3 4]\n",
            "   [1 0 2]\n",
            "   [3 4 4]]\n",
            "\n",
            "  [[3 4 0]\n",
            "   [0 2 2]\n",
            "   [4 4 1]]\n",
            "\n",
            "  [[4 0 2]\n",
            "   [2 2 3]\n",
            "   [4 1 1]]\n",
            "\n",
            "  [[0 2 0]\n",
            "   [2 3 3]\n",
            "   [1 1 2]]]\n",
            "\n",
            "\n",
            " [[[2 1 1]\n",
            "   [3 3 2]\n",
            "   [4 3 1]]\n",
            "\n",
            "  [[1 1 2]\n",
            "   [3 2 1]\n",
            "   [3 1 1]]\n",
            "\n",
            "  [[1 2 1]\n",
            "   [2 1 3]\n",
            "   [1 1 0]]\n",
            "\n",
            "  [[2 1 0]\n",
            "   [1 3 4]\n",
            "   [1 0 2]]\n",
            "\n",
            "  [[1 0 2]\n",
            "   [3 4 4]\n",
            "   [0 2 0]]\n",
            "\n",
            "  [[0 2 2]\n",
            "   [4 4 1]\n",
            "   [2 0 3]]\n",
            "\n",
            "  [[2 2 3]\n",
            "   [4 1 1]\n",
            "   [0 3 0]]\n",
            "\n",
            "  [[2 3 3]\n",
            "   [1 1 2]\n",
            "   [3 0 3]]]\n",
            "\n",
            "\n",
            " [[[3 3 2]\n",
            "   [4 3 1]\n",
            "   [1 1 3]]\n",
            "\n",
            "  [[3 2 1]\n",
            "   [3 1 1]\n",
            "   [1 3 3]]\n",
            "\n",
            "  [[2 1 3]\n",
            "   [1 1 0]\n",
            "   [3 3 4]]\n",
            "\n",
            "  [[1 3 4]\n",
            "   [1 0 2]\n",
            "   [3 4 3]]\n",
            "\n",
            "  [[3 4 4]\n",
            "   [0 2 0]\n",
            "   [4 3 1]]\n",
            "\n",
            "  [[4 4 1]\n",
            "   [2 0 3]\n",
            "   [3 1 1]]\n",
            "\n",
            "  [[4 1 1]\n",
            "   [0 3 0]\n",
            "   [1 1 0]]\n",
            "\n",
            "  [[1 1 2]\n",
            "   [3 0 3]\n",
            "   [1 0 0]]]\n",
            "\n",
            "\n",
            " [[[4 3 1]\n",
            "   [1 1 3]\n",
            "   [0 2 3]]\n",
            "\n",
            "  [[3 1 1]\n",
            "   [1 3 3]\n",
            "   [2 3 4]]\n",
            "\n",
            "  [[1 1 0]\n",
            "   [3 3 4]\n",
            "   [3 4 1]]\n",
            "\n",
            "  [[1 0 2]\n",
            "   [3 4 3]\n",
            "   [4 1 4]]\n",
            "\n",
            "  [[0 2 0]\n",
            "   [4 3 1]\n",
            "   [1 4 3]]\n",
            "\n",
            "  [[2 0 3]\n",
            "   [3 1 1]\n",
            "   [4 3 3]]\n",
            "\n",
            "  [[0 3 0]\n",
            "   [1 1 0]\n",
            "   [3 3 0]]\n",
            "\n",
            "  [[3 0 3]\n",
            "   [1 0 0]\n",
            "   [3 0 1]]]\n",
            "\n",
            "\n",
            " [[[1 1 3]\n",
            "   [0 2 3]\n",
            "   [1 0 3]]\n",
            "\n",
            "  [[1 3 3]\n",
            "   [2 3 4]\n",
            "   [0 3 4]]\n",
            "\n",
            "  [[3 3 4]\n",
            "   [3 4 1]\n",
            "   [3 4 0]]\n",
            "\n",
            "  [[3 4 3]\n",
            "   [4 1 4]\n",
            "   [4 0 1]]\n",
            "\n",
            "  [[4 3 1]\n",
            "   [1 4 3]\n",
            "   [0 1 1]]\n",
            "\n",
            "  [[3 1 1]\n",
            "   [4 3 3]\n",
            "   [1 1 3]]\n",
            "\n",
            "  [[1 1 0]\n",
            "   [3 3 0]\n",
            "   [1 3 2]]\n",
            "\n",
            "  [[1 0 0]\n",
            "   [3 0 1]\n",
            "   [3 2 0]]]\n",
            "\n",
            "\n",
            " [[[0 2 3]\n",
            "   [1 0 3]\n",
            "   [4 1 0]]\n",
            "\n",
            "  [[2 3 4]\n",
            "   [0 3 4]\n",
            "   [1 0 1]]\n",
            "\n",
            "  [[3 4 1]\n",
            "   [3 4 0]\n",
            "   [0 1 0]]\n",
            "\n",
            "  [[4 1 4]\n",
            "   [4 0 1]\n",
            "   [1 0 2]]\n",
            "\n",
            "  [[1 4 3]\n",
            "   [0 1 1]\n",
            "   [0 2 1]]\n",
            "\n",
            "  [[4 3 3]\n",
            "   [1 1 3]\n",
            "   [2 1 2]]\n",
            "\n",
            "  [[3 3 0]\n",
            "   [1 3 2]\n",
            "   [1 2 4]]\n",
            "\n",
            "  [[3 0 1]\n",
            "   [3 2 0]\n",
            "   [2 4 2]]]\n",
            "\n",
            "\n",
            " [[[1 0 3]\n",
            "   [4 1 0]\n",
            "   [2 0 3]]\n",
            "\n",
            "  [[0 3 4]\n",
            "   [1 0 1]\n",
            "   [0 3 2]]\n",
            "\n",
            "  [[3 4 0]\n",
            "   [0 1 0]\n",
            "   [3 2 4]]\n",
            "\n",
            "  [[4 0 1]\n",
            "   [1 0 2]\n",
            "   [2 4 4]]\n",
            "\n",
            "  [[0 1 1]\n",
            "   [0 2 1]\n",
            "   [4 4 3]]\n",
            "\n",
            "  [[1 1 3]\n",
            "   [2 1 2]\n",
            "   [4 3 2]]\n",
            "\n",
            "  [[1 3 2]\n",
            "   [1 2 4]\n",
            "   [3 2 0]]\n",
            "\n",
            "  [[3 2 0]\n",
            "   [2 4 2]\n",
            "   [2 0 0]]]]\n"
          ]
        }
      ],
      "source": [
        "from numpy.lib import stride_tricks\n",
        "Z = np.random.randint(0,5,(10,10))\n",
        "n = 3\n",
        "i = 1 + (Z.shape[0]-3)\n",
        "j = 1 + (Z.shape[1]-3)\n",
        "C = stride_tricks.as_strided(Z, shape=(i, j, n, n), strides=Z.strides + Z.strides)\n",
        "print(C)"
      ]
    },
    {
      "cell_type": "markdown",
      "metadata": {
        "id": "Vy7QVqA3XPFj"
      },
      "source": [
        "#### 85. Create a 2D array subclass such that Z\\[i,j\\] == Z\\[j,i\\] (★★★) \n",
        "(**hint**: class method)"
      ]
    },
    {
      "cell_type": "code",
      "execution_count": 93,
      "metadata": {
        "id": "tjlFly-qXPFj",
        "colab": {
          "base_uri": "https://localhost:8080/"
        },
        "outputId": "30254e42-3e3e-4cbc-b1f0-ca2bfb45daa6"
      },
      "outputs": [
        {
          "output_type": "stream",
          "name": "stdout",
          "text": [
            "[[ 6  6  8  9 13]\n",
            " [ 6  6  9 17  6]\n",
            " [ 8  9  4 42  9]\n",
            " [ 9 17 42  2 17]\n",
            " [13  6  9 17  9]]\n"
          ]
        }
      ],
      "source": [
        "class Symetric(np.ndarray):\n",
        "    def __setitem__(self, index, value):\n",
        "        i,j = index\n",
        "        super(Symetric, self).__setitem__((i,j), value)\n",
        "        super(Symetric, self).__setitem__((j,i), value)\n",
        "\n",
        "def symetric(Z):\n",
        "    return np.asarray(Z + Z.T - np.diag(Z.diagonal())).view(Symetric)\n",
        "\n",
        "S = symetric(np.random.randint(0,10,(5,5)))\n",
        "S[2,3] = 42\n",
        "print(S)"
      ]
    },
    {
      "cell_type": "markdown",
      "metadata": {
        "id": "Wh9-EjMqXPFk"
      },
      "source": [
        "#### 86. Consider a set of p matrices wich shape (n,n) and a set of p vectors with shape (n,1). How to compute the sum of of the p matrix products at once? (result has shape (n,1)) (★★★) \n",
        "(**hint**: np.tensordot)"
      ]
    },
    {
      "cell_type": "code",
      "execution_count": 94,
      "metadata": {
        "id": "c8YSnBNFXPFk",
        "colab": {
          "base_uri": "https://localhost:8080/"
        },
        "outputId": "ac678634-fafd-497d-bb04-fee9f0a3a60a"
      },
      "outputs": [
        {
          "output_type": "stream",
          "name": "stdout",
          "text": [
            "[[50.]\n",
            " [50.]\n",
            " [50.]\n",
            " [50.]\n",
            " [50.]\n",
            " [50.]\n",
            " [50.]\n",
            " [50.]\n",
            " [50.]\n",
            " [50.]]\n"
          ]
        }
      ],
      "source": [
        "p, n = 5, 10\n",
        "M = np.ones((p,n,n))\n",
        "\n",
        "V = np.ones((p,n,1))\n",
        "\n",
        "S = np.tensordot(M, V, axes=[[0, 2], [0, 1]])\n",
        "print(S)"
      ]
    },
    {
      "cell_type": "markdown",
      "metadata": {
        "id": "s6MH2mnpXPFk"
      },
      "source": [
        "#### 87. Consider a 16x16 array, how to get the block-sum (block size is 4x4)? (★★★) \n",
        "(**hint**: np.add.reduceat)"
      ]
    },
    {
      "cell_type": "code",
      "execution_count": 95,
      "metadata": {
        "id": "eIwRiX8RXPFk",
        "colab": {
          "base_uri": "https://localhost:8080/"
        },
        "outputId": "349ff294-191d-4eb6-a501-d1260c2d44f9"
      },
      "outputs": [
        {
          "output_type": "stream",
          "name": "stdout",
          "text": [
            "[[16. 16. 16. 16.]\n",
            " [16. 16. 16. 16.]\n",
            " [16. 16. 16. 16.]\n",
            " [16. 16. 16. 16.]]\n"
          ]
        }
      ],
      "source": [
        "Z = np.ones((16,16))\n",
        "k = 4\n",
        "S = np.add.reduceat(np.add.reduceat(Z, np.arange(0, Z.shape[0], k), axis=0),\n",
        "                                       np.arange(0, Z.shape[1], k), axis=1)\n",
        "print(S)"
      ]
    },
    {
      "cell_type": "markdown",
      "metadata": {
        "id": "haWnQdK0XPFk"
      },
      "source": [
        "#### 88. How to implement the Game of Life using numpy arrays? (★★★)"
      ]
    },
    {
      "cell_type": "code",
      "execution_count": 96,
      "metadata": {
        "id": "r4IzN7q0XPFk",
        "colab": {
          "base_uri": "https://localhost:8080/"
        },
        "outputId": "dba2abb6-ac59-4b19-ef2d-f5757b02e6e6"
      },
      "outputs": [
        {
          "output_type": "stream",
          "name": "stdout",
          "text": [
            "[[0 0 0 0 0 0 0 0 0 0 0 0 0 0 0 0 0 0 0 0]\n",
            " [0 0 0 0 0 0 0 0 0 0 0 0 0 0 0 0 0 0 0 0]\n",
            " [0 0 0 0 0 0 0 0 0 0 0 0 0 0 0 0 0 0 0 0]\n",
            " [0 0 0 0 0 0 0 0 0 0 0 1 0 0 0 0 0 0 0 0]\n",
            " [0 0 0 0 0 0 0 0 0 0 1 1 1 0 0 0 0 0 0 0]\n",
            " [0 0 0 0 0 0 0 0 0 1 0 0 0 1 0 0 0 0 0 0]\n",
            " [0 0 0 0 0 0 0 0 0 1 1 0 1 1 0 0 0 0 0 0]\n",
            " [0 0 0 0 0 0 0 0 0 0 0 0 0 0 0 0 0 0 0 0]\n",
            " [0 0 0 0 0 0 0 0 0 0 1 0 0 0 0 0 0 0 0 0]\n",
            " [0 0 0 0 0 0 0 0 0 1 0 1 0 0 0 0 0 0 0 0]\n",
            " [0 0 0 0 0 0 0 0 1 1 0 1 1 0 0 0 0 0 0 0]\n",
            " [0 1 1 0 0 0 0 0 1 0 0 1 0 0 0 0 0 0 0 0]\n",
            " [0 1 1 0 0 0 0 0 0 1 1 0 0 0 0 0 0 0 0 0]\n",
            " [0 0 0 0 0 0 0 0 0 0 0 0 0 0 0 0 0 0 0 0]\n",
            " [0 0 0 0 0 0 0 0 0 0 0 0 0 0 0 0 0 0 0 0]\n",
            " [0 0 0 0 0 0 0 0 0 0 0 0 0 0 0 0 0 0 0 0]\n",
            " [0 0 0 0 0 0 0 0 0 0 0 0 0 0 0 0 0 0 0 0]\n",
            " [0 0 0 0 0 0 0 0 0 0 0 0 0 0 0 0 0 0 0 0]\n",
            " [0 0 0 0 0 0 0 0 0 0 0 0 0 0 0 0 0 0 0 0]\n",
            " [0 0 0 0 0 0 0 0 0 0 0 0 0 0 0 0 0 0 0 0]]\n"
          ]
        }
      ],
      "source": [
        "def iterate(Z):\n",
        "    # Count neighbours\n",
        "    N = (Z[0:-2,0:-2] + Z[0:-2,1:-1] + Z[0:-2,2:] +\n",
        "         Z[1:-1,0:-2]                + Z[1:-1,2:] +\n",
        "         Z[2:  ,0:-2] + Z[2:  ,1:-1] + Z[2:  ,2:])\n",
        "\n",
        "    # Apply rules\n",
        "    birth = (N==3) & (Z[1:-1,1:-1]==0)\n",
        "    survive = ((N==2) | (N==3)) & (Z[1:-1,1:-1]==1)\n",
        "    Z[...] = 0\n",
        "    Z[1:-1,1:-1][birth | survive] = 1\n",
        "    return Z\n",
        "\n",
        "Z = np.random.randint(0,2,(20,20))\n",
        "for i in range(100): Z = iterate(Z)\n",
        "print(Z)\n"
      ]
    },
    {
      "cell_type": "markdown",
      "metadata": {
        "id": "NDXIk8_vXPFk"
      },
      "source": [
        "#### 89. How to get the n largest values of an array (★★★) \n",
        "(**hint**: np.argsort | np.argpartition)"
      ]
    },
    {
      "cell_type": "code",
      "execution_count": 97,
      "metadata": {
        "id": "rhF-dTtWXPFk",
        "colab": {
          "base_uri": "https://localhost:8080/"
        },
        "outputId": "c26ae03a-b4e8-42c7-f224-a97c75bd5691"
      },
      "outputs": [
        {
          "output_type": "stream",
          "name": "stdout",
          "text": [
            "[9995 9996 9997 9998 9999]\n",
            "[9999 9997 9998 9996 9995]\n"
          ]
        }
      ],
      "source": [
        "Z = np.arange(10000)\n",
        "np.random.shuffle(Z)\n",
        "n = 5\n",
        "\n",
        "# Slow\n",
        "print (Z[np.argsort(Z)[-n:]])\n",
        "\n",
        "# Fast\n",
        "print (Z[np.argpartition(-Z,n)[:n]])"
      ]
    },
    {
      "cell_type": "markdown",
      "metadata": {
        "id": "4U0Og7YYXPFk"
      },
      "source": [
        "#### 90. Given an arbitrary number of vectors, build the cartesian product (every combinations of every item) (★★★) \n",
        "(**hint**: np.indices)"
      ]
    },
    {
      "cell_type": "code",
      "execution_count": 98,
      "metadata": {
        "scrolled": true,
        "id": "bkKnl9gzXPFk",
        "colab": {
          "base_uri": "https://localhost:8080/"
        },
        "outputId": "021771a2-849c-4cb9-8d24-d43832f4463e"
      },
      "outputs": [
        {
          "output_type": "stream",
          "name": "stdout",
          "text": [
            "[[1 4 6]\n",
            " [1 4 7]\n",
            " [1 5 6]\n",
            " [1 5 7]\n",
            " [2 4 6]\n",
            " [2 4 7]\n",
            " [2 5 6]\n",
            " [2 5 7]\n",
            " [3 4 6]\n",
            " [3 4 7]\n",
            " [3 5 6]\n",
            " [3 5 7]]\n"
          ]
        }
      ],
      "source": [
        "def cartesian(arrays):\n",
        "    arrays = [np.asarray(a) for a in arrays]\n",
        "    shape = (len(x) for x in arrays)\n",
        "\n",
        "    ix = np.indices(shape, dtype=int)\n",
        "    ix = ix.reshape(len(arrays), -1).T\n",
        "\n",
        "    for n, arr in enumerate(arrays):\n",
        "        ix[:, n] = arrays[n][ix[:, n]]\n",
        "\n",
        "    return ix\n",
        "\n",
        "print (cartesian(([1, 2, 3], [4, 5], [6, 7])))"
      ]
    },
    {
      "cell_type": "markdown",
      "metadata": {
        "id": "sccpZkSXXPFl"
      },
      "source": [
        "#### 91. How to create a record array from a regular array? (★★★) \n",
        "(**hint**: np.core.records.fromarrays)"
      ]
    },
    {
      "cell_type": "code",
      "execution_count": 99,
      "metadata": {
        "id": "3W0o5jbHXPFl",
        "colab": {
          "base_uri": "https://localhost:8080/"
        },
        "outputId": "e7462d64-5298-42b7-c006-63dd1027c520"
      },
      "outputs": [
        {
          "output_type": "stream",
          "name": "stdout",
          "text": [
            "[(b'Hello', 2.5, 3) (b'World', 3.6, 2)]\n"
          ]
        }
      ],
      "source": [
        "Z = np.array([(\"Hello\", 2.5, 3),\n",
        "              (\"World\", 3.6, 2)])\n",
        "R = np.core.records.fromarrays(Z.T,\n",
        "                               names='col1, col2, col3',\n",
        "                               formats = 'S8, f8, i8')\n",
        "print(R)"
      ]
    },
    {
      "cell_type": "markdown",
      "metadata": {
        "id": "uH1SaFkrXPFl"
      },
      "source": [
        "#### 92. Consider a large vector Z, compute Z to the power of 3 using 3 different methods (★★★) \n",
        "(**hint**: np.power, \\*, np.einsum)"
      ]
    },
    {
      "cell_type": "code",
      "execution_count": 100,
      "metadata": {
        "id": "wNjAaz65XPFl",
        "colab": {
          "base_uri": "https://localhost:8080/"
        },
        "outputId": "27cf2e77-b91b-4e2b-c1a6-ba381a003e6e"
      },
      "outputs": [
        {
          "output_type": "stream",
          "name": "stdout",
          "text": [
            "1 loop, best of 5: 3.77 s per loop\n",
            "10 loops, best of 5: 153 ms per loop\n",
            "10 loops, best of 5: 130 ms per loop\n"
          ]
        }
      ],
      "source": [
        "x = np.random.rand(int(5e7))\n",
        "\n",
        "%timeit np.power(x,3)\n",
        "%timeit x*x*x\n",
        "%timeit np.einsum('i,i,i->i',x,x,x)"
      ]
    },
    {
      "cell_type": "markdown",
      "metadata": {
        "id": "WiJy2HYKXPFl"
      },
      "source": [
        "#### 93. Consider two arrays A and B of shape (8,3) and (2,2). How to find rows of A that contain elements of each row of B regardless of the order of the elements in B? (★★★) \n",
        "(**hint**: np.where)"
      ]
    },
    {
      "cell_type": "code",
      "execution_count": 101,
      "metadata": {
        "id": "X7iuGdN1XPFl",
        "colab": {
          "base_uri": "https://localhost:8080/"
        },
        "outputId": "abb4c5d2-6d50-42e3-f607-017716b43784"
      },
      "outputs": [
        {
          "output_type": "stream",
          "name": "stdout",
          "text": [
            "[0 2 3 4 5 6]\n"
          ]
        }
      ],
      "source": [
        "A = np.random.randint(0,5,(8,3))\n",
        "B = np.random.randint(0,5,(2,2))\n",
        "\n",
        "C = (A[..., np.newaxis, np.newaxis] == B)\n",
        "rows = np.where(C.any((3,1)).all(1))[0]\n",
        "print(rows)"
      ]
    },
    {
      "cell_type": "markdown",
      "metadata": {
        "id": "9hckLfiaXPFl"
      },
      "source": [
        "#### 94. Considering a 10x3 matrix, extract rows with unequal values (e.g. \\[2,2,3\\]) (★★★)"
      ]
    },
    {
      "cell_type": "code",
      "execution_count": 102,
      "metadata": {
        "id": "V45_ziQyXPFl",
        "colab": {
          "base_uri": "https://localhost:8080/"
        },
        "outputId": "415388f0-1198-4be9-8547-cb232f33f0eb"
      },
      "outputs": [
        {
          "output_type": "stream",
          "name": "stdout",
          "text": [
            "Original vector:\n",
            "[[0 2 0]\n",
            " [2 1 1]\n",
            " [0 0 1]\n",
            " [3 3 1]\n",
            " [3 3 1]\n",
            " [2 1 3]]\n",
            "\n",
            "Rows with unequal values:\n",
            "[[0 2 0]\n",
            " [2 1 1]\n",
            " [0 0 1]\n",
            " [3 3 1]\n",
            " [3 3 1]\n",
            " [2 1 3]]\n"
          ]
        }
      ],
      "source": [
        "import numpy as np\n",
        "nums = np.random.randint(0,4,(6,3))\n",
        "print(\"Original vector:\")\n",
        "print(nums)\n",
        "new_nums = np.logical_and.reduce(nums[:,1:] == nums[:,:-1], axis=1)\n",
        "result = nums[~new_nums]\n",
        "print(\"\\nRows with unequal values:\")\n",
        "print(result)"
      ]
    },
    {
      "cell_type": "markdown",
      "metadata": {
        "id": "NzBxLrTvXPFl"
      },
      "source": [
        "#### 95. Convert a vector of ints into a matrix binary representation (★★★) \n",
        "(**hint**: np.unpackbits)"
      ]
    },
    {
      "cell_type": "code",
      "execution_count": 103,
      "metadata": {
        "id": "vbTunRBEXPFl",
        "colab": {
          "base_uri": "https://localhost:8080/"
        },
        "outputId": "82665424-61b8-462c-b66b-2e1b295a58eb"
      },
      "outputs": [
        {
          "output_type": "stream",
          "name": "stdout",
          "text": [
            "[[0 0 0 0 0 0 0 0]\n",
            " [0 0 0 0 0 0 0 1]\n",
            " [0 0 0 0 0 0 1 0]\n",
            " [0 0 0 0 0 0 1 1]\n",
            " [0 0 0 0 1 1 1 1]\n",
            " [0 0 0 1 0 0 0 0]\n",
            " [0 0 1 0 0 0 0 0]\n",
            " [0 1 0 0 0 0 0 0]\n",
            " [1 0 0 0 0 0 0 0]]\n"
          ]
        }
      ],
      "source": [
        "I = np.array([0, 1, 2, 3, 15, 16, 32, 64, 128], dtype=np.uint8)\n",
        "print(np.unpackbits(I[:, np.newaxis], axis=1))"
      ]
    },
    {
      "cell_type": "markdown",
      "metadata": {
        "id": "m_vXmFT4XPFl"
      },
      "source": [
        "#### 96. Given a two dimensional array, how to extract unique rows? (★★★) \n",
        "(**hint**: np.ascontiguousarray)"
      ]
    },
    {
      "cell_type": "code",
      "execution_count": 104,
      "metadata": {
        "id": "PqRNMwGpXPFl",
        "colab": {
          "base_uri": "https://localhost:8080/"
        },
        "outputId": "b80b4f2a-76bc-4d08-f5d9-f533d352d580"
      },
      "outputs": [
        {
          "output_type": "stream",
          "name": "stdout",
          "text": [
            "[[0 0 0]\n",
            " [0 0 1]\n",
            " [0 1 0]\n",
            " [1 0 0]\n",
            " [1 0 1]\n",
            " [1 1 1]]\n"
          ]
        }
      ],
      "source": [
        "Z = np.random.randint(0,2,(6,3))\n",
        "T = np.ascontiguousarray(Z).view(np.dtype((np.void, Z.dtype.itemsize * Z.shape[1])))\n",
        "_, idx = np.unique(T, return_index=True)\n",
        "uZ = Z[idx]\n",
        "print(uZ)"
      ]
    },
    {
      "cell_type": "markdown",
      "metadata": {
        "id": "eDCDTy2BXPFl"
      },
      "source": [
        "#### 97. Considering 2 vectors A & B, write the einsum equivalent of inner, outer, sum, and mul function (★★★) \n",
        "(**hint**: np.einsum)"
      ]
    },
    {
      "cell_type": "code",
      "execution_count": 105,
      "metadata": {
        "id": "qRNI-KANXPFm",
        "colab": {
          "base_uri": "https://localhost:8080/"
        },
        "outputId": "f89f9f95-747e-4b27-e16c-cd589e686772"
      },
      "outputs": [
        {
          "output_type": "stream",
          "name": "stdout",
          "text": [
            "3.35903731991293\n",
            "[0.4104401  0.18958799 0.56165945 0.15382294 0.06085883]\n",
            "1.3763693063993392\n",
            "[[0.4104401  0.30975502 0.40966821 0.11523026 0.12032568]\n",
            " [0.25121308 0.18958799 0.25074064 0.07052758 0.07364628]\n",
            " [0.56271772 0.42467741 0.56165945 0.15798191 0.16496778]\n",
            " [0.54790384 0.41349753 0.54687344 0.15382294 0.16062491]\n",
            " [0.20759412 0.15666919 0.20720371 0.05828165 0.06085883]]\n"
          ]
        }
      ],
      "source": [
        "A = np.random.uniform(0,1,5)\n",
        "\n",
        "B = np.random.uniform(0,1,5)\n",
        "\n",
        "print(np.einsum('i->', A) )      # np.sum(A)\n",
        "\n",
        "print(np.einsum('i,i->i', A, B)) # A * B\n",
        "\n",
        "print(np.einsum('i,i', A, B))    # np.inner(A, B)\n",
        "\n",
        "print(np.einsum('i,j->ij', A, B) )   # np.outer(A, B)"
      ]
    },
    {
      "cell_type": "markdown",
      "metadata": {
        "id": "wi0FKP--XPFm"
      },
      "source": [
        "#### 98. Considering a path described by two vectors (X,Y), how to sample it using equidistant samples (★★★)? \n",
        "(**hint**: np.cumsum, np.interp)"
      ]
    },
    {
      "cell_type": "code",
      "execution_count": 106,
      "metadata": {
        "collapsed": true,
        "id": "wt837Q2VXPFm"
      },
      "outputs": [],
      "source": [
        "phi = np.arange(0, 10*np.pi, 0.1)\n",
        "a = 1\n",
        "x = a*phi*np.cos(phi)\n",
        "y = a*phi*np.sin(phi)\n",
        "\n",
        "dr = (np.diff(x)**2 + np.diff(y)**2)**.5 # segment lengths\n",
        "r = np.zeros_like(x)\n",
        "r[1:] = np.cumsum(dr)                # integrate path\n",
        "\n",
        "r_int = np.linspace(0, r.max(), 200) # regular spaced path\n",
        "\n",
        "x_int = np.interp(r_int, r, x)       # integrate path\n",
        "\n",
        "y_int = np.interp(r_int, r, y)\n"
      ]
    },
    {
      "cell_type": "markdown",
      "metadata": {
        "id": "dJAABdLLXPFm"
      },
      "source": [
        "#### 99. Given an integer n and a 2D array X, select from X the rows which can be interpreted as draws from a multinomial distribution with n degrees, i.e., the rows which only contain integers and which sum to n. (★★★) \n",
        "(**hint**: np.logical\\_and.reduce, np.mod)"
      ]
    },
    {
      "cell_type": "code",
      "execution_count": 107,
      "metadata": {
        "id": "V5YCVleaXPFm",
        "colab": {
          "base_uri": "https://localhost:8080/"
        },
        "outputId": "cd0fa5ef-237a-425a-fd4f-bf67327f4b5b"
      },
      "outputs": [
        {
          "output_type": "stream",
          "name": "stdout",
          "text": [
            "[[2. 0. 1. 1.]]\n"
          ]
        }
      ],
      "source": [
        "X = np.asarray([[1.0, 0.0, 3.0, 8.0],\n",
        "                [2.0, 0.0, 1.0, 1.0],\n",
        "                [1.5, 2.5, 1.0, 0.0]])\n",
        "n = 4\n",
        "M = np.logical_and.reduce(np.mod(X, 1) == 0, axis=-1)\n",
        "M &= (X.sum(axis=-1) == n)\n",
        "\n",
        "print(X[M])\n"
      ]
    },
    {
      "cell_type": "markdown",
      "metadata": {
        "id": "gzVZmA-mXPFm"
      },
      "source": [
        "#### 100. Compute bootstrapped 95% confidence intervals for the mean of a 1D array X (i.e., resample the elements of an array with replacement N times, compute the mean of each sample, and then compute percentiles over the means). (★★★) \n",
        "(**hint**: np.percentile)"
      ]
    },
    {
      "cell_type": "code",
      "execution_count": 108,
      "metadata": {
        "id": "KAh9ZnYyXPFm",
        "colab": {
          "base_uri": "https://localhost:8080/"
        },
        "outputId": "b6f5ba64-bc78-4cff-e226-c144e9fd4c99"
      },
      "outputs": [
        {
          "output_type": "stream",
          "name": "stdout",
          "text": [
            "[0.07423382 0.36905827]\n"
          ]
        }
      ],
      "source": [
        "X = np.random.randn(50) # random 1D array\n",
        "N = 10 # number of bootstrap samples\n",
        "idx = np.random.randint(0, X.size, (N, X.size))\n",
        "means = X[idx].mean(axis=1)\n",
        "confint = np.percentile(means, [2.5, 97.5])\n",
        "print(confint)"
      ]
    }
  ],
  "metadata": {
    "kernelspec": {
      "display_name": "Python 3",
      "language": "python",
      "name": "python3"
    },
    "language_info": {
      "codemirror_mode": {
        "name": "ipython",
        "version": 3
      },
      "file_extension": ".py",
      "mimetype": "text/x-python",
      "name": "python",
      "nbconvert_exporter": "python",
      "pygments_lexer": "ipython3",
      "version": "3.8.3"
    },
    "colab": {
      "name": " Numpy_tasks_2.ipynb",
      "provenance": [],
      "include_colab_link": true
    }
  },
  "nbformat": 4,
  "nbformat_minor": 0
}